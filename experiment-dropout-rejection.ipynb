{
 "cells": [
  {
   "cell_type": "code",
   "execution_count": 1,
   "metadata": {},
   "outputs": [
    {
     "name": "stdout",
     "output_type": "stream",
     "text": [
      "Total classes:  29\n"
     ]
    }
   ],
   "source": [
    "import numpy as np\n",
    "from tensorflow import keras\n",
    "from sklearn import preprocessing\n",
    "\n",
    "# Load labels \n",
    "\n",
    "train_labels=np.load(\"train_labels.npy\")\n",
    "val_labels=np.load(\"val_labels.npy\")\n",
    "test_labels=np.load(\"test_labels.npy\")\n",
    "\n",
    "num_classes = len(np.unique(train_labels))\n",
    "print('Total classes: ',num_classes)\n",
    "\n",
    "# Encodes labels to categorical\n",
    "\n",
    "le = preprocessing.LabelEncoder()\n",
    "le.fit(train_labels)\n",
    "train_labels_num = le.transform(train_labels)\n",
    "val_labels_num = le.transform(val_labels)\n",
    "test_labels_num = le.transform(test_labels)\n",
    "\n",
    "train_labels_bin = keras.utils.to_categorical(train_labels_num, num_classes)\n",
    "val_labels_bin = keras.utils.to_categorical(val_labels_num, num_classes)\n",
    "test_labels_bin = keras.utils.to_categorical(test_labels_num, num_classes)\n",
    "\n"
   ]
  },
  {
   "cell_type": "code",
   "execution_count": 2,
   "metadata": {},
   "outputs": [
    {
     "name": "stdout",
     "output_type": "stream",
     "text": [
      "n. layers= 3  Encoder= 2mer  Noise= 0  Padding= new\n",
      "WARNING:tensorflow:From /usr/local/lib/python3.6/dist-packages/tensorflow/python/ops/resource_variable_ops.py:435: colocate_with (from tensorflow.python.framework.ops) is deprecated and will be removed in a future version.\n",
      "Instructions for updating:\n",
      "Colocations handled automatically by placer.\n",
      "WARNING:tensorflow:From /usr/local/lib/python3.6/dist-packages/tensorflow/python/keras/layers/core.py:143: calling dropout (from tensorflow.python.ops.nn_ops) with keep_prob is deprecated and will be removed in a future version.\n",
      "Instructions for updating:\n",
      "Please use `rate` instead of `keep_prob`. Rate should be set to `rate = 1 - keep_prob`.\n",
      "_________________________________________________________________\n",
      "Layer (type)                 Output Shape              Param #   \n",
      "=================================================================\n",
      "conv1d (Conv1D)              (None, 75, 32)            1664      \n",
      "_________________________________________________________________\n",
      "max_pooling1d (MaxPooling1D) (None, 37, 32)            0         \n",
      "_________________________________________________________________\n",
      "dropout (Dropout)            (None, 37, 32)            0         \n",
      "_________________________________________________________________\n",
      "conv1d_1 (Conv1D)            (None, 37, 64)            6208      \n",
      "_________________________________________________________________\n",
      "max_pooling1d_1 (MaxPooling1 (None, 18, 64)            0         \n",
      "_________________________________________________________________\n",
      "dropout_1 (Dropout)          (None, 18, 64)            0         \n",
      "_________________________________________________________________\n",
      "conv1d_2 (Conv1D)            (None, 18, 128)           24704     \n",
      "_________________________________________________________________\n",
      "max_pooling1d_2 (MaxPooling1 (None, 9, 128)            0         \n",
      "_________________________________________________________________\n",
      "dropout_2 (Dropout)          (None, 9, 128)            0         \n",
      "_________________________________________________________________\n",
      "flatten (Flatten)            (None, 1152)              0         \n",
      "_________________________________________________________________\n",
      "dense (Dense)                (None, 1000)              1153000   \n",
      "_________________________________________________________________\n",
      "dense_1 (Dense)              (None, 100)               100100    \n",
      "_________________________________________________________________\n",
      "dropout_3 (Dropout)          (None, 100)               0         \n",
      "_________________________________________________________________\n",
      "dense_2 (Dense)              (None, 29)                2929      \n",
      "=================================================================\n",
      "Total params: 1,288,605\n",
      "Trainable params: 1,288,605\n",
      "Non-trainable params: 0\n",
      "_________________________________________________________________\n",
      "None\n",
      "Train on 37932 samples, validate on 10170 samples\n",
      "WARNING:tensorflow:From /usr/local/lib/python3.6/dist-packages/tensorflow/python/ops/math_ops.py:3066: to_int32 (from tensorflow.python.ops.math_ops) is deprecated and will be removed in a future version.\n",
      "Instructions for updating:\n",
      "Use tf.cast instead.\n",
      "Epoch 1/10\n",
      "37932/37932 [==============================] - 19s 499us/sample - loss: 0.5276 - acc: 0.8530 - val_loss: 0.3555 - val_acc: 0.9150\n",
      "Epoch 2/10\n",
      "37932/37932 [==============================] - 16s 430us/sample - loss: 0.1024 - acc: 0.9713 - val_loss: 0.3325 - val_acc: 0.9246\n",
      "Epoch 3/10\n",
      "37932/37932 [==============================] - 16s 419us/sample - loss: 0.0737 - acc: 0.9796 - val_loss: 0.3066 - val_acc: 0.9286\n",
      "Epoch 4/10\n",
      "37932/37932 [==============================] - 16s 409us/sample - loss: 0.0626 - acc: 0.9832 - val_loss: 0.3550 - val_acc: 0.9214\n",
      "Epoch 5/10\n",
      "37932/37932 [==============================] - 16s 411us/sample - loss: 0.0548 - acc: 0.9853 - val_loss: 0.3498 - val_acc: 0.9263\n",
      "Epoch 6/10\n",
      "37932/37932 [==============================] - 15s 408us/sample - loss: 0.0524 - acc: 0.9855 - val_loss: 0.4350 - val_acc: 0.9163\n",
      "Epoch 7/10\n",
      "37932/37932 [==============================] - 16s 414us/sample - loss: 0.0480 - acc: 0.9874 - val_loss: 0.4474 - val_acc: 0.9204\n",
      "Epoch 8/10\n",
      "37932/37932 [==============================] - 15s 383us/sample - loss: 0.0515 - acc: 0.9872 - val_loss: 0.4227 - val_acc: 0.9249\n",
      "Epoch 9/10\n",
      "37932/37932 [==============================] - 15s 397us/sample - loss: 0.0502 - acc: 0.9882 - val_loss: 0.3827 - val_acc: 0.9347\n",
      "Epoch 10/10\n",
      "37932/37932 [==============================] - 16s 424us/sample - loss: 0.0468 - acc: 0.9885 - val_loss: 0.3840 - val_acc: 0.9385\n"
     ]
    },
    {
     "data": {
      "text/plain": [
       "<tensorflow.python.keras.callbacks.History at 0x7f2f480b2ac8>"
      ]
     },
     "execution_count": 2,
     "metadata": {},
     "output_type": "execute_result"
    }
   ],
   "source": [
    "from utils.ExpConfiguration import *\n",
    "from utils.modelUtils import *\n",
    "import numpy as np\n",
    "from sklearn.utils import shuffle\n",
    "import tensorflow as tf\n",
    "from tensorflow import keras\n",
    "from sklearn.metrics import f1_score\n",
    "from numpy.random import seed\n",
    "seed(1)\n",
    "from tensorflow import set_random_seed\n",
    "set_random_seed(2)\n",
    "\n",
    "\n",
    "padd = 'new' # CHANGE HERE to select other padding schemas (new, constant, random)\n",
    "\n",
    "en = seqEncoders[1] # CHANGE HERE to select different encoders\n",
    "\n",
    "\n",
    "batch_size = 32\n",
    "epochs = 10\n",
    "\n",
    "nl = 3\n",
    "bn = 0\n",
    "\n",
    "print('n. layers=',nl,' Encoder=',en['filename'],' Noise=',str(bn), ' Padding=',padd)\n",
    "train_seq=np.load('train_' + en['filename'] + '_' + padd + '_' + str(bn) + '_seq.npy')\n",
    "val_seq=np.load('val_' + en['filename'] + '_' + padd + '_' + str(bn) + '_seq.npy')\n",
    "test_seq=np.load('test_' + en['filename'] + '_' + padd + '_' + str(bn) + '_seq.npy')\n",
    "\n",
    "train_seq = keras.utils.to_categorical(train_seq)\n",
    "val_seq = keras.utils.to_categorical(val_seq)\n",
    "test_seq = keras.utils.to_categorical(test_seq)\n",
    "\n",
    "if (en['filename'] in ['1mer','2mer','3mer']):\n",
    "    m=buildCNNModel(inshape=train_seq.shape[1:],num_classes=num_classes,nlayers=nl,cnndim=1)\n",
    "else:\n",
    "    m=buildCNNModel(inshape=train_seq.shape[1:],num_classes=num_classes,nlayers=nl,cnndim=2)\n",
    "\n",
    "print(m.summary())\n",
    "\n",
    "m.compile(optimizer=keras.optimizers.Adam(lr=0.001),\n",
    "                  loss='categorical_crossentropy',\n",
    "                  metrics=['accuracy'])\n",
    "\n",
    "m.fit(train_seq, train_labels_bin,verbose=1,\n",
    "                  batch_size=batch_size,shuffle=True,\n",
    "                  epochs=epochs,#validation_split=0.33,\n",
    "                  validation_data=(val_seq, val_labels_bin))\n",
    "\n",
    "#pred = m.predict(test_seq, verbose=1)\n",
    "#predicted = np.argmax(pred, axis=1)\n"
   ]
  },
  {
   "cell_type": "code",
   "execution_count": 4,
   "metadata": {},
   "outputs": [],
   "source": [
    "import tensorflow.keras.backend as K\n",
    "\n",
    "#If you set the learning_phase to 0 you turn the dropout at test time off and if you set it to 1, it on \n",
    "model_mc = K.function([m.input, K.learning_phase()], [m.output])"
   ]
  },
  {
   "cell_type": "code",
   "execution_count": 5,
   "metadata": {},
   "outputs": [
    {
     "name": "stdout",
     "output_type": "stream",
     "text": [
      " Done 14530 total records\n"
     ]
    }
   ],
   "source": [
    "from utils.ExpConfiguration import *\n",
    "from utils.modelUtils import *\n",
    "\n",
    "testfile = 'test_rndseq_t1.fasta'\n",
    "test_labels_rnd = get_labels(testfile)\n",
    "\n",
    "seqTestRnd = get_seqs_with_bnoise(testfile,nperc=0)\n",
    "test_seq_rnd = encode_seqs(seqTestRnd,enc=en['enc'],encparam=en['param'+str(bn)],padding=padd)\n",
    "\n",
    "test_seq_rnd = keras.utils.to_categorical(test_seq_rnd)\n",
    "\n"
   ]
  },
  {
   "cell_type": "code",
   "execution_count": 64,
   "metadata": {},
   "outputs": [],
   "source": [
    "\n",
    "\n",
    "mc = 50\n",
    "maxp_rnd = np.empty((len(test_seq_rnd),mc))\n",
    "maxp_nornd = np.empty((len(test_seq),mc)) #np.zeros((len(test_seq_rnd)))\n",
    "maxp_train = np.zeros((len(train_seq)))\n",
    "argmaxp_rnd = np.empty((len(test_seq_rnd),mc))\n",
    "argmaxp_nornd = np.empty((len(test_seq),mc)) #np.zeros((len(test_seq_rnd)))\n",
    "\n",
    "\n",
    "\n",
    "for i in range(mc):\n",
    "    preds_nornd=model_mc([test_seq,1])\n",
    "    maxp_nornd[:,i]=np.amax(preds_nornd[0],1)\n",
    "    argmaxp_nornd[:,i]=np.argmax(preds_nornd[0],1)\n",
    "\n",
    "    \n",
    "    preds_train=model_mc([train_seq,1])\n",
    "    maxp_train = maxp_train + np.amax(preds_train[0],1)\n",
    "\n",
    "    preds_rnd=model_mc([test_seq_rnd,1])\n",
    "    maxp_rnd[:,i]=np.amax(preds_rnd[0],1)\n",
    "    argmaxp_rnd[:,i]=np.argmax(preds_rnd[0],1)\n",
    "\n",
    "\n",
    "\n",
    "#maxp_rnd = maxp_rnd/mc\n",
    "#maxp_nornd = maxp_nornd/mc\n",
    "maxp_train = maxp_train/mc"
   ]
  },
  {
   "cell_type": "code",
   "execution_count": 95,
   "metadata": {},
   "outputs": [],
   "source": [
    "vars_nornd = np.var(maxp_nornd,1)\n",
    "vars_rnd = np.var(maxp_rnd,1)\n",
    "means_nornd = np.mean(maxp_nornd,1)\n",
    "means_rnd = np.mean(maxp_rnd,1)\n",
    "\n",
    "unique_nornd=np.empty(argmaxp_nornd.shape[0])\n",
    "unique_rnd=np.empty(argmaxp_nornd.shape[0])\n",
    "for i in range(argmaxp_nornd.shape[0]):\n",
    "    unique_nornd[i] = len(np.unique(argmaxp_nornd[i,]))\n",
    "    unique_rnd[i] = len(np.unique(argmaxp_rnd[i,]))\n"
   ]
  },
  {
   "cell_type": "code",
   "execution_count": 97,
   "metadata": {},
   "outputs": [
    {
     "data": {
      "text/plain": [
       "array([ 9.,  4.,  7., ..., 10.,  9.,  6.])"
      ]
     },
     "execution_count": 97,
     "metadata": {},
     "output_type": "execute_result"
    }
   ],
   "source": [
    "unique_rnd"
   ]
  },
  {
   "cell_type": "code",
   "execution_count": 74,
   "metadata": {},
   "outputs": [
    {
     "data": {
      "text/plain": [
       "(14530, 50)"
      ]
     },
     "execution_count": 74,
     "metadata": {},
     "output_type": "execute_result"
    }
   ],
   "source": [
    "\n"
   ]
  },
  {
   "cell_type": "code",
   "execution_count": 102,
   "metadata": {},
   "outputs": [
    {
     "data": {
      "image/png": "[encoded data removed]",
      "text/plain": [
       "<Figure size 432x216 with 2 Axes>"
      ]
     },
     "metadata": {
      "needs_background": "light"
     },
     "output_type": "display_data"
    }
   ],
   "source": [
    "from sklearn.metrics import roc_curve\n",
    "from sklearn.metrics import roc_auc_score\n",
    "from matplotlib import pyplot\n",
    "\n",
    "\n",
    "pred_prob = np.concatenate([means_nornd, means_rnd])\n",
    "true_class = np.concatenate([np.ones(len(means_nornd)), np.zeros(len(means_rnd))])\n",
    "\n",
    "ns_auc = roc_auc_score(true_class, pred_prob)\n",
    "ns_fpr, ns_tpr, _ = roc_curve(true_class, pred_prob)\n",
    "\n",
    "\n",
    "fig, axs = pyplot.subplots(1, 2, constrained_layout=True,figsize=(6,3))\n",
    "fig.suptitle(en['filename'], fontsize=16)\n",
    "\n",
    "#pyplot.figure(figsize=(6,3))\n",
    "axs[0].plot(ns_fpr, ns_tpr, linestyle='-')\n",
    "axs[0].text(0.6, 0.2, 'AUC = %.2f' % ns_auc)\n",
    "axs[0].grid(linestyle='--')\n",
    "axs[0].set_xlabel('False Positive Rate')\n",
    "axs[0].set_ylabel('True Positive Rate')\n",
    "\n",
    "axs[1].hist([means_nornd, means_rnd], bins='auto', density=True, alpha=0.5, label=['Functional seq', 'Random seq'])\n",
    "\n",
    "axs[1].legend(loc='upper left')\n",
    "axs[1].grid(linestyle='--')\n",
    "axs[1].set_xlabel('Dropout Probability')\n",
    "\n",
    "#\n",
    "pyplot.savefig('figs/plot_rejection_'+en['filename']+'.pdf')\n",
    "pyplot.show()"
   ]
  },
  {
   "cell_type": "code",
   "execution_count": 103,
   "metadata": {},
   "outputs": [
    {
     "data": {
      "image/png": "[encoded data removed]",
      "text/plain": [
       "<Figure size 432x216 with 2 Axes>"
      ]
     },
     "metadata": {
      "needs_background": "light"
     },
     "output_type": "display_data"
    }
   ],
   "source": [
    "from sklearn.metrics import roc_curve\n",
    "from sklearn.metrics import roc_auc_score\n",
    "from matplotlib import pyplot\n",
    "\n",
    "\n",
    "pred_vars = np.concatenate([vars_nornd, vars_rnd])\n",
    "true_class = np.concatenate([np.zeros(len(vars_nornd)), np.ones(len(vars_rnd))])\n",
    "\n",
    "ns_auc = roc_auc_score(true_class, pred_vars)\n",
    "ns_fpr, ns_tpr, _ = roc_curve(true_class, pred_vars)\n",
    "\n",
    "\n",
    "fig, axs = pyplot.subplots(1, 2, constrained_layout=True,figsize=(6,3))\n",
    "fig.suptitle(en['filename'], fontsize=16)\n",
    "\n",
    "#pyplot.figure(figsize=(6,3))\n",
    "axs[0].plot(ns_fpr, ns_tpr, linestyle='-')\n",
    "axs[0].text(0.6, 0.2, 'AUC = %.2f' % ns_auc)\n",
    "axs[0].grid(linestyle='--')\n",
    "axs[0].set_xlabel('False Positive Rate')\n",
    "axs[0].set_ylabel('True Positive Rate')\n",
    "\n",
    "axs[1].hist([vars_nornd, vars_rnd], bins='auto', density=True, alpha=0.5, label=['Functional seq', 'Random seq'])\n",
    "\n",
    "axs[1].legend(loc='upper left')\n",
    "axs[1].grid(linestyle='--')\n",
    "axs[1].set_xlabel('Variance')\n",
    "\n",
    "#\n",
    "pyplot.savefig('figs/plot_rejection_vars_'+en['filename']+'.pdf')\n",
    "pyplot.show()"
   ]
  },
  {
   "cell_type": "code",
   "execution_count": 105,
   "metadata": {},
   "outputs": [
    {
     "data": {
      "image/png": "[encoded data removed]",
      "text/plain": [
       "<Figure size 432x216 with 2 Axes>"
      ]
     },
     "metadata": {
      "needs_background": "light"
     },
     "output_type": "display_data"
    }
   ],
   "source": [
    "from sklearn.metrics import roc_curve\n",
    "from sklearn.metrics import roc_auc_score\n",
    "from matplotlib import pyplot\n",
    "\n",
    "\n",
    "pred_unique = np.concatenate([unique_nornd, unique_rnd])\n",
    "true_class = np.concatenate([np.zeros(len(unique_nornd)), np.ones(len(unique_rnd))])\n",
    "\n",
    "ns_auc = roc_auc_score(true_class, pred_unique)\n",
    "ns_fpr, ns_tpr, _ = roc_curve(true_class, pred_unique)\n",
    "\n",
    "\n",
    "fig, axs = pyplot.subplots(1, 2, constrained_layout=True,figsize=(6,3))\n",
    "fig.suptitle(en['filename'], fontsize=16)\n",
    "\n",
    "#pyplot.figure(figsize=(6,3))\n",
    "axs[0].plot(ns_fpr, ns_tpr, linestyle='-')\n",
    "axs[0].text(0.6, 0.2, 'AUC = %.2f' % ns_auc)\n",
    "axs[0].grid(linestyle='--')\n",
    "axs[0].set_xlabel('False Positive Rate')\n",
    "axs[0].set_ylabel('True Positive Rate')\n",
    "\n",
    "axs[1].hist([unique_nornd, unique_rnd], bins='auto', density=True, alpha=0.5, label=['Functional seq', 'Random seq'])\n",
    "\n",
    "axs[1].legend(loc='upper left')\n",
    "axs[1].grid(linestyle='--')\n",
    "axs[1].set_xlabel('Classification divergence')\n",
    "\n",
    "#\n",
    "pyplot.savefig('figs/plot_rejection_unique_'+en['filename']+'.pdf')\n",
    "pyplot.show()"
   ]
  },
  {
   "cell_type": "code",
   "execution_count": null,
   "metadata": {},
   "outputs": [],
   "source": []
  }
 ],
 "metadata": {
  "kernelspec": {
   "display_name": "Python 3",
   "language": "python",
   "name": "python3"
  },
  "language_info": {
   "codemirror_mode": {
    "name": "ipython",
    "version": 3
   },
   "file_extension": ".py",
   "mimetype": "text/x-python",
   "name": "python",
   "nbconvert_exporter": "python",
   "pygments_lexer": "ipython3",
   "version": "3.6.9"
  }
 },
 "nbformat": 4,
 "nbformat_minor": 2
}
