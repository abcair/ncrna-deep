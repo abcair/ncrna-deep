{
 "cells": [
  {
   "cell_type": "markdown",
   "metadata": {},
   "source": [
    "## Experiments on _Rfam novel_ datasets"
   ]
  },
  {
   "cell_type": "code",
   "execution_count": 1,
   "metadata": {},
   "outputs": [
    {
     "name": "stderr",
     "output_type": "stream",
     "text": [
      "/usr/local/lib/python3.6/dist-packages/tensorflow/python/framework/dtypes.py:526: FutureWarning: Passing (type, 1) or '1type' as a synonym of type is deprecated; in a future version of numpy, it will be understood as (type, (1,)) / '(1,)type'.\n",
      "  _np_qint8 = np.dtype([(\"qint8\", np.int8, 1)])\n",
      "/usr/local/lib/python3.6/dist-packages/tensorflow/python/framework/dtypes.py:527: FutureWarning: Passing (type, 1) or '1type' as a synonym of type is deprecated; in a future version of numpy, it will be understood as (type, (1,)) / '(1,)type'.\n",
      "  _np_quint8 = np.dtype([(\"quint8\", np.uint8, 1)])\n",
      "/usr/local/lib/python3.6/dist-packages/tensorflow/python/framework/dtypes.py:528: FutureWarning: Passing (type, 1) or '1type' as a synonym of type is deprecated; in a future version of numpy, it will be understood as (type, (1,)) / '(1,)type'.\n",
      "  _np_qint16 = np.dtype([(\"qint16\", np.int16, 1)])\n",
      "/usr/local/lib/python3.6/dist-packages/tensorflow/python/framework/dtypes.py:529: FutureWarning: Passing (type, 1) or '1type' as a synonym of type is deprecated; in a future version of numpy, it will be understood as (type, (1,)) / '(1,)type'.\n",
      "  _np_quint16 = np.dtype([(\"quint16\", np.uint16, 1)])\n",
      "/usr/local/lib/python3.6/dist-packages/tensorflow/python/framework/dtypes.py:530: FutureWarning: Passing (type, 1) or '1type' as a synonym of type is deprecated; in a future version of numpy, it will be understood as (type, (1,)) / '(1,)type'.\n",
      "  _np_qint32 = np.dtype([(\"qint32\", np.int32, 1)])\n",
      "/usr/local/lib/python3.6/dist-packages/tensorflow/python/framework/dtypes.py:535: FutureWarning: Passing (type, 1) or '1type' as a synonym of type is deprecated; in a future version of numpy, it will be understood as (type, (1,)) / '(1,)type'.\n",
      "  np_resource = np.dtype([(\"resource\", np.ubyte, 1)])\n"
     ]
    },
    {
     "name": "stdout",
     "output_type": "stream",
     "text": [
      "1.13.1\n",
      "0.21.3\n",
      "1.18.5\n",
      "3.1.1\n",
      "0.24.2\n"
     ]
    }
   ],
   "source": [
    "import numpy\n",
    "import sklearn\n",
    "import tensorflow\n",
    "import matplotlib\n",
    "import pandas\n",
    "\n",
    "print(tensorflow.__version__)\n",
    "print(sklearn.__version__)\n",
    "print(numpy.__version__)\n",
    "print(matplotlib.__version__)\n",
    "print(pandas.__version__)"
   ]
  },
  {
   "cell_type": "code",
   "execution_count": 2,
   "metadata": {},
   "outputs": [
    {
     "name": "stdout",
     "output_type": "stream",
     "text": [
      "Total classes:  88\n"
     ]
    }
   ],
   "source": [
    "import numpy as np\n",
    "from tensorflow import keras\n",
    "from sklearn import preprocessing\n",
    "\n",
    "# Load labels \n",
    "\n",
    "train_labels=np.load(\"train_labels.npy\")\n",
    "val_labels=np.load(\"val_labels.npy\")\n",
    "test_labels=np.load(\"test_labels.npy\")\n",
    "\n",
    "num_classes = len(np.unique(train_labels))\n",
    "print('Total classes: ',num_classes)\n",
    "\n",
    "# Encodes labels to categorical\n",
    "\n",
    "le = preprocessing.LabelEncoder()\n",
    "le.fit(train_labels)\n",
    "train_labels_num = le.transform(train_labels)\n",
    "val_labels_num = le.transform(val_labels)\n",
    "test_labels_num = le.transform(test_labels)\n",
    "\n",
    "train_labels_bin = keras.utils.to_categorical(train_labels_num, num_classes)\n",
    "val_labels_bin = keras.utils.to_categorical(val_labels_num, num_classes)\n",
    "test_labels_bin = keras.utils.to_categorical(test_labels_num, num_classes)\n",
    "\n",
    "\n"
   ]
  },
  {
   "cell_type": "code",
   "execution_count": null,
   "metadata": {},
   "outputs": [
    {
     "name": "stdout",
     "output_type": "stream",
     "text": [
      "n. layers= 0  Encoder= 3mer  Noise= 0  Padding= random\n",
      "(105864, 67)\n",
      "(17324, 67)\n",
      "(25342, 67)\n",
      "WARNING:tensorflow:From /usr/local/lib/python3.6/dist-packages/tensorflow/python/ops/resource_variable_ops.py:435: colocate_with (from tensorflow.python.framework.ops) is deprecated and will be removed in a future version.\n",
      "Instructions for updating:\n",
      "Colocations handled automatically by placer.\n",
      "WARNING:tensorflow:From /usr/local/lib/python3.6/dist-packages/tensorflow/python/keras/layers/core.py:143: calling dropout (from tensorflow.python.ops.nn_ops) with keep_prob is deprecated and will be removed in a future version.\n",
      "Instructions for updating:\n",
      "Please use `rate` instead of `keep_prob`. Rate should be set to `rate = 1 - keep_prob`.\n",
      "_________________________________________________________________\n",
      "Layer (type)                 Output Shape              Param #   \n",
      "=================================================================\n",
      "dense (Dense)                (None, 500)               34000     \n",
      "_________________________________________________________________\n",
      "dense_1 (Dense)              (None, 1000)              501000    \n",
      "_________________________________________________________________\n",
      "dense_2 (Dense)              (None, 100)               100100    \n",
      "_________________________________________________________________\n",
      "dropout (Dropout)            (None, 100)               0         \n",
      "_________________________________________________________________\n",
      "dense_3 (Dense)              (None, 88)                8888      \n",
      "=================================================================\n",
      "Total params: 643,988\n",
      "Trainable params: 643,988\n",
      "Non-trainable params: 0\n",
      "_________________________________________________________________\n",
      "None\n",
      "Train on 105864 samples, validate on 17324 samples\n",
      "WARNING:tensorflow:From /usr/local/lib/python3.6/dist-packages/tensorflow/python/ops/math_ops.py:3066: to_int32 (from tensorflow.python.ops.math_ops) is deprecated and will be removed in a future version.\n",
      "Instructions for updating:\n",
      "Use tf.cast instead.\n",
      "Epoch 1/20\n",
      "105864/105864 [==============================] - 30s 288us/sample - loss: 1.4730 - acc: 0.6398 - val_loss: 3.1030 - val_acc: 0.3542\n",
      "Epoch 2/20\n",
      "105864/105864 [==============================] - 30s 282us/sample - loss: 0.9439 - acc: 0.7620 - val_loss: 3.0793 - val_acc: 0.4168\n",
      "Epoch 3/20\n",
      "105864/105864 [==============================] - 30s 282us/sample - loss: 0.7692 - acc: 0.8047 - val_loss: 3.1588 - val_acc: 0.4101\n",
      "Epoch 4/20\n",
      "105864/105864 [==============================] - 30s 281us/sample - loss: 0.6737 - acc: 0.8279 - val_loss: 3.0086 - val_acc: 0.4191\n",
      "Epoch 5/20\n",
      "105864/105864 [==============================] - 30s 281us/sample - loss: 0.6106 - acc: 0.8412 - val_loss: 2.9724 - val_acc: 0.4597\n",
      "Epoch 6/20\n",
      "105864/105864 [==============================] - 30s 284us/sample - loss: 0.5679 - acc: 0.8530 - val_loss: 2.9325 - val_acc: 0.4662\n",
      "Epoch 7/20\n",
      "105864/105864 [==============================] - 30s 283us/sample - loss: 0.5317 - acc: 0.8618 - val_loss: 3.0503 - val_acc: 0.4602\n",
      "Epoch 8/20\n",
      "105864/105864 [==============================] - 30s 281us/sample - loss: 0.5064 - acc: 0.8679 - val_loss: 2.9559 - val_acc: 0.4648\n",
      "Epoch 9/20\n",
      "105864/105864 [==============================] - 30s 281us/sample - loss: 0.4864 - acc: 0.8735 - val_loss: 3.1592 - val_acc: 0.4556\n",
      "Epoch 10/20\n",
      "105864/105864 [==============================] - 30s 282us/sample - loss: 0.4686 - acc: 0.8768 - val_loss: 3.2415 - val_acc: 0.4596\n",
      "Epoch 11/20\n",
      "105864/105864 [==============================] - 30s 283us/sample - loss: 0.4525 - acc: 0.8806 - val_loss: 3.2871 - val_acc: 0.4500\n",
      "Epoch 12/20\n",
      "105864/105864 [==============================] - 30s 282us/sample - loss: 0.4332 - acc: 0.8863 - val_loss: 3.6006 - val_acc: 0.4169\n",
      "Epoch 13/20\n",
      "105864/105864 [==============================] - 30s 280us/sample - loss: 0.4240 - acc: 0.8879 - val_loss: 3.3143 - val_acc: 0.4444\n",
      "Epoch 14/20\n",
      "105864/105864 [==============================] - 30s 281us/sample - loss: 0.4144 - acc: 0.8908 - val_loss: 3.3361 - val_acc: 0.4681\n",
      "Epoch 15/20\n",
      "105864/105864 [==============================] - 30s 280us/sample - loss: 0.3969 - acc: 0.8961 - val_loss: 3.3432 - val_acc: 0.4605\n",
      "Epoch 16/20\n",
      "105864/105864 [==============================] - 30s 284us/sample - loss: 0.3877 - acc: 0.8965 - val_loss: 3.5196 - val_acc: 0.4625\n",
      "Epoch 17/20\n",
      "105864/105864 [==============================] - 30s 281us/sample - loss: 0.3776 - acc: 0.8999 - val_loss: 3.6232 - val_acc: 0.4536\n",
      "Epoch 18/20\n",
      "105864/105864 [==============================] - 30s 279us/sample - loss: 0.3729 - acc: 0.9011 - val_loss: 3.3112 - val_acc: 0.4703\n",
      "Epoch 19/20\n",
      "105864/105864 [==============================] - 30s 280us/sample - loss: 0.3668 - acc: 0.9029 - val_loss: 3.5387 - val_acc: 0.4843\n",
      "Epoch 20/20\n",
      "105864/105864 [==============================] - 30s 283us/sample - loss: 0.3583 - acc: 0.9052 - val_loss: 3.6738 - val_acc: 0.4526\n",
      "25342/25342 [==============================] - 1s 40us/sample\n",
      "n. layers= 0  Encoder= 3mer  Noise= 25  Padding= random\n",
      "(105864, 84)\n",
      "(17324, 84)\n",
      "(25342, 84)\n",
      "_________________________________________________________________\n",
      "Layer (type)                 Output Shape              Param #   \n",
      "=================================================================\n",
      "dense (Dense)                (None, 500)               42500     \n",
      "_________________________________________________________________\n",
      "dense_1 (Dense)              (None, 1000)              501000    \n",
      "_________________________________________________________________\n",
      "dense_2 (Dense)              (None, 100)               100100    \n",
      "_________________________________________________________________\n",
      "dropout (Dropout)            (None, 100)               0         \n",
      "_________________________________________________________________\n",
      "dense_3 (Dense)              (None, 88)                8888      \n",
      "=================================================================\n",
      "Total params: 652,488\n",
      "Trainable params: 652,488\n",
      "Non-trainable params: 0\n",
      "_________________________________________________________________\n",
      "None\n",
      "Train on 105864 samples, validate on 17324 samples\n",
      "Epoch 1/20\n",
      "105864/105864 [==============================] - 31s 288us/sample - loss: 2.0666 - acc: 0.5087 - val_loss: 2.9769 - val_acc: 0.3507\n",
      "Epoch 2/20\n",
      "105864/105864 [==============================] - 30s 284us/sample - loss: 1.4844 - acc: 0.6378 - val_loss: 2.9753 - val_acc: 0.3571\n",
      "Epoch 3/20\n",
      "105864/105864 [==============================] - 30s 285us/sample - loss: 1.2841 - acc: 0.6845 - val_loss: 3.0542 - val_acc: 0.3347\n",
      "Epoch 4/20\n",
      "105864/105864 [==============================] - 30s 285us/sample - loss: 1.1623 - acc: 0.7123 - val_loss: 3.0085 - val_acc: 0.3594\n",
      "Epoch 5/20\n",
      "105864/105864 [==============================] - 30s 286us/sample - loss: 1.0801 - acc: 0.7333 - val_loss: 2.9096 - val_acc: 0.3761\n",
      "Epoch 6/20\n",
      "105864/105864 [==============================] - 30s 285us/sample - loss: 1.0190 - acc: 0.7462 - val_loss: 2.8401 - val_acc: 0.3772\n",
      "Epoch 7/20\n",
      "105864/105864 [==============================] - 30s 282us/sample - loss: 0.9687 - acc: 0.7575 - val_loss: 2.8590 - val_acc: 0.4119\n",
      "Epoch 8/20\n",
      "105864/105864 [==============================] - 30s 285us/sample - loss: 0.9218 - acc: 0.7683 - val_loss: 2.7536 - val_acc: 0.4333\n",
      "Epoch 9/20\n",
      "105864/105864 [==============================] - 30s 279us/sample - loss: 0.8860 - acc: 0.7773 - val_loss: 2.9620 - val_acc: 0.4006\n",
      "Epoch 10/20\n",
      "105864/105864 [==============================] - 30s 284us/sample - loss: 0.8549 - acc: 0.7835 - val_loss: 2.9761 - val_acc: 0.3968\n",
      "Epoch 11/20\n",
      "105864/105864 [==============================] - 30s 284us/sample - loss: 0.8237 - acc: 0.7912 - val_loss: 3.1055 - val_acc: 0.3629\n",
      "Epoch 12/20\n",
      "105864/105864 [==============================] - 30s 283us/sample - loss: 0.7978 - acc: 0.7973 - val_loss: 2.8761 - val_acc: 0.3998\n",
      "Epoch 13/20\n",
      "105864/105864 [==============================] - 30s 283us/sample - loss: 0.7721 - acc: 0.8026 - val_loss: 2.9771 - val_acc: 0.4009\n",
      "Epoch 14/20\n",
      "105864/105864 [==============================] - 30s 283us/sample - loss: 0.7541 - acc: 0.8065 - val_loss: 3.0792 - val_acc: 0.3944\n",
      "Epoch 15/20\n"
     ]
    },
    {
     "name": "stdout",
     "output_type": "stream",
     "text": [
      "105864/105864 [==============================] - 30s 285us/sample - loss: 0.7344 - acc: 0.8106 - val_loss: 2.8816 - val_acc: 0.4116\n",
      "Epoch 16/20\n",
      "105864/105864 [==============================] - 30s 284us/sample - loss: 0.7155 - acc: 0.8143 - val_loss: 3.1701 - val_acc: 0.3911\n",
      "Epoch 17/20\n",
      "105864/105864 [==============================] - 30s 283us/sample - loss: 0.6968 - acc: 0.8196 - val_loss: 3.0906 - val_acc: 0.4048\n",
      "Epoch 18/20\n",
      "105864/105864 [==============================] - 30s 283us/sample - loss: 0.6868 - acc: 0.8221 - val_loss: 3.0292 - val_acc: 0.4205\n",
      "Epoch 19/20\n",
      "105864/105864 [==============================] - 30s 284us/sample - loss: 0.6714 - acc: 0.8255 - val_loss: 3.1233 - val_acc: 0.4065\n",
      "Epoch 20/20\n",
      "105864/105864 [==============================] - 30s 284us/sample - loss: 0.6614 - acc: 0.8286 - val_loss: 3.2309 - val_acc: 0.4034\n",
      "25342/25342 [==============================] - 1s 42us/sample\n",
      "n. layers= 0  Encoder= 3mer  Noise= 50  Padding= random\n",
      "(105864, 100)\n",
      "(17324, 100)\n",
      "(25342, 100)\n",
      "_________________________________________________________________\n",
      "Layer (type)                 Output Shape              Param #   \n",
      "=================================================================\n",
      "dense (Dense)                (None, 500)               50500     \n",
      "_________________________________________________________________\n",
      "dense_1 (Dense)              (None, 1000)              501000    \n",
      "_________________________________________________________________\n",
      "dense_2 (Dense)              (None, 100)               100100    \n",
      "_________________________________________________________________\n",
      "dropout (Dropout)            (None, 100)               0         \n",
      "_________________________________________________________________\n",
      "dense_3 (Dense)              (None, 88)                8888      \n",
      "=================================================================\n",
      "Total params: 660,488\n",
      "Trainable params: 660,488\n",
      "Non-trainable params: 0\n",
      "_________________________________________________________________\n",
      "None\n",
      "Train on 105864 samples, validate on 17324 samples\n",
      "Epoch 1/20\n",
      "105864/105864 [==============================] - 30s 286us/sample - loss: 2.3515 - acc: 0.4376 - val_loss: 3.0944 - val_acc: 0.2674\n",
      "Epoch 2/20\n",
      "105864/105864 [==============================] - 30s 283us/sample - loss: 1.7965 - acc: 0.5655 - val_loss: 3.0685 - val_acc: 0.3089\n",
      "Epoch 3/20\n",
      "105864/105864 [==============================] - 30s 284us/sample - loss: 1.5867 - acc: 0.6113 - val_loss: 2.9574 - val_acc: 0.3459\n",
      "Epoch 4/20\n",
      "105864/105864 [==============================] - 30s 282us/sample - loss: 1.1744 - acc: 0.7057 - val_loss: 3.0230 - val_acc: 0.3461\n",
      "Epoch 9/20\n",
      "105864/105864 [==============================] - 30s 282us/sample - loss: 1.1333 - acc: 0.7154 - val_loss: 2.8952 - val_acc: 0.3770\n",
      "Epoch 10/20\n",
      "105864/105864 [==============================] - 30s 285us/sample - loss: 1.0902 - acc: 0.7239 - val_loss: 2.9625 - val_acc: 0.3785\n",
      "Epoch 11/20\n",
      "105864/105864 [==============================] - 30s 282us/sample - loss: 1.0631 - acc: 0.7306 - val_loss: 3.1584 - val_acc: 0.3386\n",
      "Epoch 12/20\n",
      "105864/105864 [==============================] - 30s 283us/sample - loss: 1.0310 - acc: 0.7383 - val_loss: 2.9962 - val_acc: 0.3705\n",
      "Epoch 13/20\n",
      "100544/105864 [===========================>..] - ETA: 1s - loss: 0.9970 - acc: 0.7460"
     ]
    },
    {
     "name": "stderr",
     "output_type": "stream",
     "text": [
      "IOPub message rate exceeded.\n",
      "The notebook server will temporarily stop sending output\n",
      "to the client in order to avoid crashing it.\n",
      "To change this limit, set the config variable\n",
      "`--NotebookApp.iopub_msg_rate_limit`.\n",
      "\n",
      "Current values:\n",
      "NotebookApp.iopub_msg_rate_limit=1000.0 (msgs/sec)\n",
      "NotebookApp.rate_limit_window=3.0 (secs)\n",
      "\n"
     ]
    },
    {
     "name": "stdout",
     "output_type": "stream",
     "text": [
      "105864/105864 [==============================] - 29s 270us/sample - loss: 0.8869 - acc: 0.7690 - val_loss: 3.0166 - val_acc: 0.3762\n",
      "Epoch 19/20\n",
      "105864/105864 [==============================] - 28s 267us/sample - loss: 0.8702 - acc: 0.7747 - val_loss: 3.1664 - val_acc: 0.3906\n",
      "Epoch 20/20\n",
      "105864/105864 [==============================] - 29s 270us/sample - loss: 0.8595 - acc: 0.7775 - val_loss: 3.1994 - val_acc: 0.3894\n",
      "25342/25342 [==============================] - 1s 42us/sample\n",
      "n. layers= 0  Encoder= 3mer  Noise= 75  Padding= random\n",
      "(105864, 117)\n",
      "(17324, 117)\n",
      "(25342, 117)\n",
      "_________________________________________________________________\n",
      "Layer (type)                 Output Shape              Param #   \n",
      "=================================================================\n",
      "dense (Dense)                (None, 500)               59000     \n",
      "_________________________________________________________________\n",
      "dense_1 (Dense)              (None, 1000)              501000    \n",
      "_________________________________________________________________\n",
      "dense_2 (Dense)              (None, 100)               100100    \n",
      "_________________________________________________________________\n",
      "dropout (Dropout)            (None, 100)               0         \n",
      "_________________________________________________________________\n",
      "dense_3 (Dense)              (None, 88)                8888      \n",
      "=================================================================\n",
      "Total params: 668,988\n",
      "Trainable params: 668,988\n",
      "Non-trainable params: 0\n",
      "_________________________________________________________________\n",
      "None\n",
      "Train on 105864 samples, validate on 17324 samples\n",
      "Epoch 1/20\n",
      "105864/105864 [==============================] - 30s 284us/sample - loss: 2.4510 - acc: 0.4110 - val_loss: 3.1981 - val_acc: 0.2495\n",
      "Epoch 2/20\n",
      "105864/105864 [==============================] - 29s 271us/sample - loss: 1.9567 - acc: 0.5242 - val_loss: 3.0464 - val_acc: 0.3041\n",
      "Epoch 3/20\n",
      "105864/105864 [==============================] - 29s 277us/sample - loss: 1.7600 - acc: 0.5666 - val_loss: 3.0801 - val_acc: 0.3189\n",
      "Epoch 4/20\n",
      " 43904/105864 [===========>..................] - ETA: 16s - loss: 1.6511 - acc: 0.5938"
     ]
    },
    {
     "name": "stderr",
     "output_type": "stream",
     "text": [
      "IOPub message rate exceeded.\n",
      "The notebook server will temporarily stop sending output\n",
      "to the client in order to avoid crashing it.\n",
      "To change this limit, set the config variable\n",
      "`--NotebookApp.iopub_msg_rate_limit`.\n",
      "\n",
      "Current values:\n",
      "NotebookApp.iopub_msg_rate_limit=1000.0 (msgs/sec)\n",
      "NotebookApp.rate_limit_window=3.0 (secs)\n",
      "\n"
     ]
    },
    {
     "name": "stdout",
     "output_type": "stream",
     "text": [
      "105864/105864 [==============================] - 29s 273us/sample - loss: 1.2607 - acc: 0.6826 - val_loss: 2.7858 - val_acc: 0.3858\n",
      "Epoch 11/20\n",
      "105864/105864 [==============================] - 29s 273us/sample - loss: 1.2204 - acc: 0.6906 - val_loss: 2.8852 - val_acc: 0.3674\n",
      "Epoch 12/20\n",
      "105864/105864 [==============================] - 29s 276us/sample - loss: 1.1849 - acc: 0.6994 - val_loss: 2.9785 - val_acc: 0.3659\n",
      "Epoch 13/20\n",
      "105864/105864 [==============================] - 29s 276us/sample - loss: 1.1585 - acc: 0.7050 - val_loss: 2.9433 - val_acc: 0.3496\n",
      "Epoch 14/20\n",
      "105864/105864 [==============================] - 29s 273us/sample - loss: 1.1334 - acc: 0.7111 - val_loss: 2.9221 - val_acc: 0.3608\n",
      "Epoch 15/20\n",
      "105864/105864 [==============================] - 28s 268us/sample - loss: 1.1115 - acc: 0.7161 - val_loss: 2.9490 - val_acc: 0.3774\n",
      "Epoch 16/20\n",
      " 54496/105864 [==============>...............] - ETA: 13s - loss: 1.0591 - acc: 0.7280"
     ]
    },
    {
     "name": "stderr",
     "output_type": "stream",
     "text": [
      "IOPub message rate exceeded.\n",
      "The notebook server will temporarily stop sending output\n",
      "to the client in order to avoid crashing it.\n",
      "To change this limit, set the config variable\n",
      "`--NotebookApp.iopub_msg_rate_limit`.\n",
      "\n",
      "Current values:\n",
      "NotebookApp.iopub_msg_rate_limit=1000.0 (msgs/sec)\n",
      "NotebookApp.rate_limit_window=3.0 (secs)\n",
      "\n"
     ]
    },
    {
     "name": "stdout",
     "output_type": "stream",
     "text": [
      "105864/105864 [==============================] - 29s 274us/sample - loss: 2.0732 - acc: 0.4894 - val_loss: 3.3044 - val_acc: 0.2214\n",
      "Epoch 3/20\n",
      "105864/105864 [==============================] - 29s 278us/sample - loss: 1.8989 - acc: 0.5287 - val_loss: 3.1895 - val_acc: 0.2524\n",
      "Epoch 4/20\n",
      "105864/105864 [==============================] - 29s 275us/sample - loss: 1.7642 - acc: 0.5607 - val_loss: 3.0809 - val_acc: 0.2735\n",
      "Epoch 5/20\n",
      "105864/105864 [==============================] - 29s 276us/sample - loss: 1.6709 - acc: 0.5824 - val_loss: 3.1414 - val_acc: 0.2745\n",
      "Epoch 6/20\n",
      "105864/105864 [==============================] - 29s 275us/sample - loss: 1.5890 - acc: 0.6022 - val_loss: 3.1037 - val_acc: 0.2994\n",
      "Epoch 7/20\n",
      "105864/105864 [==============================] - 29s 271us/sample - loss: 1.5269 - acc: 0.6155 - val_loss: 3.0936 - val_acc: 0.2816\n",
      "Epoch 8/20\n",
      " 51168/105864 [=============>................] - ETA: 14s - loss: 1.4706 - acc: 0.6271"
     ]
    },
    {
     "name": "stderr",
     "output_type": "stream",
     "text": [
      "IOPub message rate exceeded.\n",
      "The notebook server will temporarily stop sending output\n",
      "to the client in order to avoid crashing it.\n",
      "To change this limit, set the config variable\n",
      "`--NotebookApp.iopub_msg_rate_limit`.\n",
      "\n",
      "Current values:\n",
      "NotebookApp.iopub_msg_rate_limit=1000.0 (msgs/sec)\n",
      "NotebookApp.rate_limit_window=3.0 (secs)\n",
      "\n"
     ]
    },
    {
     "name": "stdout",
     "output_type": "stream",
     "text": [
      "105864/105864 [==============================] - 29s 272us/sample - loss: 1.2858 - acc: 0.6717 - val_loss: 3.1073 - val_acc: 0.3316\n",
      "Epoch 14/20\n",
      "105864/105864 [==============================] - 29s 276us/sample - loss: 1.2494 - acc: 0.6793 - val_loss: 3.0673 - val_acc: 0.3287\n",
      "Epoch 15/20\n",
      "105864/105864 [==============================] - 29s 274us/sample - loss: 1.2248 - acc: 0.6863 - val_loss: 3.0586 - val_acc: 0.3506\n",
      "Epoch 16/20\n",
      "105864/105864 [==============================] - 29s 273us/sample - loss: 1.2020 - acc: 0.6905 - val_loss: 3.0218 - val_acc: 0.3332\n",
      "Epoch 17/20\n",
      "105864/105864 [==============================] - 29s 275us/sample - loss: 1.1767 - acc: 0.6969 - val_loss: 2.9334 - val_acc: 0.3448\n",
      "Epoch 18/20\n",
      "105864/105864 [==============================] - 29s 276us/sample - loss: 1.1557 - acc: 0.7008 - val_loss: 3.0277 - val_acc: 0.3448\n",
      "Epoch 19/20\n",
      " 90624/105864 [========================>.....] - ETA: 3s - loss: 1.1324 - acc: 0.7063"
     ]
    },
    {
     "name": "stderr",
     "output_type": "stream",
     "text": [
      "IOPub message rate exceeded.\n",
      "The notebook server will temporarily stop sending output\n",
      "to the client in order to avoid crashing it.\n",
      "To change this limit, set the config variable\n",
      "`--NotebookApp.iopub_msg_rate_limit`.\n",
      "\n",
      "Current values:\n",
      "NotebookApp.iopub_msg_rate_limit=1000.0 (msgs/sec)\n",
      "NotebookApp.rate_limit_window=3.0 (secs)\n",
      "\n"
     ]
    },
    {
     "name": "stdout",
     "output_type": "stream",
     "text": [
      "105864/105864 [==============================] - 29s 276us/sample - loss: 1.8016 - acc: 0.5508 - val_loss: 3.3046 - val_acc: 0.2256\n",
      "Epoch 6/20\n",
      "105864/105864 [==============================] - 29s 276us/sample - loss: 1.7136 - acc: 0.5723 - val_loss: 3.1159 - val_acc: 0.2711\n",
      "Epoch 7/20\n",
      "105864/105864 [==============================] - 29s 273us/sample - loss: 1.6552 - acc: 0.5845 - val_loss: 3.0966 - val_acc: 0.2979\n",
      "Epoch 8/20\n",
      "105864/105864 [==============================] - 29s 275us/sample - loss: 1.5972 - acc: 0.5976 - val_loss: 3.0829 - val_acc: 0.2965\n",
      "Epoch 9/20\n",
      "105864/105864 [==============================] - 29s 276us/sample - loss: 1.5464 - acc: 0.6099 - val_loss: 3.0675 - val_acc: 0.2994\n",
      "Epoch 10/20\n",
      "105864/105864 [==============================] - 29s 277us/sample - loss: 1.5015 - acc: 0.6198 - val_loss: 2.9996 - val_acc: 0.3269\n",
      "Epoch 11/20\n",
      " 80192/105864 [=====================>........] - ETA: 6s - loss: 1.4559 - acc: 0.6301"
     ]
    },
    {
     "name": "stderr",
     "output_type": "stream",
     "text": [
      "IOPub message rate exceeded.\n",
      "The notebook server will temporarily stop sending output\n",
      "to the client in order to avoid crashing it.\n",
      "To change this limit, set the config variable\n",
      "`--NotebookApp.iopub_msg_rate_limit`.\n",
      "\n",
      "Current values:\n",
      "NotebookApp.iopub_msg_rate_limit=1000.0 (msgs/sec)\n",
      "NotebookApp.rate_limit_window=3.0 (secs)\n",
      "\n"
     ]
    },
    {
     "name": "stdout",
     "output_type": "stream",
     "text": [
      "105864/105864 [==============================] - 29s 275us/sample - loss: 1.2783 - acc: 0.6698 - val_loss: 3.1906 - val_acc: 0.3234\n",
      "Epoch 18/20\n",
      "105864/105864 [==============================] - 29s 278us/sample - loss: 1.2572 - acc: 0.6759 - val_loss: 3.2170 - val_acc: 0.2996\n",
      "Epoch 19/20\n",
      "105864/105864 [==============================] - 29s 272us/sample - loss: 1.2370 - acc: 0.6814 - val_loss: 3.0510 - val_acc: 0.3664\n",
      "Epoch 20/20\n",
      "105864/105864 [==============================] - 30s 279us/sample - loss: 1.2133 - acc: 0.6847 - val_loss: 3.1659 - val_acc: 0.3385\n",
      "25342/25342 [==============================] - 1s 44us/sample\n",
      "n. layers= 0  Encoder= 3mer  Noise= 150  Padding= random\n",
      "(105864, 167)\n",
      "(17324, 167)\n",
      "(25342, 167)\n",
      "_________________________________________________________________\n",
      "Layer (type)                 Output Shape              Param #   \n",
      "=================================================================\n",
      "dense (Dense)                (None, 500)               84000     \n",
      "_________________________________________________________________\n",
      "dense_1 (Dense)              (None, 1000)              501000    \n",
      "_________________________________________________________________\n",
      "dense_2 (Dense)              (None, 100)               100100    \n",
      "_________________________________________________________________\n",
      "dropout (Dropout)            (None, 100)               0         \n",
      "_________________________________________________________________\n",
      "dense_3 (Dense)              (None, 88)                8888      \n",
      "=================================================================\n",
      "Total params: 693,988\n",
      "Trainable params: 693,988\n",
      "Non-trainable params: 0\n",
      "_________________________________________________________________\n",
      "None\n",
      "Train on 105864 samples, validate on 17324 samples\n",
      "Epoch 1/20\n",
      "105864/105864 [==============================] - 29s 276us/sample - loss: 2.6798 - acc: 0.3378 - val_loss: 3.3517 - val_acc: 0.2126\n",
      "Epoch 2/20\n",
      "105864/105864 [==============================] - 29s 273us/sample - loss: 2.2433 - acc: 0.4415 - val_loss: 3.2520 - val_acc: 0.2319\n",
      "Epoch 3/20\n",
      " 23648/105864 [=====>........................] - ETA: 20s - loss: 2.1389 - acc: 0.4684"
     ]
    },
    {
     "name": "stderr",
     "output_type": "stream",
     "text": [
      "IOPub message rate exceeded.\n",
      "The notebook server will temporarily stop sending output\n",
      "to the client in order to avoid crashing it.\n",
      "To change this limit, set the config variable\n",
      "`--NotebookApp.iopub_msg_rate_limit`.\n",
      "\n",
      "Current values:\n",
      "NotebookApp.iopub_msg_rate_limit=1000.0 (msgs/sec)\n",
      "NotebookApp.rate_limit_window=3.0 (secs)\n",
      "\n"
     ]
    },
    {
     "name": "stdout",
     "output_type": "stream",
     "text": [
      "105864/105864 [==============================] - 29s 273us/sample - loss: 1.6340 - acc: 0.5875 - val_loss: 3.1906 - val_acc: 0.2477\n",
      "Epoch 10/20\n",
      "105864/105864 [==============================] - 30s 279us/sample - loss: 1.5930 - acc: 0.5951 - val_loss: 3.1716 - val_acc: 0.2901\n",
      "Epoch 11/20\n",
      "105864/105864 [==============================] - 29s 272us/sample - loss: 1.5501 - acc: 0.6062 - val_loss: 3.3056 - val_acc: 0.2770\n",
      "Epoch 12/20\n",
      "105864/105864 [==============================] - 29s 276us/sample - loss: 1.5172 - acc: 0.6147 - val_loss: 3.0258 - val_acc: 0.2989\n",
      "Epoch 13/20\n",
      "105864/105864 [==============================] - 29s 273us/sample - loss: 1.4748 - acc: 0.6241 - val_loss: 3.2739 - val_acc: 0.2845\n",
      "Epoch 14/20\n",
      "105864/105864 [==============================] - 29s 276us/sample - loss: 1.4441 - acc: 0.6311 - val_loss: 3.0276 - val_acc: 0.3257\n",
      "Epoch 15/20\n",
      "  5344/105864 [>.............................] - ETA: 27s - loss: 1.3485 - acc: 0.6508"
     ]
    },
    {
     "name": "stderr",
     "output_type": "stream",
     "text": [
      "IOPub message rate exceeded.\n",
      "The notebook server will temporarily stop sending output\n",
      "to the client in order to avoid crashing it.\n",
      "To change this limit, set the config variable\n",
      "`--NotebookApp.iopub_msg_rate_limit`.\n",
      "\n",
      "Current values:\n",
      "NotebookApp.iopub_msg_rate_limit=1000.0 (msgs/sec)\n",
      "NotebookApp.rate_limit_window=3.0 (secs)\n",
      "\n"
     ]
    },
    {
     "name": "stdout",
     "output_type": "stream",
     "text": [
      "105864/105864 [==============================] - 29s 278us/sample - loss: 2.7038 - acc: 0.3336 - val_loss: 3.4223 - val_acc: 0.1867\n",
      "Epoch 2/20\n",
      "105864/105864 [==============================] - 29s 278us/sample - loss: 2.2841 - acc: 0.4311 - val_loss: 3.2909 - val_acc: 0.2203\n",
      "Epoch 3/20\n",
      "105864/105864 [==============================] - 29s 278us/sample - loss: 2.1441 - acc: 0.4635 - val_loss: 3.3656 - val_acc: 0.2433\n",
      "Epoch 4/20\n",
      "105864/105864 [==============================] - 29s 270us/sample - loss: 2.0389 - acc: 0.4869 - val_loss: 3.3464 - val_acc: 0.2244\n",
      "Epoch 5/20\n",
      "105864/105864 [==============================] - 29s 275us/sample - loss: 1.9550 - acc: 0.5090 - val_loss: 3.4468 - val_acc: 0.2006\n",
      "Epoch 6/20\n",
      "101856/105864 [===========================>..] - ETA: 1s - loss: 1.8825 - acc: 0.5263"
     ]
    },
    {
     "name": "stderr",
     "output_type": "stream",
     "text": [
      "IOPub message rate exceeded.\n",
      "The notebook server will temporarily stop sending output\n",
      "to the client in order to avoid crashing it.\n",
      "To change this limit, set the config variable\n",
      "`--NotebookApp.iopub_msg_rate_limit`.\n",
      "\n",
      "Current values:\n",
      "NotebookApp.iopub_msg_rate_limit=1000.0 (msgs/sec)\n",
      "NotebookApp.rate_limit_window=3.0 (secs)\n",
      "\n"
     ]
    },
    {
     "name": "stdout",
     "output_type": "stream",
     "text": [
      "105864/105864 [==============================] - 29s 277us/sample - loss: 1.5946 - acc: 0.5922 - val_loss: 3.3801 - val_acc: 0.2557\n",
      "Epoch 13/20\n",
      "105864/105864 [==============================] - 29s 276us/sample - loss: 1.5580 - acc: 0.6006 - val_loss: 3.4938 - val_acc: 0.2282\n",
      "Epoch 14/20\n",
      "105864/105864 [==============================] - 29s 274us/sample - loss: 1.5302 - acc: 0.6075 - val_loss: 3.2708 - val_acc: 0.2780\n",
      "Epoch 15/20\n",
      "105864/105864 [==============================] - 29s 276us/sample - loss: 1.4989 - acc: 0.6146 - val_loss: 3.2037 - val_acc: 0.2626\n",
      "Epoch 16/20\n",
      "105864/105864 [==============================] - 29s 278us/sample - loss: 1.4659 - acc: 0.6213 - val_loss: 3.2648 - val_acc: 0.2834\n",
      "Epoch 17/20\n",
      "105864/105864 [==============================] - 29s 276us/sample - loss: 1.4405 - acc: 0.6288 - val_loss: 3.2643 - val_acc: 0.2729\n",
      "Epoch 18/20\n",
      " 44896/105864 [===========>..................] - ETA: 15s - loss: 1.4076 - acc: 0.6355"
     ]
    },
    {
     "name": "stderr",
     "output_type": "stream",
     "text": [
      "IOPub message rate exceeded.\n",
      "The notebook server will temporarily stop sending output\n",
      "to the client in order to avoid crashing it.\n",
      "To change this limit, set the config variable\n",
      "`--NotebookApp.iopub_msg_rate_limit`.\n",
      "\n",
      "Current values:\n",
      "NotebookApp.iopub_msg_rate_limit=1000.0 (msgs/sec)\n",
      "NotebookApp.rate_limit_window=3.0 (secs)\n",
      "\n"
     ]
    },
    {
     "name": "stdout",
     "output_type": "stream",
     "text": [
      "105864/105864 [==============================] - 29s 274us/sample - loss: 2.1108 - acc: 0.4666 - val_loss: 3.2731 - val_acc: 0.2259\n",
      "Epoch 5/20\n",
      "105864/105864 [==============================] - 29s 271us/sample - loss: 2.0251 - acc: 0.4895 - val_loss: 3.3078 - val_acc: 0.2468\n",
      "Epoch 6/20\n",
      "105864/105864 [==============================] - 29s 274us/sample - loss: 1.9577 - acc: 0.5049 - val_loss: 3.2732 - val_acc: 0.2304\n",
      "Epoch 7/20\n",
      "105864/105864 [==============================] - 29s 276us/sample - loss: 1.8956 - acc: 0.5212 - val_loss: 3.2042 - val_acc: 0.2610\n",
      "Epoch 8/20\n",
      "105864/105864 [==============================] - 29s 275us/sample - loss: 1.8402 - acc: 0.5320 - val_loss: 3.3707 - val_acc: 0.2285\n",
      "Epoch 9/20\n",
      "105864/105864 [==============================] - 28s 269us/sample - loss: 1.7847 - acc: 0.5464 - val_loss: 3.2110 - val_acc: 0.2359\n",
      "Epoch 10/20\n",
      " 62656/105864 [================>.............] - ETA: 10s - loss: 1.7359 - acc: 0.5570"
     ]
    },
    {
     "name": "stderr",
     "output_type": "stream",
     "text": [
      "IOPub message rate exceeded.\n",
      "The notebook server will temporarily stop sending output\n",
      "to the client in order to avoid crashing it.\n",
      "To change this limit, set the config variable\n",
      "`--NotebookApp.iopub_msg_rate_limit`.\n",
      "\n",
      "Current values:\n",
      "NotebookApp.iopub_msg_rate_limit=1000.0 (msgs/sec)\n",
      "NotebookApp.rate_limit_window=3.0 (secs)\n",
      "\n"
     ]
    },
    {
     "name": "stdout",
     "output_type": "stream",
     "text": [
      "105864/105864 [==============================] - 29s 274us/sample - loss: 1.5410 - acc: 0.6011 - val_loss: 3.2755 - val_acc: 0.2852\n",
      "Epoch 17/20\n",
      "105864/105864 [==============================] - 29s 271us/sample - loss: 1.5125 - acc: 0.6097 - val_loss: 3.3131 - val_acc: 0.2437\n",
      "Epoch 18/20\n",
      "105864/105864 [==============================] - 28s 266us/sample - loss: 1.4845 - acc: 0.6171 - val_loss: 3.3237 - val_acc: 0.2752\n",
      "Epoch 19/20\n",
      "105864/105864 [==============================] - 28s 268us/sample - loss: 1.4596 - acc: 0.6203 - val_loss: 3.2503 - val_acc: 0.2731\n",
      "Epoch 20/20\n",
      "105864/105864 [==============================] - 29s 271us/sample - loss: 1.4397 - acc: 0.6252 - val_loss: 3.1811 - val_acc: 0.3020\n",
      "25342/25342 [==============================] - 1s 42us/sample\n",
      "n. layers= 0  Encoder= 2mer  Noise= 0  Padding= random\n",
      "(105864, 100)\n",
      "(17324, 100)\n",
      "(25342, 100)\n",
      "_________________________________________________________________\n",
      "Layer (type)                 Output Shape              Param #   \n",
      "=================================================================\n",
      "dense (Dense)                (None, 500)               50500     \n",
      "_________________________________________________________________\n",
      "dense_1 (Dense)              (None, 1000)              501000    \n",
      "_________________________________________________________________\n",
      "dense_2 (Dense)              (None, 100)               100100    \n",
      "_________________________________________________________________\n",
      "dropout (Dropout)            (None, 100)               0         \n",
      "_________________________________________________________________\n",
      "dense_3 (Dense)              (None, 88)                8888      \n",
      "=================================================================\n",
      "Total params: 660,488\n",
      "Trainable params: 660,488\n",
      "Non-trainable params: 0\n",
      "_________________________________________________________________\n",
      "None\n",
      "Train on 105864 samples, validate on 17324 samples\n",
      "Epoch 1/20\n",
      "105864/105864 [==============================] - 29s 277us/sample - loss: 1.2239 - acc: 0.7009 - val_loss: 2.9383 - val_acc: 0.4427\n",
      "Epoch 2/20\n",
      " 82176/105864 [======================>.......] - ETA: 6s - loss: 0.7725 - acc: 0.8050"
     ]
    },
    {
     "name": "stderr",
     "output_type": "stream",
     "text": [
      "IOPub message rate exceeded.\n",
      "The notebook server will temporarily stop sending output\n",
      "to the client in order to avoid crashing it.\n",
      "To change this limit, set the config variable\n",
      "`--NotebookApp.iopub_msg_rate_limit`.\n",
      "\n",
      "Current values:\n",
      "NotebookApp.iopub_msg_rate_limit=1000.0 (msgs/sec)\n",
      "NotebookApp.rate_limit_window=3.0 (secs)\n",
      "\n"
     ]
    },
    {
     "name": "stdout",
     "output_type": "stream",
     "text": [
      "105864/105864 [==============================] - 25s 241us/sample - loss: 0.4574 - acc: 0.8811 - val_loss: 3.0783 - val_acc: 0.4822\n",
      "Epoch 7/20\n",
      "105864/105864 [==============================] - 29s 276us/sample - loss: 0.4216 - acc: 0.8899 - val_loss: 2.9705 - val_acc: 0.4937\n",
      "Epoch 8/20\n",
      "105864/105864 [==============================] - 29s 275us/sample - loss: 0.3998 - acc: 0.8952 - val_loss: 2.9243 - val_acc: 0.4956\n",
      "Epoch 9/20\n",
      "105864/105864 [==============================] - 29s 274us/sample - loss: 0.3780 - acc: 0.9009 - val_loss: 3.0423 - val_acc: 0.4905\n",
      "Epoch 10/20\n",
      "105864/105864 [==============================] - 29s 276us/sample - loss: 0.3579 - acc: 0.9057 - val_loss: 3.3459 - val_acc: 0.4783\n",
      "Epoch 11/20\n",
      "105864/105864 [==============================] - 29s 277us/sample - loss: 0.3450 - acc: 0.9096 - val_loss: 3.2686 - val_acc: 0.4920\n",
      "Epoch 12/20\n",
      "105864/105864 [==============================] - 29s 275us/sample - loss: 0.3370 - acc: 0.9118 - val_loss: 3.1254 - val_acc: 0.4859\n",
      "Epoch 13/20\n",
      "105864/105864 [==============================] - 30s 280us/sample - loss: 0.3240 - acc: 0.9144 - val_loss: 3.2094 - val_acc: 0.4997\n",
      "Epoch 14/20\n",
      "105864/105864 [==============================] - 29s 275us/sample - loss: 0.3112 - acc: 0.9176 - val_loss: 3.1719 - val_acc: 0.5173\n",
      "Epoch 15/20\n",
      "105864/105864 [==============================] - 30s 279us/sample - loss: 0.3138 - acc: 0.9182 - val_loss: 3.3283 - val_acc: 0.5145\n",
      "Epoch 16/20\n",
      "105864/105864 [==============================] - 29s 278us/sample - loss: 0.2973 - acc: 0.9225 - val_loss: 3.2404 - val_acc: 0.5085\n",
      "Epoch 17/20\n",
      "105864/105864 [==============================] - 30s 279us/sample - loss: 0.2942 - acc: 0.9227 - val_loss: 3.3557 - val_acc: 0.5216\n",
      "Epoch 18/20\n",
      "105864/105864 [==============================] - 29s 273us/sample - loss: 0.2817 - acc: 0.9264 - val_loss: 3.3776 - val_acc: 0.4980\n",
      "Epoch 19/20\n",
      "105864/105864 [==============================] - 29s 278us/sample - loss: 0.2853 - acc: 0.9266 - val_loss: 3.6059 - val_acc: 0.4766\n",
      "Epoch 20/20\n",
      "105864/105864 [==============================] - 29s 278us/sample - loss: 0.2785 - acc: 0.9279 - val_loss: 3.5406 - val_acc: 0.5099\n",
      "25342/25342 [==============================] - 1s 42us/sample\n",
      "n. layers= 0  Encoder= 2mer  Noise= 25  Padding= random\n",
      "(105864, 125)\n",
      "(17324, 125)\n",
      "(25342, 125)\n",
      "_________________________________________________________________\n",
      "Layer (type)                 Output Shape              Param #   \n",
      "=================================================================\n",
      "dense (Dense)                (None, 500)               63000     \n",
      "_________________________________________________________________\n",
      "dense_1 (Dense)              (None, 1000)              501000    \n",
      "_________________________________________________________________\n",
      "dense_2 (Dense)              (None, 100)               100100    \n",
      "_________________________________________________________________\n",
      "dropout (Dropout)            (None, 100)               0         \n",
      "_________________________________________________________________\n",
      "dense_3 (Dense)              (None, 88)                8888      \n",
      "=================================================================\n",
      "Total params: 672,988\n",
      "Trainable params: 672,988\n",
      "Non-trainable params: 0\n",
      "_________________________________________________________________\n",
      "None\n",
      "Train on 105864 samples, validate on 17324 samples\n",
      "Epoch 1/20\n",
      "105864/105864 [==============================] - 29s 277us/sample - loss: 1.8736 - acc: 0.5591 - val_loss: 3.0945 - val_acc: 0.3201\n",
      "Epoch 2/20\n",
      "105864/105864 [==============================] - 29s 271us/sample - loss: 1.2992 - acc: 0.6843 - val_loss: 3.0708 - val_acc: 0.3467\n",
      "Epoch 3/20\n",
      "105864/105864 [==============================] - 29s 274us/sample - loss: 1.0954 - acc: 0.7295 - val_loss: 2.8611 - val_acc: 0.3859\n",
      "Epoch 4/20\n",
      "105864/105864 [==============================] - 29s 273us/sample - loss: 0.9706 - acc: 0.7584 - val_loss: 2.8397 - val_acc: 0.4196\n",
      "Epoch 5/20\n",
      "105864/105864 [==============================] - 29s 278us/sample - loss: 0.7020 - acc: 0.8204 - val_loss: 2.8901 - val_acc: 0.4433\n",
      "Epoch 10/20\n",
      "105864/105864 [==============================] - 29s 274us/sample - loss: 0.6709 - acc: 0.8264 - val_loss: 2.8870 - val_acc: 0.4483\n",
      "Epoch 11/20\n",
      "105864/105864 [==============================] - 29s 278us/sample - loss: 0.6417 - acc: 0.8347 - val_loss: 3.3348 - val_acc: 0.3925\n",
      "Epoch 12/20\n",
      "105864/105864 [==============================] - 30s 279us/sample - loss: 0.6236 - acc: 0.8384 - val_loss: 2.9680 - val_acc: 0.4408\n",
      "Epoch 13/20\n",
      "105864/105864 [==============================] - 29s 272us/sample - loss: 0.6002 - acc: 0.8443 - val_loss: 2.8464 - val_acc: 0.4618\n",
      "Epoch 14/20\n",
      "105864/105864 [==============================] - 29s 275us/sample - loss: 0.5792 - acc: 0.8499 - val_loss: 3.0843 - val_acc: 0.4258\n",
      "Epoch 15/20\n",
      " 80896/105864 [=====================>........] - ETA: 6s - loss: 0.5607 - acc: 0.8517"
     ]
    },
    {
     "name": "stderr",
     "output_type": "stream",
     "text": [
      "IOPub message rate exceeded.\n",
      "The notebook server will temporarily stop sending output\n",
      "to the client in order to avoid crashing it.\n",
      "To change this limit, set the config variable\n",
      "`--NotebookApp.iopub_msg_rate_limit`.\n",
      "\n",
      "Current values:\n",
      "NotebookApp.iopub_msg_rate_limit=1000.0 (msgs/sec)\n",
      "NotebookApp.rate_limit_window=3.0 (secs)\n",
      "\n"
     ]
    },
    {
     "name": "stdout",
     "output_type": "stream",
     "text": [
      "105864/105864 [==============================] - 29s 277us/sample - loss: 0.5125 - acc: 0.8651 - val_loss: 3.3915 - val_acc: 0.4282\n",
      "Epoch 20/20\n",
      "105864/105864 [==============================] - 29s 277us/sample - loss: 0.5049 - acc: 0.8666 - val_loss: 3.2864 - val_acc: 0.4412\n",
      "25342/25342 [==============================] - 1s 43us/sample\n",
      "n. layers= 0  Encoder= 2mer  Noise= 50  Padding= random\n",
      "(105864, 150)\n",
      "(17324, 150)\n",
      "(25342, 150)\n",
      "_________________________________________________________________\n",
      "Layer (type)                 Output Shape              Param #   \n",
      "=================================================================\n",
      "dense (Dense)                (None, 500)               75500     \n",
      "_________________________________________________________________\n",
      "dense_1 (Dense)              (None, 1000)              501000    \n",
      "_________________________________________________________________\n",
      "dense_2 (Dense)              (None, 100)               100100    \n",
      "_________________________________________________________________\n",
      "dropout (Dropout)            (None, 100)               0         \n",
      "_________________________________________________________________\n",
      "dense_3 (Dense)              (None, 88)                8888      \n",
      "=================================================================\n",
      "Total params: 685,488\n",
      "Trainable params: 685,488\n",
      "Non-trainable params: 0\n",
      "_________________________________________________________________\n",
      "None\n",
      "Train on 105864 samples, validate on 17324 samples\n",
      "Epoch 1/20\n",
      "105864/105864 [==============================] - 30s 283us/sample - loss: 2.1487 - acc: 0.4882 - val_loss: 3.2159 - val_acc: 0.2838\n",
      "Epoch 2/20\n",
      "105864/105864 [==============================] - 30s 282us/sample - loss: 1.5874 - acc: 0.6136 - val_loss: 2.8532 - val_acc: 0.3832\n",
      "Epoch 3/20\n",
      "105864/105864 [==============================] - 29s 275us/sample - loss: 1.3815 - acc: 0.6585 - val_loss: 2.9108 - val_acc: 0.3462\n",
      "Epoch 4/20\n",
      "105864/105864 [==============================] - 29s 274us/sample - loss: 1.2473 - acc: 0.6895 - val_loss: 2.9000 - val_acc: 0.3574\n",
      "Epoch 5/20\n",
      " 52672/105864 [=============>................] - ETA: 13s - loss: 1.1638 - acc: 0.7066"
     ]
    },
    {
     "name": "stderr",
     "output_type": "stream",
     "text": [
      "IOPub message rate exceeded.\n",
      "The notebook server will temporarily stop sending output\n",
      "to the client in order to avoid crashing it.\n",
      "To change this limit, set the config variable\n",
      "`--NotebookApp.iopub_msg_rate_limit`.\n",
      "\n",
      "Current values:\n",
      "NotebookApp.iopub_msg_rate_limit=1000.0 (msgs/sec)\n",
      "NotebookApp.rate_limit_window=3.0 (secs)\n",
      "\n"
     ]
    },
    {
     "name": "stdout",
     "output_type": "stream",
     "text": [
      "105864/105864 [==============================] - 30s 279us/sample - loss: 0.8585 - acc: 0.7781 - val_loss: 3.0747 - val_acc: 0.3670\n",
      "Epoch 12/20\n",
      "105864/105864 [==============================] - 29s 273us/sample - loss: 0.8304 - acc: 0.7852 - val_loss: 3.1035 - val_acc: 0.3916\n",
      "Epoch 13/20\n",
      "105864/105864 [==============================] - 29s 273us/sample - loss: 0.8055 - acc: 0.7917 - val_loss: 2.9657 - val_acc: 0.3901\n",
      "Epoch 14/20\n",
      "105864/105864 [==============================] - 29s 276us/sample - loss: 0.7792 - acc: 0.7981 - val_loss: 3.0828 - val_acc: 0.3977\n",
      "Epoch 15/20\n",
      "105864/105864 [==============================] - 29s 278us/sample - loss: 0.7554 - acc: 0.8025 - val_loss: 3.0128 - val_acc: 0.4031\n",
      "Epoch 16/20\n",
      "105864/105864 [==============================] - 29s 276us/sample - loss: 0.7368 - acc: 0.8081 - val_loss: 3.1296 - val_acc: 0.4050\n",
      "Epoch 17/20\n",
      " 33152/105864 [========>.....................] - ETA: 18s - loss: 0.6864 - acc: 0.8192"
     ]
    },
    {
     "name": "stderr",
     "output_type": "stream",
     "text": [
      "IOPub message rate exceeded.\n",
      "The notebook server will temporarily stop sending output\n",
      "to the client in order to avoid crashing it.\n",
      "To change this limit, set the config variable\n",
      "`--NotebookApp.iopub_msg_rate_limit`.\n",
      "\n",
      "Current values:\n",
      "NotebookApp.iopub_msg_rate_limit=1000.0 (msgs/sec)\n",
      "NotebookApp.rate_limit_window=3.0 (secs)\n",
      "\n"
     ]
    },
    {
     "name": "stdout",
     "output_type": "stream",
     "text": [
      "105864/105864 [==============================] - 30s 281us/sample - loss: 1.5759 - acc: 0.6106 - val_loss: 3.0305 - val_acc: 0.3211\n",
      "Epoch 4/20\n",
      "105864/105864 [==============================] - 29s 279us/sample - loss: 1.4420 - acc: 0.6416 - val_loss: 2.9595 - val_acc: 0.3313\n",
      "Epoch 5/20\n",
      "105864/105864 [==============================] - 29s 277us/sample - loss: 1.3496 - acc: 0.6633 - val_loss: 2.9691 - val_acc: 0.3361\n",
      "Epoch 6/20\n",
      "105864/105864 [==============================] - 29s 274us/sample - loss: 1.2684 - acc: 0.6799 - val_loss: 2.8998 - val_acc: 0.3494\n",
      "Epoch 7/20\n",
      "105864/105864 [==============================] - 29s 275us/sample - loss: 1.2088 - acc: 0.6952 - val_loss: 2.8872 - val_acc: 0.3662\n",
      "Epoch 8/20\n",
      "105864/105864 [==============================] - 29s 275us/sample - loss: 1.1569 - acc: 0.7059 - val_loss: 3.0394 - val_acc: 0.3463\n",
      "Epoch 9/20\n",
      "  4352/105864 [>.............................] - ETA: 26s - loss: 1.0835 - acc: 0.7217"
     ]
    },
    {
     "name": "stderr",
     "output_type": "stream",
     "text": [
      "IOPub message rate exceeded.\n",
      "The notebook server will temporarily stop sending output\n",
      "to the client in order to avoid crashing it.\n",
      "To change this limit, set the config variable\n",
      "`--NotebookApp.iopub_msg_rate_limit`.\n",
      "\n",
      "Current values:\n",
      "NotebookApp.iopub_msg_rate_limit=1000.0 (msgs/sec)\n",
      "NotebookApp.rate_limit_window=3.0 (secs)\n",
      "\n"
     ]
    },
    {
     "name": "stdout",
     "output_type": "stream",
     "text": [
      "105864/105864 [==============================] - 29s 275us/sample - loss: 0.9136 - acc: 0.7621 - val_loss: 3.1636 - val_acc: 0.3644\n",
      "Epoch 16/20\n",
      "105864/105864 [==============================] - 29s 273us/sample - loss: 0.8907 - acc: 0.7675 - val_loss: 2.9053 - val_acc: 0.3828\n",
      "Epoch 17/20\n",
      "105864/105864 [==============================] - 29s 278us/sample - loss: 0.8723 - acc: 0.7726 - val_loss: 3.0367 - val_acc: 0.3919\n",
      "Epoch 18/20\n",
      "105864/105864 [==============================] - 29s 278us/sample - loss: 0.8506 - acc: 0.7765 - val_loss: 3.1238 - val_acc: 0.3770\n",
      "Epoch 19/20\n",
      "105864/105864 [==============================] - 29s 272us/sample - loss: 0.8327 - acc: 0.7819 - val_loss: 3.0653 - val_acc: 0.3958\n",
      "Epoch 20/20\n",
      " 99584/105864 [===========================>..] - ETA: 1s - loss: 0.8108 - acc: 0.7862"
     ]
    },
    {
     "name": "stderr",
     "output_type": "stream",
     "text": [
      "IOPub message rate exceeded.\n",
      "The notebook server will temporarily stop sending output\n",
      "to the client in order to avoid crashing it.\n",
      "To change this limit, set the config variable\n",
      "`--NotebookApp.iopub_msg_rate_limit`.\n",
      "\n",
      "Current values:\n",
      "NotebookApp.iopub_msg_rate_limit=1000.0 (msgs/sec)\n",
      "NotebookApp.rate_limit_window=3.0 (secs)\n",
      "\n"
     ]
    },
    {
     "name": "stdout",
     "output_type": "stream",
     "text": [
      "105864/105864 [==============================] - 30s 279us/sample - loss: 1.4217 - acc: 0.6420 - val_loss: 2.9923 - val_acc: 0.3327\n",
      "Epoch 7/20\n",
      "105864/105864 [==============================] - 29s 274us/sample - loss: 1.3605 - acc: 0.6577 - val_loss: 3.0342 - val_acc: 0.3036\n",
      "Epoch 8/20\n",
      "105864/105864 [==============================] - 29s 278us/sample - loss: 1.3064 - acc: 0.6680 - val_loss: 2.9614 - val_acc: 0.3287\n",
      "Epoch 9/20\n",
      "105864/105864 [==============================] - 29s 273us/sample - loss: 1.2545 - acc: 0.6813 - val_loss: 3.0004 - val_acc: 0.3171\n",
      "Epoch 10/20\n",
      "105864/105864 [==============================] - 29s 276us/sample - loss: 1.2160 - acc: 0.6889 - val_loss: 2.9799 - val_acc: 0.3425\n",
      "Epoch 11/20\n",
      "105864/105864 [==============================] - 29s 277us/sample - loss: 1.1728 - acc: 0.7000 - val_loss: 3.1580 - val_acc: 0.3388\n",
      "Epoch 12/20\n",
      " 84736/105864 [=======================>......] - ETA: 5s - loss: 1.1370 - acc: 0.7079"
     ]
    },
    {
     "name": "stderr",
     "output_type": "stream",
     "text": [
      "IOPub message rate exceeded.\n",
      "The notebook server will temporarily stop sending output\n",
      "to the client in order to avoid crashing it.\n",
      "To change this limit, set the config variable\n",
      "`--NotebookApp.iopub_msg_rate_limit`.\n",
      "\n",
      "Current values:\n",
      "NotebookApp.iopub_msg_rate_limit=1000.0 (msgs/sec)\n",
      "NotebookApp.rate_limit_window=3.0 (secs)\n",
      "\n"
     ]
    },
    {
     "name": "stdout",
     "output_type": "stream",
     "text": [
      "105864/105864 [==============================] - 29s 273us/sample - loss: 0.9794 - acc: 0.7438 - val_loss: 3.1952 - val_acc: 0.3403\n",
      "Epoch 19/20\n",
      "105864/105864 [==============================] - 29s 275us/sample - loss: 0.9483 - acc: 0.7509 - val_loss: 3.3423 - val_acc: 0.3293\n",
      "Epoch 20/20\n",
      "105864/105864 [==============================] - 29s 274us/sample - loss: 0.9366 - acc: 0.7548 - val_loss: 3.2564 - val_acc: 0.3534\n",
      "25342/25342 [==============================] - 1s 44us/sample\n",
      "n. layers= 0  Encoder= 2mer  Noise= 125  Padding= random\n",
      "(105864, 225)\n",
      "(17324, 225)\n",
      "(25342, 225)\n",
      "_________________________________________________________________\n",
      "Layer (type)                 Output Shape              Param #   \n",
      "=================================================================\n",
      "dense (Dense)                (None, 500)               113000    \n",
      "_________________________________________________________________\n",
      "dense_1 (Dense)              (None, 1000)              501000    \n",
      "_________________________________________________________________\n",
      "dense_2 (Dense)              (None, 100)               100100    \n",
      "_________________________________________________________________\n",
      "dropout (Dropout)            (None, 100)               0         \n",
      "_________________________________________________________________\n",
      "dense_3 (Dense)              (None, 88)                8888      \n",
      "=================================================================\n",
      "Total params: 722,988\n",
      "Trainable params: 722,988\n",
      "Non-trainable params: 0\n",
      "_________________________________________________________________\n",
      "None\n",
      "Train on 105864 samples, validate on 17324 samples\n",
      "Epoch 1/20\n",
      "105864/105864 [==============================] - 29s 276us/sample - loss: 2.5294 - acc: 0.3887 - val_loss: 3.4331 - val_acc: 0.1985\n",
      "Epoch 2/20\n",
      "105864/105864 [==============================] - 29s 271us/sample - loss: 2.0196 - acc: 0.5027 - val_loss: 3.0767 - val_acc: 0.2867\n",
      "Epoch 3/20\n",
      "105864/105864 [==============================] - 29s 277us/sample - loss: 1.8401 - acc: 0.5423 - val_loss: 3.1831 - val_acc: 0.2725\n",
      "Epoch 4/20\n",
      " 71552/105864 [===================>..........] - ETA: 9s - loss: 1.7211 - acc: 0.5691"
     ]
    },
    {
     "name": "stderr",
     "output_type": "stream",
     "text": [
      "IOPub message rate exceeded.\n",
      "The notebook server will temporarily stop sending output\n",
      "to the client in order to avoid crashing it.\n",
      "To change this limit, set the config variable\n",
      "`--NotebookApp.iopub_msg_rate_limit`.\n",
      "\n",
      "Current values:\n",
      "NotebookApp.iopub_msg_rate_limit=1000.0 (msgs/sec)\n",
      "NotebookApp.rate_limit_window=3.0 (secs)\n",
      "\n"
     ]
    },
    {
     "name": "stdout",
     "output_type": "stream",
     "text": [
      "105864/105864 [==============================] - 29s 273us/sample - loss: 1.3271 - acc: 0.6608 - val_loss: 3.0775 - val_acc: 0.3243\n",
      "Epoch 11/20\n",
      "105864/105864 [==============================] - 29s 277us/sample - loss: 1.2842 - acc: 0.6689 - val_loss: 3.2068 - val_acc: 0.3211\n",
      "Epoch 12/20\n",
      "105864/105864 [==============================] - 29s 277us/sample - loss: 1.2458 - acc: 0.6798 - val_loss: 3.0126 - val_acc: 0.3318\n",
      "Epoch 13/20\n",
      "105864/105864 [==============================] - 29s 275us/sample - loss: 1.2150 - acc: 0.6868 - val_loss: 3.0520 - val_acc: 0.3570\n",
      "Epoch 14/20\n",
      "105864/105864 [==============================] - 29s 276us/sample - loss: 1.1854 - acc: 0.6947 - val_loss: 3.2625 - val_acc: 0.3166\n",
      "Epoch 15/20\n",
      "105864/105864 [==============================] - 29s 277us/sample - loss: 1.1565 - acc: 0.7003 - val_loss: 3.1675 - val_acc: 0.3358\n",
      "Epoch 16/20\n",
      " 63520/105864 [=================>............] - ETA: 11s - loss: 1.1107 - acc: 0.7085"
     ]
    },
    {
     "name": "stderr",
     "output_type": "stream",
     "text": [
      "IOPub message rate exceeded.\n",
      "The notebook server will temporarily stop sending output\n",
      "to the client in order to avoid crashing it.\n",
      "To change this limit, set the config variable\n",
      "`--NotebookApp.iopub_msg_rate_limit`.\n",
      "\n",
      "Current values:\n",
      "NotebookApp.iopub_msg_rate_limit=1000.0 (msgs/sec)\n",
      "NotebookApp.rate_limit_window=3.0 (secs)\n",
      "\n"
     ]
    },
    {
     "name": "stdout",
     "output_type": "stream",
     "text": [
      "105864/105864 [==============================] - 28s 269us/sample - loss: 2.0992 - acc: 0.4809 - val_loss: 3.2856 - val_acc: 0.2409\n",
      "Epoch 3/20\n",
      "105864/105864 [==============================] - 29s 271us/sample - loss: 1.9351 - acc: 0.5171 - val_loss: 3.2218 - val_acc: 0.2585\n",
      "Epoch 4/20\n",
      "105864/105864 [==============================] - 28s 263us/sample - loss: 1.8146 - acc: 0.5457 - val_loss: 3.1784 - val_acc: 0.2727\n",
      "Epoch 5/20\n",
      "105864/105864 [==============================] - 29s 271us/sample - loss: 1.7142 - acc: 0.5691 - val_loss: 3.0426 - val_acc: 0.3029\n",
      "Epoch 6/20\n",
      "105864/105864 [==============================] - 28s 268us/sample - loss: 1.6421 - acc: 0.5842 - val_loss: 3.0734 - val_acc: 0.3147\n",
      "Epoch 7/20\n",
      "105864/105864 [==============================] - 28s 265us/sample - loss: 1.5756 - acc: 0.6007 - val_loss: 3.0516 - val_acc: 0.3087\n",
      "Epoch 8/20\n",
      " 74976/105864 [====================>.........] - ETA: 7s - loss: 1.5120 - acc: 0.6139"
     ]
    },
    {
     "name": "stderr",
     "output_type": "stream",
     "text": [
      "IOPub message rate exceeded.\n",
      "The notebook server will temporarily stop sending output\n",
      "to the client in order to avoid crashing it.\n",
      "To change this limit, set the config variable\n",
      "`--NotebookApp.iopub_msg_rate_limit`.\n",
      "\n",
      "Current values:\n",
      "NotebookApp.iopub_msg_rate_limit=1000.0 (msgs/sec)\n",
      "NotebookApp.rate_limit_window=3.0 (secs)\n",
      "\n"
     ]
    },
    {
     "name": "stdout",
     "output_type": "stream",
     "text": [
      "105864/105864 [==============================] - 28s 268us/sample - loss: 1.2374 - acc: 0.6780 - val_loss: 3.1633 - val_acc: 0.3287\n",
      "Epoch 16/20\n",
      "105864/105864 [==============================] - 29s 270us/sample - loss: 1.2144 - acc: 0.6850 - val_loss: 3.1387 - val_acc: 0.3412\n",
      "Epoch 17/20\n",
      "105864/105864 [==============================] - 29s 276us/sample - loss: 1.1851 - acc: 0.6909 - val_loss: 3.1505 - val_acc: 0.3374\n",
      "Epoch 18/20\n",
      "105864/105864 [==============================] - 29s 270us/sample - loss: 1.1577 - acc: 0.6961 - val_loss: 3.2680 - val_acc: 0.2901\n",
      "Epoch 19/20\n",
      "105864/105864 [==============================] - 29s 272us/sample - loss: 1.1354 - acc: 0.7033 - val_loss: 3.0638 - val_acc: 0.3258\n",
      "Epoch 20/20\n",
      "105864/105864 [==============================] - 29s 270us/sample - loss: 1.1130 - acc: 0.7069 - val_loss: 3.0836 - val_acc: 0.3622\n",
      " 9664/25342 [==========>...................] - ETA: 0s"
     ]
    },
    {
     "name": "stderr",
     "output_type": "stream",
     "text": [
      "IOPub message rate exceeded.\n",
      "The notebook server will temporarily stop sending output\n",
      "to the client in order to avoid crashing it.\n",
      "To change this limit, set the config variable\n",
      "`--NotebookApp.iopub_msg_rate_limit`.\n",
      "\n",
      "Current values:\n",
      "NotebookApp.iopub_msg_rate_limit=1000.0 (msgs/sec)\n",
      "NotebookApp.rate_limit_window=3.0 (secs)\n",
      "\n"
     ]
    },
    {
     "name": "stdout",
     "output_type": "stream",
     "text": [
      "105864/105864 [==============================] - 28s 267us/sample - loss: 1.7231 - acc: 0.5626 - val_loss: 3.3568 - val_acc: 0.2551\n",
      "Epoch 7/20\n",
      "105864/105864 [==============================] - 27s 255us/sample - loss: 1.6636 - acc: 0.5771 - val_loss: 3.1506 - val_acc: 0.2791\n",
      "Epoch 8/20\n",
      "105864/105864 [==============================] - 29s 270us/sample - loss: 1.6078 - acc: 0.5897 - val_loss: 3.1318 - val_acc: 0.2846\n",
      "Epoch 9/20\n",
      "105864/105864 [==============================] - 29s 274us/sample - loss: 1.5536 - acc: 0.6024 - val_loss: 3.2877 - val_acc: 0.2634\n",
      "Epoch 10/20\n",
      "105864/105864 [==============================] - 29s 276us/sample - loss: 1.5052 - acc: 0.6144 - val_loss: 3.1725 - val_acc: 0.2989\n",
      "Epoch 11/20\n",
      "105864/105864 [==============================] - 29s 278us/sample - loss: 1.4652 - acc: 0.6221 - val_loss: 3.1187 - val_acc: 0.3078\n",
      "Epoch 12/20\n",
      " 94912/105864 [=========================>....] - ETA: 2s - loss: 1.4227 - acc: 0.6330"
     ]
    },
    {
     "name": "stderr",
     "output_type": "stream",
     "text": [
      "IOPub message rate exceeded.\n",
      "The notebook server will temporarily stop sending output\n",
      "to the client in order to avoid crashing it.\n",
      "To change this limit, set the config variable\n",
      "`--NotebookApp.iopub_msg_rate_limit`.\n",
      "\n",
      "Current values:\n",
      "NotebookApp.iopub_msg_rate_limit=1000.0 (msgs/sec)\n",
      "NotebookApp.rate_limit_window=3.0 (secs)\n",
      "\n"
     ]
    },
    {
     "name": "stdout",
     "output_type": "stream",
     "text": [
      "105864/105864 [==============================] - 29s 278us/sample - loss: 1.2457 - acc: 0.6755 - val_loss: 3.2377 - val_acc: 0.3088\n",
      "Epoch 19/20\n",
      "105864/105864 [==============================] - 29s 278us/sample - loss: 1.2159 - acc: 0.6802 - val_loss: 3.2373 - val_acc: 0.3059\n",
      "Epoch 20/20\n",
      "105864/105864 [==============================] - 29s 277us/sample - loss: 1.2009 - acc: 0.6837 - val_loss: 3.2973 - val_acc: 0.3116\n",
      "25342/25342 [==============================] - 1s 46us/sample\n",
      "n. layers= 0  Encoder= 2mer  Noise= 200  Padding= random\n",
      "(105864, 300)\n",
      "(17324, 300)\n",
      "(25342, 300)\n",
      "_________________________________________________________________\n",
      "Layer (type)                 Output Shape              Param #   \n",
      "=================================================================\n",
      "dense (Dense)                (None, 500)               150500    \n",
      "_________________________________________________________________\n",
      "dense_1 (Dense)              (None, 1000)              501000    \n",
      "_________________________________________________________________\n",
      "dense_2 (Dense)              (None, 100)               100100    \n",
      "_________________________________________________________________\n",
      "dropout (Dropout)            (None, 100)               0         \n",
      "_________________________________________________________________\n",
      "dense_3 (Dense)              (None, 88)                8888      \n",
      "=================================================================\n",
      "Total params: 760,488\n",
      "Trainable params: 760,488\n",
      "Non-trainable params: 0\n",
      "_________________________________________________________________\n",
      "None\n",
      "Train on 105864 samples, validate on 17324 samples\n",
      "Epoch 1/20\n",
      "105864/105864 [==============================] - 30s 281us/sample - loss: 2.7196 - acc: 0.3302 - val_loss: 3.3616 - val_acc: 0.2117\n",
      "Epoch 2/20\n",
      "105864/105864 [==============================] - 29s 270us/sample - loss: 2.2401 - acc: 0.4438 - val_loss: 3.2563 - val_acc: 0.2498\n",
      "Epoch 3/20\n",
      "105864/105864 [==============================] - 29s 276us/sample - loss: 2.0824 - acc: 0.4780 - val_loss: 3.2383 - val_acc: 0.2203\n",
      "Epoch 4/20\n",
      " 77120/105864 [====================>.........] - ETA: 7s - loss: 1.9724 - acc: 0.5051"
     ]
    },
    {
     "name": "stderr",
     "output_type": "stream",
     "text": [
      "IOPub message rate exceeded.\n",
      "The notebook server will temporarily stop sending output\n",
      "to the client in order to avoid crashing it.\n",
      "To change this limit, set the config variable\n",
      "`--NotebookApp.iopub_msg_rate_limit`.\n",
      "\n",
      "Current values:\n",
      "NotebookApp.iopub_msg_rate_limit=1000.0 (msgs/sec)\n",
      "NotebookApp.rate_limit_window=3.0 (secs)\n",
      "\n"
     ]
    },
    {
     "name": "stdout",
     "output_type": "stream",
     "text": [
      "105864/105864 [==============================] - 29s 278us/sample - loss: 1.6403 - acc: 0.5816 - val_loss: 3.2177 - val_acc: 0.2749\n",
      "Epoch 10/20\n",
      "105864/105864 [==============================] - 29s 278us/sample - loss: 1.5867 - acc: 0.5943 - val_loss: 3.1395 - val_acc: 0.2907\n",
      "Epoch 11/20\n",
      "105864/105864 [==============================] - 29s 275us/sample - loss: 1.5494 - acc: 0.6027 - val_loss: 3.3745 - val_acc: 0.2416\n",
      "Epoch 12/20\n",
      "105864/105864 [==============================] - 29s 273us/sample - loss: 1.5005 - acc: 0.6152 - val_loss: 3.1634 - val_acc: 0.2852\n",
      "Epoch 13/20\n",
      "105864/105864 [==============================] - 29s 270us/sample - loss: 1.4688 - acc: 0.6220 - val_loss: 3.3418 - val_acc: 0.2588\n",
      "Epoch 14/20\n",
      "105864/105864 [==============================] - 30s 282us/sample - loss: 1.4381 - acc: 0.6285 - val_loss: 3.1827 - val_acc: 0.2865\n",
      "Epoch 15/20\n",
      " 65824/105864 [=================>............] - ETA: 10s - loss: 1.3842 - acc: 0.6406"
     ]
    },
    {
     "name": "stderr",
     "output_type": "stream",
     "text": [
      "IOPub message rate exceeded.\n",
      "The notebook server will temporarily stop sending output\n",
      "to the client in order to avoid crashing it.\n",
      "To change this limit, set the config variable\n",
      "`--NotebookApp.iopub_msg_rate_limit`.\n",
      "\n",
      "Current values:\n",
      "NotebookApp.iopub_msg_rate_limit=1000.0 (msgs/sec)\n",
      "NotebookApp.rate_limit_window=3.0 (secs)\n",
      "\n"
     ]
    },
    {
     "name": "stdout",
     "output_type": "stream",
     "text": [
      "105864/105864 [==============================] - 30s 279us/sample - loss: 0.6870 - acc: 0.8354 - val_loss: 3.2816 - val_acc: 0.4490\n",
      "Epoch 3/20\n",
      "105864/105864 [==============================] - 29s 273us/sample - loss: 0.5835 - acc: 0.8608 - val_loss: 3.5081 - val_acc: 0.4413\n",
      "Epoch 4/20\n",
      "105864/105864 [==============================] - 29s 277us/sample - loss: 0.5136 - acc: 0.8755 - val_loss: 3.4672 - val_acc: 0.4685\n",
      "Epoch 5/20\n",
      "105864/105864 [==============================] - 30s 281us/sample - loss: 0.4711 - acc: 0.8850 - val_loss: 3.4803 - val_acc: 0.4508\n",
      "Epoch 6/20\n",
      "105864/105864 [==============================] - 29s 277us/sample - loss: 0.4327 - acc: 0.8949 - val_loss: 3.4010 - val_acc: 0.4758\n",
      "Epoch 7/20\n",
      "105864/105864 [==============================] - 29s 276us/sample - loss: 0.4062 - acc: 0.8997 - val_loss: 3.5102 - val_acc: 0.4441\n",
      "Epoch 8/20\n",
      "    32/105864 [..............................] - ETA: 1:03 - loss: 0.1379 - acc: 0.9688"
     ]
    },
    {
     "name": "stderr",
     "output_type": "stream",
     "text": [
      "IOPub message rate exceeded.\n",
      "The notebook server will temporarily stop sending output\n",
      "to the client in order to avoid crashing it.\n",
      "To change this limit, set the config variable\n",
      "`--NotebookApp.iopub_msg_rate_limit`.\n",
      "\n",
      "Current values:\n",
      "NotebookApp.iopub_msg_rate_limit=1000.0 (msgs/sec)\n",
      "NotebookApp.rate_limit_window=3.0 (secs)\n",
      "\n"
     ]
    },
    {
     "name": "stdout",
     "output_type": "stream",
     "text": [
      "105864/105864 [==============================] - 29s 276us/sample - loss: 0.3432 - acc: 0.9145 - val_loss: 3.2524 - val_acc: 0.4926\n",
      "Epoch 11/20\n",
      "105864/105864 [==============================] - 30s 279us/sample - loss: 0.3273 - acc: 0.9192 - val_loss: 3.5937 - val_acc: 0.4752\n",
      "Epoch 12/20\n",
      " 71072/105864 [===================>..........] - ETA: 9s - loss: 0.3147 - acc: 0.9216"
     ]
    },
    {
     "name": "stderr",
     "output_type": "stream",
     "text": [
      "IOPub message rate exceeded.\n",
      "The notebook server will temporarily stop sending output\n",
      "to the client in order to avoid crashing it.\n",
      "To change this limit, set the config variable\n",
      "`--NotebookApp.iopub_msg_rate_limit`.\n",
      "\n",
      "Current values:\n",
      "NotebookApp.iopub_msg_rate_limit=1000.0 (msgs/sec)\n",
      "NotebookApp.rate_limit_window=3.0 (secs)\n",
      "\n"
     ]
    },
    {
     "name": "stdout",
     "output_type": "stream",
     "text": [
      "105864/105864 [==============================] - 30s 282us/sample - loss: 0.2962 - acc: 0.9279 - val_loss: 3.5148 - val_acc: 0.4897\n",
      "Epoch 16/20\n",
      "105864/105864 [==============================] - 30s 282us/sample - loss: 0.2860 - acc: 0.9311 - val_loss: 3.8472 - val_acc: 0.4905\n",
      "Epoch 17/20\n",
      "105864/105864 [==============================] - 29s 276us/sample - loss: 0.2825 - acc: 0.9319 - val_loss: 3.7964 - val_acc: 0.4901\n",
      "Epoch 18/20\n",
      "105864/105864 [==============================] - 29s 275us/sample - loss: 0.2720 - acc: 0.9349 - val_loss: 4.2353 - val_acc: 0.4896\n",
      "Epoch 19/20\n",
      " 78784/105864 [=====================>........] - ETA: 7s - loss: 0.2738 - acc: 0.9346"
     ]
    },
    {
     "name": "stderr",
     "output_type": "stream",
     "text": [
      "IOPub message rate exceeded.\n",
      "The notebook server will temporarily stop sending output\n",
      "to the client in order to avoid crashing it.\n",
      "To change this limit, set the config variable\n",
      "`--NotebookApp.iopub_msg_rate_limit`.\n",
      "\n",
      "Current values:\n",
      "NotebookApp.iopub_msg_rate_limit=1000.0 (msgs/sec)\n",
      "NotebookApp.rate_limit_window=3.0 (secs)\n",
      "\n"
     ]
    },
    {
     "name": "stdout",
     "output_type": "stream",
     "text": [
      "105864/105864 [==============================] - 29s 272us/sample - loss: 1.5568 - acc: 0.6417 - val_loss: 3.2649 - val_acc: 0.3136\n",
      "Epoch 3/20\n",
      "105864/105864 [==============================] - 30s 281us/sample - loss: 1.3033 - acc: 0.6963 - val_loss: 3.2881 - val_acc: 0.3271\n",
      "Epoch 4/20\n",
      " 34944/105864 [========>.....................] - ETA: 18s - loss: 1.1514 - acc: 0.7292"
     ]
    },
    {
     "name": "stderr",
     "output_type": "stream",
     "text": [
      "IOPub message rate exceeded.\n",
      "The notebook server will temporarily stop sending output\n",
      "to the client in order to avoid crashing it.\n",
      "To change this limit, set the config variable\n",
      "`--NotebookApp.iopub_msg_rate_limit`.\n",
      "\n",
      "Current values:\n",
      "NotebookApp.iopub_msg_rate_limit=1000.0 (msgs/sec)\n",
      "NotebookApp.rate_limit_window=3.0 (secs)\n",
      "\n"
     ]
    },
    {
     "name": "stdout",
     "output_type": "stream",
     "text": [
      "105864/105864 [==============================] - 30s 283us/sample - loss: 0.8503 - acc: 0.7930 - val_loss: 3.0264 - val_acc: 0.3637\n",
      "Epoch 8/20\n",
      "105864/105864 [==============================] - 29s 277us/sample - loss: 0.7867 - acc: 0.8075 - val_loss: 3.2058 - val_acc: 0.3765\n",
      "Epoch 9/20\n",
      "105864/105864 [==============================] - 29s 271us/sample - loss: 0.7376 - acc: 0.8173 - val_loss: 3.1754 - val_acc: 0.3909\n",
      "Epoch 10/20\n",
      "105864/105864 [==============================] - 29s 274us/sample - loss: 0.7089 - acc: 0.8253 - val_loss: 3.3290 - val_acc: 0.3799\n",
      "Epoch 11/20\n",
      " 56704/105864 [===============>..............] - ETA: 12s - loss: 0.6660 - acc: 0.8351"
     ]
    },
    {
     "name": "stderr",
     "output_type": "stream",
     "text": [
      "IOPub message rate exceeded.\n",
      "The notebook server will temporarily stop sending output\n",
      "to the client in order to avoid crashing it.\n",
      "To change this limit, set the config variable\n",
      "`--NotebookApp.iopub_msg_rate_limit`.\n",
      "\n",
      "Current values:\n",
      "NotebookApp.iopub_msg_rate_limit=1000.0 (msgs/sec)\n",
      "NotebookApp.rate_limit_window=3.0 (secs)\n",
      "\n"
     ]
    },
    {
     "name": "stdout",
     "output_type": "stream",
     "text": [
      "105864/105864 [==============================] - 29s 272us/sample - loss: 0.6024 - acc: 0.8497 - val_loss: 3.2240 - val_acc: 0.3908\n",
      "Epoch 15/20\n",
      "105864/105864 [==============================] - 29s 273us/sample - loss: 0.5844 - acc: 0.8532 - val_loss: 3.1803 - val_acc: 0.4101\n",
      "Epoch 16/20\n",
      " 20384/105864 [====>.........................] - ETA: 22s - loss: 0.5346 - acc: 0.8631"
     ]
    },
    {
     "name": "stderr",
     "output_type": "stream",
     "text": [
      "IOPub message rate exceeded.\n",
      "The notebook server will temporarily stop sending output\n",
      "to the client in order to avoid crashing it.\n",
      "To change this limit, set the config variable\n",
      "`--NotebookApp.iopub_msg_rate_limit`.\n",
      "\n",
      "Current values:\n",
      "NotebookApp.iopub_msg_rate_limit=1000.0 (msgs/sec)\n",
      "NotebookApp.rate_limit_window=3.0 (secs)\n",
      "\n"
     ]
    },
    {
     "name": "stdout",
     "output_type": "stream",
     "text": [
      "105864/105864 [==============================] - 29s 272us/sample - loss: 0.5316 - acc: 0.8688 - val_loss: 3.4717 - val_acc: 0.4049\n",
      "Epoch 20/20\n",
      "105864/105864 [==============================] - 29s 274us/sample - loss: 0.5264 - acc: 0.8698 - val_loss: 3.6791 - val_acc: 0.4130\n",
      "25342/25342 [==============================] - 1s 42us/sample\n",
      "n. layers= 0  Encoder= 1mer  Noise= 50  Padding= random\n",
      "(105864, 300)\n",
      "(17324, 300)\n",
      "(25342, 300)\n",
      "_________________________________________________________________\n",
      "Layer (type)                 Output Shape              Param #   \n",
      "=================================================================\n",
      "dense (Dense)                (None, 500)               150500    \n",
      "_________________________________________________________________\n",
      "dense_1 (Dense)              (None, 1000)              501000    \n",
      "_________________________________________________________________\n",
      "dense_2 (Dense)              (None, 100)               100100    \n",
      "_________________________________________________________________\n",
      "dropout (Dropout)            (None, 100)               0         \n",
      "_________________________________________________________________\n",
      "dense_3 (Dense)              (None, 88)                8888      \n",
      "=================================================================\n",
      "Total params: 760,488\n",
      "Trainable params: 760,488\n",
      "Non-trainable params: 0\n",
      "_________________________________________________________________\n",
      "None\n",
      "Train on 105864 samples, validate on 17324 samples\n",
      "Epoch 1/20\n",
      "105864/105864 [==============================] - 30s 279us/sample - loss: 2.7483 - acc: 0.3827 - val_loss: 3.5746 - val_acc: 0.2128\n",
      "Epoch 2/20\n",
      "105864/105864 [==============================] - 29s 278us/sample - loss: 2.0696 - acc: 0.5281 - val_loss: 3.4742 - val_acc: 0.2491\n",
      "Epoch 3/20\n",
      " 32960/105864 [========>.....................] - ETA: 19s - loss: 1.8432 - acc: 0.5757"
     ]
    },
    {
     "name": "stderr",
     "output_type": "stream",
     "text": [
      "IOPub message rate exceeded.\n",
      "The notebook server will temporarily stop sending output\n",
      "to the client in order to avoid crashing it.\n",
      "To change this limit, set the config variable\n",
      "`--NotebookApp.iopub_msg_rate_limit`.\n",
      "\n",
      "Current values:\n",
      "NotebookApp.iopub_msg_rate_limit=1000.0 (msgs/sec)\n",
      "NotebookApp.rate_limit_window=3.0 (secs)\n",
      "\n"
     ]
    },
    {
     "name": "stdout",
     "output_type": "stream",
     "text": [
      "105864/105864 [==============================] - 29s 276us/sample - loss: 1.3486 - acc: 0.6785 - val_loss: 3.2590 - val_acc: 0.3039\n",
      "Epoch 7/20\n",
      "105864/105864 [==============================] - 29s 275us/sample - loss: 1.2454 - acc: 0.7018 - val_loss: 3.3559 - val_acc: 0.2877\n",
      "Epoch 8/20\n",
      "  7104/105864 [=>............................] - ETA: 26s - loss: 1.1225 - acc: 0.7252"
     ]
    },
    {
     "name": "stderr",
     "output_type": "stream",
     "text": [
      "IOPub message rate exceeded.\n",
      "The notebook server will temporarily stop sending output\n",
      "to the client in order to avoid crashing it.\n",
      "To change this limit, set the config variable\n",
      "`--NotebookApp.iopub_msg_rate_limit`.\n",
      "\n",
      "Current values:\n",
      "NotebookApp.iopub_msg_rate_limit=1000.0 (msgs/sec)\n",
      "NotebookApp.rate_limit_window=3.0 (secs)\n",
      "\n"
     ]
    },
    {
     "name": "stdout",
     "output_type": "stream",
     "text": [
      "105864/105864 [==============================] - 29s 278us/sample - loss: 0.9910 - acc: 0.7569 - val_loss: 3.5207 - val_acc: 0.3060\n",
      "Epoch 12/20\n",
      "105864/105864 [==============================] - 29s 277us/sample - loss: 0.9515 - acc: 0.7656 - val_loss: 3.3787 - val_acc: 0.3129\n",
      "Epoch 13/20\n",
      "105864/105864 [==============================] - 30s 279us/sample - loss: 0.9115 - acc: 0.7741 - val_loss: 3.2012 - val_acc: 0.3536\n",
      "Epoch 14/20\n",
      "105864/105864 [==============================] - 29s 276us/sample - loss: 0.8820 - acc: 0.7799 - val_loss: 3.3983 - val_acc: 0.3431\n",
      "Epoch 15/20\n",
      " 40608/105864 [==========>...................] - ETA: 17s - loss: 0.8239 - acc: 0.7922"
     ]
    },
    {
     "name": "stderr",
     "output_type": "stream",
     "text": [
      "IOPub message rate exceeded.\n",
      "The notebook server will temporarily stop sending output\n",
      "to the client in order to avoid crashing it.\n",
      "To change this limit, set the config variable\n",
      "`--NotebookApp.iopub_msg_rate_limit`.\n",
      "\n",
      "Current values:\n",
      "NotebookApp.iopub_msg_rate_limit=1000.0 (msgs/sec)\n",
      "NotebookApp.rate_limit_window=3.0 (secs)\n",
      "\n"
     ]
    },
    {
     "name": "stdout",
     "output_type": "stream",
     "text": [
      "105864/105864 [==============================] - 29s 276us/sample - loss: 0.7855 - acc: 0.8035 - val_loss: 3.5733 - val_acc: 0.3187\n",
      "Epoch 19/20\n",
      "105864/105864 [==============================] - 29s 275us/sample - loss: 0.7596 - acc: 0.8099 - val_loss: 3.3609 - val_acc: 0.3406\n",
      "Epoch 20/20\n",
      " 19712/105864 [====>.........................] - ETA: 22s - loss: 0.6909 - acc: 0.8201"
     ]
    },
    {
     "name": "stderr",
     "output_type": "stream",
     "text": [
      "IOPub message rate exceeded.\n",
      "The notebook server will temporarily stop sending output\n",
      "to the client in order to avoid crashing it.\n",
      "To change this limit, set the config variable\n",
      "`--NotebookApp.iopub_msg_rate_limit`.\n",
      "\n",
      "Current values:\n",
      "NotebookApp.iopub_msg_rate_limit=1000.0 (msgs/sec)\n",
      "NotebookApp.rate_limit_window=3.0 (secs)\n",
      "\n"
     ]
    },
    {
     "name": "stdout",
     "output_type": "stream",
     "text": [
      "105864/105864 [==============================] - 29s 271us/sample - loss: 2.1293 - acc: 0.5130 - val_loss: 3.6403 - val_acc: 0.1777\n",
      "Epoch 4/20\n",
      "105864/105864 [==============================] - 28s 269us/sample - loss: 1.9444 - acc: 0.5506 - val_loss: 3.5526 - val_acc: 0.2305\n",
      "Epoch 5/20\n",
      "105864/105864 [==============================] - 29s 270us/sample - loss: 1.8018 - acc: 0.5796 - val_loss: 3.5531 - val_acc: 0.2451\n",
      "Epoch 6/20\n",
      "105864/105864 [==============================] - 29s 272us/sample - loss: 1.6818 - acc: 0.6048 - val_loss: 3.4480 - val_acc: 0.2331\n",
      "Epoch 7/20\n",
      " 33376/105864 [========>.....................] - ETA: 18s - loss: 1.5680 - acc: 0.6266"
     ]
    },
    {
     "name": "stderr",
     "output_type": "stream",
     "text": [
      "IOPub message rate exceeded.\n",
      "The notebook server will temporarily stop sending output\n",
      "to the client in order to avoid crashing it.\n",
      "To change this limit, set the config variable\n",
      "`--NotebookApp.iopub_msg_rate_limit`.\n",
      "\n",
      "Current values:\n",
      "NotebookApp.iopub_msg_rate_limit=1000.0 (msgs/sec)\n",
      "NotebookApp.rate_limit_window=3.0 (secs)\n",
      "\n"
     ]
    },
    {
     "name": "stdout",
     "output_type": "stream",
     "text": [
      "105864/105864 [==============================] - 28s 269us/sample - loss: 1.3468 - acc: 0.6759 - val_loss: 3.5200 - val_acc: 0.2736\n",
      "Epoch 11/20\n",
      "105864/105864 [==============================] - 29s 273us/sample - loss: 1.2954 - acc: 0.6871 - val_loss: 3.3789 - val_acc: 0.2771\n",
      "Epoch 12/20\n",
      "  8576/105864 [=>............................] - ETA: 24s - loss: 1.1963 - acc: 0.7067"
     ]
    },
    {
     "name": "stderr",
     "output_type": "stream",
     "text": [
      "IOPub message rate exceeded.\n",
      "The notebook server will temporarily stop sending output\n",
      "to the client in order to avoid crashing it.\n",
      "To change this limit, set the config variable\n",
      "`--NotebookApp.iopub_msg_rate_limit`.\n",
      "\n",
      "Current values:\n",
      "NotebookApp.iopub_msg_rate_limit=1000.0 (msgs/sec)\n",
      "NotebookApp.rate_limit_window=3.0 (secs)\n",
      "\n"
     ]
    },
    {
     "name": "stdout",
     "output_type": "stream",
     "text": [
      "105864/105864 [==============================] - 30s 279us/sample - loss: 1.1139 - acc: 0.7264 - val_loss: 3.3624 - val_acc: 0.3137\n",
      "Epoch 16/20\n",
      "105864/105864 [==============================] - 29s 269us/sample - loss: 1.0720 - acc: 0.7337 - val_loss: 3.6094 - val_acc: 0.2671\n",
      "Epoch 17/20\n",
      "105864/105864 [==============================] - 28s 266us/sample - loss: 1.0361 - acc: 0.7436 - val_loss: 3.6184 - val_acc: 0.2741\n",
      "Epoch 18/20\n",
      "105864/105864 [==============================] - 29s 278us/sample - loss: 1.0122 - acc: 0.7466 - val_loss: 3.5189 - val_acc: 0.3066\n",
      "Epoch 19/20\n",
      " 20000/105864 [====>.........................] - ETA: 23s - loss: 0.9136 - acc: 0.7661"
     ]
    },
    {
     "name": "stderr",
     "output_type": "stream",
     "text": [
      "IOPub message rate exceeded.\n",
      "The notebook server will temporarily stop sending output\n",
      "to the client in order to avoid crashing it.\n",
      "To change this limit, set the config variable\n",
      "`--NotebookApp.iopub_msg_rate_limit`.\n",
      "\n",
      "Current values:\n",
      "NotebookApp.iopub_msg_rate_limit=1000.0 (msgs/sec)\n",
      "NotebookApp.rate_limit_window=3.0 (secs)\n",
      "\n"
     ]
    },
    {
     "name": "stdout",
     "output_type": "stream",
     "text": [
      "105864/105864 [==============================] - 30s 279us/sample - loss: 2.6522 - acc: 0.3982 - val_loss: 3.9065 - val_acc: 0.1392\n",
      "Epoch 3/20\n",
      " 85568/105864 [=======================>......] - ETA: 5s - loss: 2.4170 - acc: 0.4483"
     ]
    },
    {
     "name": "stderr",
     "output_type": "stream",
     "text": [
      "IOPub message rate exceeded.\n",
      "The notebook server will temporarily stop sending output\n",
      "to the client in order to avoid crashing it.\n",
      "To change this limit, set the config variable\n",
      "`--NotebookApp.iopub_msg_rate_limit`.\n",
      "\n",
      "Current values:\n",
      "NotebookApp.iopub_msg_rate_limit=1000.0 (msgs/sec)\n",
      "NotebookApp.rate_limit_window=3.0 (secs)\n",
      "\n"
     ]
    },
    {
     "name": "stdout",
     "output_type": "stream",
     "text": [
      "105864/105864 [==============================] - 29s 275us/sample - loss: 1.9662 - acc: 0.5442 - val_loss: 3.8287 - val_acc: 0.1758\n",
      "Epoch 7/20\n",
      "105864/105864 [==============================] - 29s 275us/sample - loss: 1.8699 - acc: 0.5651 - val_loss: 3.6020 - val_acc: 0.2097\n",
      "Epoch 8/20\n",
      "105864/105864 [==============================] - 29s 274us/sample - loss: 1.7842 - acc: 0.5818 - val_loss: 3.6601 - val_acc: 0.2265\n",
      "Epoch 9/20\n",
      "105864/105864 [==============================] - 30s 281us/sample - loss: 1.6965 - acc: 0.6013 - val_loss: 3.6639 - val_acc: 0.2165\n",
      "Epoch 10/20\n",
      " 84416/105864 [======================>.......] - ETA: 5s - loss: 1.6253 - acc: 0.6145"
     ]
    },
    {
     "name": "stderr",
     "output_type": "stream",
     "text": [
      "IOPub message rate exceeded.\n",
      "The notebook server will temporarily stop sending output\n",
      "to the client in order to avoid crashing it.\n",
      "To change this limit, set the config variable\n",
      "`--NotebookApp.iopub_msg_rate_limit`.\n",
      "\n",
      "Current values:\n",
      "NotebookApp.iopub_msg_rate_limit=1000.0 (msgs/sec)\n",
      "NotebookApp.rate_limit_window=3.0 (secs)\n",
      "\n"
     ]
    },
    {
     "name": "stdout",
     "output_type": "stream",
     "text": [
      "105864/105864 [==============================] - 29s 277us/sample - loss: 1.4546 - acc: 0.6491 - val_loss: 3.7680 - val_acc: 0.2227\n",
      "Epoch 14/20\n",
      "105864/105864 [==============================] - 29s 275us/sample - loss: 1.4016 - acc: 0.6599 - val_loss: 3.7405 - val_acc: 0.2363\n",
      "Epoch 15/20\n",
      "105864/105864 [==============================] - 29s 276us/sample - loss: 1.3590 - acc: 0.6687 - val_loss: 3.7990 - val_acc: 0.2140\n",
      "Epoch 16/20\n",
      "105864/105864 [==============================] - 29s 277us/sample - loss: 1.3241 - acc: 0.6770 - val_loss: 3.7409 - val_acc: 0.2272\n",
      "Epoch 17/20\n",
      "105864/105864 [==============================] - 30s 279us/sample - loss: 1.2783 - acc: 0.6863 - val_loss: 3.7563 - val_acc: 0.2427\n",
      "Epoch 18/20\n",
      "105864/105864 [==============================] - 29s 278us/sample - loss: 1.2451 - acc: 0.6928 - val_loss: 3.7756 - val_acc: 0.2481\n",
      "Epoch 19/20\n",
      " 70240/105864 [==================>...........] - ETA: 9s - loss: 1.1976 - acc: 0.7028"
     ]
    },
    {
     "name": "stderr",
     "output_type": "stream",
     "text": [
      "IOPub message rate exceeded.\n",
      "The notebook server will temporarily stop sending output\n",
      "to the client in order to avoid crashing it.\n",
      "To change this limit, set the config variable\n",
      "`--NotebookApp.iopub_msg_rate_limit`.\n",
      "\n",
      "Current values:\n",
      "NotebookApp.iopub_msg_rate_limit=1000.0 (msgs/sec)\n",
      "NotebookApp.rate_limit_window=3.0 (secs)\n",
      "\n"
     ]
    },
    {
     "name": "stdout",
     "output_type": "stream",
     "text": [
      "105864/105864 [==============================] - 29s 275us/sample - loss: 2.2984 - acc: 0.4706 - val_loss: 3.7724 - val_acc: 0.1563\n",
      "Epoch 6/20\n",
      "105864/105864 [==============================] - 29s 273us/sample - loss: 2.1880 - acc: 0.4960 - val_loss: 3.9702 - val_acc: 0.1397\n",
      "Epoch 7/20\n",
      "105864/105864 [==============================] - 29s 275us/sample - loss: 2.0801 - acc: 0.5193 - val_loss: 3.6844 - val_acc: 0.1959\n",
      "Epoch 8/20\n",
      "105864/105864 [==============================] - 30s 281us/sample - loss: 1.9900 - acc: 0.5380 - val_loss: 3.7790 - val_acc: 0.1710\n",
      "Epoch 9/20\n",
      "105864/105864 [==============================] - 29s 279us/sample - loss: 1.9037 - acc: 0.5549 - val_loss: 3.7840 - val_acc: 0.1801\n",
      "Epoch 10/20\n",
      "105864/105864 [==============================] - 29s 276us/sample - loss: 1.8340 - acc: 0.5689 - val_loss: 3.9680 - val_acc: 0.1888\n",
      "Epoch 11/20\n",
      " 41952/105864 [==========>...................] - ETA: 17s - loss: 1.7524 - acc: 0.5842"
     ]
    },
    {
     "name": "stderr",
     "output_type": "stream",
     "text": [
      "IOPub message rate exceeded.\n",
      "The notebook server will temporarily stop sending output\n",
      "to the client in order to avoid crashing it.\n",
      "To change this limit, set the config variable\n",
      "`--NotebookApp.iopub_msg_rate_limit`.\n",
      "\n",
      "Current values:\n",
      "NotebookApp.iopub_msg_rate_limit=1000.0 (msgs/sec)\n",
      "NotebookApp.rate_limit_window=3.0 (secs)\n",
      "\n"
     ]
    },
    {
     "name": "stdout",
     "output_type": "stream",
     "text": [
      "105864/105864 [==============================] - 30s 282us/sample - loss: 1.4747 - acc: 0.6406 - val_loss: 3.8078 - val_acc: 0.2094\n",
      "Epoch 18/20\n",
      "105864/105864 [==============================] - 30s 280us/sample - loss: 1.4346 - acc: 0.6503 - val_loss: 3.9209 - val_acc: 0.2037\n",
      "Epoch 19/20\n",
      "105864/105864 [==============================] - 29s 273us/sample - loss: 1.3983 - acc: 0.6566 - val_loss: 3.9324 - val_acc: 0.2113\n",
      "Epoch 20/20\n",
      "105864/105864 [==============================] - 30s 280us/sample - loss: 1.3611 - acc: 0.6653 - val_loss: 4.0001 - val_acc: 0.2224\n",
      "25342/25342 [==============================] - 1s 47us/sample\n",
      "n. layers= 0  Encoder= 1mer  Noise= 150  Padding= random\n",
      "(105864, 500)\n",
      "(17324, 500)\n",
      "(25342, 500)\n",
      "_________________________________________________________________\n",
      "Layer (type)                 Output Shape              Param #   \n",
      "=================================================================\n",
      "dense (Dense)                (None, 500)               250500    \n",
      "_________________________________________________________________\n",
      "dense_1 (Dense)              (None, 1000)              501000    \n",
      "_________________________________________________________________\n",
      "dense_2 (Dense)              (None, 100)               100100    \n",
      "_________________________________________________________________\n",
      "dropout (Dropout)            (None, 100)               0         \n",
      "_________________________________________________________________\n",
      "dense_3 (Dense)              (None, 88)                8888      \n",
      "=================================================================\n",
      "Total params: 860,488\n",
      "Trainable params: 860,488\n",
      "Non-trainable params: 0\n",
      "_________________________________________________________________\n",
      "None\n",
      "Train on 105864 samples, validate on 17324 samples\n",
      "Epoch 1/20\n",
      "105864/105864 [==============================] - 30s 282us/sample - loss: 3.5874 - acc: 0.1977 - val_loss: 4.0693 - val_acc: 0.0886\n",
      "Epoch 2/20\n",
      "105864/105864 [==============================] - 29s 278us/sample - loss: 2.9957 - acc: 0.3218 - val_loss: 3.9430 - val_acc: 0.1429\n",
      "Epoch 3/20\n",
      " 46304/105864 [============>.................] - ETA: 14s - loss: 2.7942 - acc: 0.3629"
     ]
    },
    {
     "name": "stderr",
     "output_type": "stream",
     "text": [
      "IOPub message rate exceeded.\n",
      "The notebook server will temporarily stop sending output\n",
      "to the client in order to avoid crashing it.\n",
      "To change this limit, set the config variable\n",
      "`--NotebookApp.iopub_msg_rate_limit`.\n",
      "\n",
      "Current values:\n",
      "NotebookApp.iopub_msg_rate_limit=1000.0 (msgs/sec)\n",
      "NotebookApp.rate_limit_window=3.0 (secs)\n",
      "\n"
     ]
    },
    {
     "name": "stdout",
     "output_type": "stream",
     "text": [
      "105864/105864 [==============================] - 29s 271us/sample - loss: 2.0813 - acc: 0.5148 - val_loss: 3.9852 - val_acc: 0.1581\n",
      "Epoch 10/20\n",
      "105864/105864 [==============================] - 29s 278us/sample - loss: 2.0151 - acc: 0.5289 - val_loss: 3.9427 - val_acc: 0.1661\n",
      "Epoch 11/20\n",
      "105864/105864 [==============================] - 29s 274us/sample - loss: 1.9420 - acc: 0.5441 - val_loss: 3.8434 - val_acc: 0.1799\n",
      "Epoch 12/20\n",
      "105864/105864 [==============================] - 29s 271us/sample - loss: 1.8905 - acc: 0.5542 - val_loss: 3.9126 - val_acc: 0.1741\n",
      "Epoch 13/20\n",
      "105864/105864 [==============================] - 29s 274us/sample - loss: 1.8273 - acc: 0.5672 - val_loss: 3.9960 - val_acc: 0.1687\n",
      "Epoch 14/20\n",
      "105864/105864 [==============================] - 29s 275us/sample - loss: 1.7792 - acc: 0.5773 - val_loss: 3.9204 - val_acc: 0.1899\n",
      "Epoch 15/20\n",
      " 40384/105864 [==========>...................] - ETA: 17s - loss: 1.7003 - acc: 0.5943"
     ]
    },
    {
     "name": "stderr",
     "output_type": "stream",
     "text": [
      "IOPub message rate exceeded.\n",
      "The notebook server will temporarily stop sending output\n",
      "to the client in order to avoid crashing it.\n",
      "To change this limit, set the config variable\n",
      "`--NotebookApp.iopub_msg_rate_limit`.\n",
      "\n",
      "Current values:\n",
      "NotebookApp.iopub_msg_rate_limit=1000.0 (msgs/sec)\n",
      "NotebookApp.rate_limit_window=3.0 (secs)\n",
      "\n"
     ]
    },
    {
     "name": "stdout",
     "output_type": "stream",
     "text": [
      "105864/105864 [==============================] - 30s 285us/sample - loss: 3.6791 - acc: 0.1781 - val_loss: 4.0992 - val_acc: 0.0864\n",
      "Epoch 2/20\n",
      "105864/105864 [==============================] - 29s 278us/sample - loss: 3.1076 - acc: 0.2972 - val_loss: 4.1000 - val_acc: 0.1007\n",
      "Epoch 3/20\n",
      "105864/105864 [==============================] - 30s 280us/sample - loss: 2.8903 - acc: 0.3448 - val_loss: 4.0992 - val_acc: 0.0986\n",
      "Epoch 4/20\n",
      "105864/105864 [==============================] - 30s 280us/sample - loss: 2.7283 - acc: 0.3766 - val_loss: 3.9706 - val_acc: 0.1137\n",
      "Epoch 5/20\n",
      "105864/105864 [==============================] - 29s 271us/sample - loss: 2.6025 - acc: 0.4051 - val_loss: 4.0318 - val_acc: 0.1126\n",
      "Epoch 6/20\n",
      "102944/105864 [============================>.] - ETA: 0s - loss: 2.4993 - acc: 0.4267"
     ]
    },
    {
     "name": "stderr",
     "output_type": "stream",
     "text": [
      "IOPub message rate exceeded.\n",
      "The notebook server will temporarily stop sending output\n",
      "to the client in order to avoid crashing it.\n",
      "To change this limit, set the config variable\n",
      "`--NotebookApp.iopub_msg_rate_limit`.\n",
      "\n",
      "Current values:\n",
      "NotebookApp.iopub_msg_rate_limit=1000.0 (msgs/sec)\n",
      "NotebookApp.rate_limit_window=3.0 (secs)\n",
      "\n"
     ]
    },
    {
     "name": "stdout",
     "output_type": "stream",
     "text": [
      "105864/105864 [==============================] - 29s 277us/sample - loss: 2.0413 - acc: 0.5212 - val_loss: 3.9750 - val_acc: 0.1332\n",
      "Epoch 13/20\n",
      "105864/105864 [==============================] - 29s 278us/sample - loss: 1.9814 - acc: 0.5347 - val_loss: 3.9941 - val_acc: 0.1501\n",
      "Epoch 14/20\n",
      "105864/105864 [==============================] - 29s 276us/sample - loss: 1.9295 - acc: 0.5425 - val_loss: 4.0882 - val_acc: 0.1427\n",
      "Epoch 15/20\n",
      "105864/105864 [==============================] - 30s 279us/sample - loss: 1.8761 - acc: 0.5539 - val_loss: 3.9328 - val_acc: 0.1737\n",
      "Epoch 16/20\n",
      "105864/105864 [==============================] - 30s 279us/sample - loss: 1.8267 - acc: 0.5621 - val_loss: 4.1784 - val_acc: 0.1434\n",
      "Epoch 17/20\n",
      "105864/105864 [==============================] - 29s 278us/sample - loss: 1.7801 - acc: 0.5728 - val_loss: 4.0710 - val_acc: 0.1503\n",
      "Epoch 18/20\n",
      " 80704/105864 [=====================>........] - ETA: 6s - loss: 1.7307 - acc: 0.5836"
     ]
    },
    {
     "name": "stderr",
     "output_type": "stream",
     "text": [
      "IOPub message rate exceeded.\n",
      "The notebook server will temporarily stop sending output\n",
      "to the client in order to avoid crashing it.\n",
      "To change this limit, set the config variable\n",
      "`--NotebookApp.iopub_msg_rate_limit`.\n",
      "\n",
      "Current values:\n",
      "NotebookApp.iopub_msg_rate_limit=1000.0 (msgs/sec)\n",
      "NotebookApp.rate_limit_window=3.0 (secs)\n",
      "\n"
     ]
    },
    {
     "name": "stdout",
     "output_type": "stream",
     "text": [
      "105864/105864 [==============================] - 29s 270us/sample - loss: 2.7192 - acc: 0.3777 - val_loss: 4.0087 - val_acc: 0.1142\n",
      "Epoch 6/20\n",
      "105864/105864 [==============================] - 29s 273us/sample - loss: 2.6151 - acc: 0.3998 - val_loss: 3.9823 - val_acc: 0.1175\n",
      "Epoch 7/20\n",
      "105864/105864 [==============================] - 29s 274us/sample - loss: 2.5309 - acc: 0.4182 - val_loss: 4.0342 - val_acc: 0.1207\n",
      "Epoch 8/20\n",
      "105864/105864 [==============================] - 29s 271us/sample - loss: 2.4514 - acc: 0.4352 - val_loss: 4.0669 - val_acc: 0.1065\n",
      "Epoch 9/20\n",
      "105864/105864 [==============================] - 30s 284us/sample - loss: 2.3830 - acc: 0.4482 - val_loss: 3.9713 - val_acc: 0.1410\n",
      "Epoch 10/20\n",
      " 99136/105864 [===========================>..] - ETA: 1s - loss: 2.3122 - acc: 0.4626"
     ]
    },
    {
     "name": "stderr",
     "output_type": "stream",
     "text": [
      "IOPub message rate exceeded.\n",
      "The notebook server will temporarily stop sending output\n",
      "to the client in order to avoid crashing it.\n",
      "To change this limit, set the config variable\n",
      "`--NotebookApp.iopub_msg_rate_limit`.\n",
      "\n",
      "Current values:\n",
      "NotebookApp.iopub_msg_rate_limit=1000.0 (msgs/sec)\n",
      "NotebookApp.rate_limit_window=3.0 (secs)\n",
      "\n"
     ]
    },
    {
     "name": "stdout",
     "output_type": "stream",
     "text": [
      "105864/105864 [==============================] - 29s 277us/sample - loss: 1.9874 - acc: 0.5262 - val_loss: 4.0565 - val_acc: 0.1455\n",
      "Epoch 17/20\n",
      "105864/105864 [==============================] - 29s 270us/sample - loss: 1.9368 - acc: 0.5366 - val_loss: 4.1421 - val_acc: 0.1422\n",
      "Epoch 18/20\n",
      "105864/105864 [==============================] - 28s 269us/sample - loss: 1.8970 - acc: 0.5457 - val_loss: 3.9978 - val_acc: 0.1655\n",
      "Epoch 19/20\n",
      "105864/105864 [==============================] - 29s 271us/sample - loss: 1.8531 - acc: 0.5526 - val_loss: 4.1414 - val_acc: 0.1471\n",
      "Epoch 20/20\n",
      "105864/105864 [==============================] - 29s 275us/sample - loss: 1.8175 - acc: 0.5609 - val_loss: 4.2897 - val_acc: 0.1234\n",
      "25342/25342 [==============================] - 1s 45us/sample\n",
      "n. layers= 0  Encoder= Snake  Noise= 0  Padding= random\n",
      "(105864, 225)\n",
      "(17324, 225)\n",
      "(25342, 225)\n",
      "_________________________________________________________________\n",
      "Layer (type)                 Output Shape              Param #   \n",
      "=================================================================\n",
      "dense (Dense)                (None, 500)               113000    \n",
      "_________________________________________________________________\n",
      "dense_1 (Dense)              (None, 1000)              501000    \n",
      "_________________________________________________________________\n",
      "dense_2 (Dense)              (None, 100)               100100    \n",
      "_________________________________________________________________\n",
      "dropout (Dropout)            (None, 100)               0         \n",
      "_________________________________________________________________\n",
      "dense_3 (Dense)              (None, 88)                8888      \n",
      "=================================================================\n",
      "Total params: 722,988\n",
      "Trainable params: 722,988\n",
      "Non-trainable params: 0\n",
      "_________________________________________________________________\n",
      "None\n",
      "Train on 105864 samples, validate on 17324 samples\n",
      "Epoch 1/20\n",
      "105864/105864 [==============================] - 28s 269us/sample - loss: 1.2533 - acc: 0.7072 - val_loss: 2.9916 - val_acc: 0.4576\n",
      "Epoch 2/20\n",
      " 70464/105864 [==================>...........] - ETA: 8s - loss: 0.7237 - acc: 0.8261"
     ]
    },
    {
     "name": "stderr",
     "output_type": "stream",
     "text": [
      "IOPub message rate exceeded.\n",
      "The notebook server will temporarily stop sending output\n",
      "to the client in order to avoid crashing it.\n",
      "To change this limit, set the config variable\n",
      "`--NotebookApp.iopub_msg_rate_limit`.\n",
      "\n",
      "Current values:\n",
      "NotebookApp.iopub_msg_rate_limit=1000.0 (msgs/sec)\n",
      "NotebookApp.rate_limit_window=3.0 (secs)\n",
      "\n"
     ]
    },
    {
     "name": "stdout",
     "output_type": "stream",
     "text": [
      "105864/105864 [==============================] - 29s 276us/sample - loss: 0.3876 - acc: 0.9039 - val_loss: 3.3059 - val_acc: 0.4928\n",
      "Epoch 9/20\n",
      "105864/105864 [==============================] - 29s 269us/sample - loss: 0.3710 - acc: 0.9084 - val_loss: 3.3398 - val_acc: 0.4879\n",
      "Epoch 10/20\n",
      "105864/105864 [==============================] - 29s 272us/sample - loss: 0.3502 - acc: 0.9128 - val_loss: 3.5864 - val_acc: 0.4850\n",
      "Epoch 11/20\n",
      "105864/105864 [==============================] - 29s 277us/sample - loss: 0.3395 - acc: 0.9162 - val_loss: 3.3844 - val_acc: 0.5001\n",
      "Epoch 12/20\n",
      "105864/105864 [==============================] - 29s 273us/sample - loss: 0.3280 - acc: 0.9192 - val_loss: 3.4210 - val_acc: 0.4796\n",
      "Epoch 13/20\n",
      "105864/105864 [==============================] - 29s 276us/sample - loss: 0.3139 - acc: 0.9225 - val_loss: 3.6849 - val_acc: 0.5043\n",
      "Epoch 14/20\n",
      " 49248/105864 [============>.................] - ETA: 14s - loss: 0.2953 - acc: 0.9278"
     ]
    },
    {
     "name": "stderr",
     "output_type": "stream",
     "text": [
      "IOPub message rate exceeded.\n",
      "The notebook server will temporarily stop sending output\n",
      "to the client in order to avoid crashing it.\n",
      "To change this limit, set the config variable\n",
      "`--NotebookApp.iopub_msg_rate_limit`.\n",
      "\n",
      "Current values:\n",
      "NotebookApp.iopub_msg_rate_limit=1000.0 (msgs/sec)\n",
      "NotebookApp.rate_limit_window=3.0 (secs)\n",
      "\n"
     ]
    },
    {
     "name": "stdout",
     "output_type": "stream",
     "text": [
      "105864/105864 [==============================] - 29s 275us/sample - loss: 0.2786 - acc: 0.9355 - val_loss: 3.7632 - val_acc: 0.5197\n",
      "25342/25342 [==============================] - 1s 42us/sample\n",
      "n. layers= 0  Encoder= Snake  Noise= 25  Padding= random\n",
      "(105864, 256)\n",
      "(17324, 256)\n",
      "(25342, 256)\n",
      "_________________________________________________________________\n",
      "Layer (type)                 Output Shape              Param #   \n",
      "=================================================================\n",
      "dense (Dense)                (None, 500)               128500    \n",
      "_________________________________________________________________\n",
      "dense_1 (Dense)              (None, 1000)              501000    \n",
      "_________________________________________________________________\n",
      "dense_2 (Dense)              (None, 100)               100100    \n",
      "_________________________________________________________________\n",
      "dropout (Dropout)            (None, 100)               0         \n",
      "_________________________________________________________________\n",
      "dense_3 (Dense)              (None, 88)                8888      \n",
      "=================================================================\n",
      "Total params: 738,488\n",
      "Trainable params: 738,488\n",
      "Non-trainable params: 0\n",
      "_________________________________________________________________\n",
      "None\n",
      "Train on 105864 samples, validate on 17324 samples\n",
      "Epoch 1/20\n",
      "105864/105864 [==============================] - 30s 283us/sample - loss: 2.2529 - acc: 0.4920 - val_loss: 3.3422 - val_acc: 0.2711\n",
      "Epoch 2/20\n",
      "105864/105864 [==============================] - 30s 282us/sample - loss: 1.5603 - acc: 0.6407 - val_loss: 3.2338 - val_acc: 0.3000\n",
      "Epoch 3/20\n",
      "105864/105864 [==============================] - 29s 272us/sample - loss: 1.3155 - acc: 0.6921 - val_loss: 3.2163 - val_acc: 0.3321\n",
      "Epoch 4/20\n",
      "105864/105864 [==============================] - 29s 271us/sample - loss: 1.1373 - acc: 0.7311 - val_loss: 3.3367 - val_acc: 0.3160\n",
      "Epoch 5/20\n",
      "105864/105864 [==============================] - 29s 274us/sample - loss: 1.0084 - acc: 0.7592 - val_loss: 3.0859 - val_acc: 0.3578\n",
      "Epoch 6/20\n",
      " 33056/105864 [========>.....................] - ETA: 18s - loss: 0.9101 - acc: 0.7790"
     ]
    },
    {
     "name": "stderr",
     "output_type": "stream",
     "text": [
      "IOPub message rate exceeded.\n",
      "The notebook server will temporarily stop sending output\n",
      "to the client in order to avoid crashing it.\n",
      "To change this limit, set the config variable\n",
      "`--NotebookApp.iopub_msg_rate_limit`.\n",
      "\n",
      "Current values:\n",
      "NotebookApp.iopub_msg_rate_limit=1000.0 (msgs/sec)\n",
      "NotebookApp.rate_limit_window=3.0 (secs)\n",
      "\n"
     ]
    },
    {
     "name": "stdout",
     "output_type": "stream",
     "text": [
      "105864/105864 [==============================] - 29s 272us/sample - loss: 0.7093 - acc: 0.8247 - val_loss: 3.2929 - val_acc: 0.3927\n",
      "Epoch 11/20\n",
      "105864/105864 [==============================] - 29s 274us/sample - loss: 0.6800 - acc: 0.8315 - val_loss: 3.1806 - val_acc: 0.4003\n",
      "Epoch 12/20\n",
      "105864/105864 [==============================] - 30s 279us/sample - loss: 0.6517 - acc: 0.8367 - val_loss: 3.2552 - val_acc: 0.4100\n",
      "Epoch 13/20\n",
      "105864/105864 [==============================] - 30s 282us/sample - loss: 0.6345 - acc: 0.8416 - val_loss: 3.3068 - val_acc: 0.3904\n",
      "Epoch 14/20\n",
      " 35392/105864 [=========>....................] - ETA: 18s - loss: 0.5921 - acc: 0.8522"
     ]
    },
    {
     "name": "stderr",
     "output_type": "stream",
     "text": [
      "IOPub message rate exceeded.\n",
      "The notebook server will temporarily stop sending output\n",
      "to the client in order to avoid crashing it.\n",
      "To change this limit, set the config variable\n",
      "`--NotebookApp.iopub_msg_rate_limit`.\n",
      "\n",
      "Current values:\n",
      "NotebookApp.iopub_msg_rate_limit=1000.0 (msgs/sec)\n",
      "NotebookApp.rate_limit_window=3.0 (secs)\n",
      "\n"
     ]
    },
    {
     "name": "stdout",
     "output_type": "stream",
     "text": [
      "105864/105864 [==============================] - 29s 275us/sample - loss: 0.5847 - acc: 0.8544 - val_loss: 3.3595 - val_acc: 0.4096\n",
      "Epoch 17/20\n",
      "105864/105864 [==============================] - 29s 275us/sample - loss: 0.5632 - acc: 0.8591 - val_loss: 3.4036 - val_acc: 0.3953\n",
      "Epoch 18/20\n",
      " 13152/105864 [==>...........................] - ETA: 22s - loss: 0.5098 - acc: 0.8686"
     ]
    },
    {
     "name": "stderr",
     "output_type": "stream",
     "text": [
      "IOPub message rate exceeded.\n",
      "The notebook server will temporarily stop sending output\n",
      "to the client in order to avoid crashing it.\n",
      "To change this limit, set the config variable\n",
      "`--NotebookApp.iopub_msg_rate_limit`.\n",
      "\n",
      "Current values:\n",
      "NotebookApp.iopub_msg_rate_limit=1000.0 (msgs/sec)\n",
      "NotebookApp.rate_limit_window=3.0 (secs)\n",
      "\n"
     ]
    },
    {
     "name": "stdout",
     "output_type": "stream",
     "text": [
      "105864/105864 [==============================] - 29s 277us/sample - loss: 2.0941 - acc: 0.5225 - val_loss: 3.4968 - val_acc: 0.2221\n",
      "Epoch 3/20\n",
      "105864/105864 [==============================] - 29s 278us/sample - loss: 1.8339 - acc: 0.5773 - val_loss: 3.5430 - val_acc: 0.2409\n",
      "Epoch 4/20\n",
      "105864/105864 [==============================] - 29s 275us/sample - loss: 1.6396 - acc: 0.6188 - val_loss: 3.4351 - val_acc: 0.2447\n",
      "Epoch 5/20\n",
      "105864/105864 [==============================] - 29s 273us/sample - loss: 1.4883 - acc: 0.6503 - val_loss: 3.2237 - val_acc: 0.3044\n",
      "Epoch 6/20\n",
      "  3200/105864 [..............................] - ETA: 25s - loss: 1.2935 - acc: 0.6869"
     ]
    },
    {
     "name": "stderr",
     "output_type": "stream",
     "text": [
      "IOPub message rate exceeded.\n",
      "The notebook server will temporarily stop sending output\n",
      "to the client in order to avoid crashing it.\n",
      "To change this limit, set the config variable\n",
      "`--NotebookApp.iopub_msg_rate_limit`.\n",
      "\n",
      "Current values:\n",
      "NotebookApp.iopub_msg_rate_limit=1000.0 (msgs/sec)\n",
      "NotebookApp.rate_limit_window=3.0 (secs)\n",
      "\n"
     ]
    },
    {
     "name": "stdout",
     "output_type": "stream",
     "text": [
      "105864/105864 [==============================] - 29s 274us/sample - loss: 1.1856 - acc: 0.7142 - val_loss: 3.3748 - val_acc: 0.3074\n",
      "Epoch 9/20\n",
      " 94784/105864 [=========================>....] - ETA: 2s - loss: 1.1196 - acc: 0.7270"
     ]
    },
    {
     "name": "stderr",
     "output_type": "stream",
     "text": [
      "IOPub message rate exceeded.\n",
      "The notebook server will temporarily stop sending output\n",
      "to the client in order to avoid crashing it.\n",
      "To change this limit, set the config variable\n",
      "`--NotebookApp.iopub_msg_rate_limit`.\n",
      "\n",
      "Current values:\n",
      "NotebookApp.iopub_msg_rate_limit=1000.0 (msgs/sec)\n",
      "NotebookApp.rate_limit_window=3.0 (secs)\n",
      "\n"
     ]
    },
    {
     "name": "stdout",
     "output_type": "stream",
     "text": [
      "105864/105864 [==============================] - 29s 278us/sample - loss: 0.9302 - acc: 0.7700 - val_loss: 3.3363 - val_acc: 0.3209\n",
      "Epoch 14/20\n",
      "105864/105864 [==============================] - 29s 275us/sample - loss: 0.8965 - acc: 0.7773 - val_loss: 3.4450 - val_acc: 0.3259\n",
      "Epoch 15/20\n",
      "105864/105864 [==============================] - 29s 274us/sample - loss: 0.8658 - acc: 0.7844 - val_loss: 3.4270 - val_acc: 0.3209\n",
      "Epoch 16/20\n",
      "105864/105864 [==============================] - 30s 281us/sample - loss: 0.8389 - acc: 0.7902 - val_loss: 3.5587 - val_acc: 0.3336\n",
      "Epoch 17/20\n",
      " 84480/105864 [======================>.......] - ETA: 5s - loss: 0.8130 - acc: 0.7961"
     ]
    },
    {
     "name": "stderr",
     "output_type": "stream",
     "text": [
      "IOPub message rate exceeded.\n",
      "The notebook server will temporarily stop sending output\n",
      "to the client in order to avoid crashing it.\n",
      "To change this limit, set the config variable\n",
      "`--NotebookApp.iopub_msg_rate_limit`.\n",
      "\n",
      "Current values:\n",
      "NotebookApp.iopub_msg_rate_limit=1000.0 (msgs/sec)\n",
      "NotebookApp.rate_limit_window=3.0 (secs)\n",
      "\n"
     ]
    },
    {
     "name": "stdout",
     "output_type": "stream",
     "text": [
      "105864/105864 [==============================] - 29s 271us/sample - loss: 0.7787 - acc: 0.8043 - val_loss: 3.6967 - val_acc: 0.3239\n",
      "Epoch 20/20\n",
      "105864/105864 [==============================] - 29s 270us/sample - loss: 0.7580 - acc: 0.8101 - val_loss: 3.5665 - val_acc: 0.3594\n",
      "25342/25342 [==============================] - 1s 44us/sample\n",
      "n. layers= 0  Encoder= Snake  Noise= 75  Padding= random\n",
      "(105864, 361)\n",
      "(17324, 361)\n",
      "(25342, 361)\n",
      "_________________________________________________________________\n",
      "Layer (type)                 Output Shape              Param #   \n",
      "=================================================================\n",
      "dense (Dense)                (None, 500)               181000    \n",
      "_________________________________________________________________\n",
      "dense_1 (Dense)              (None, 1000)              501000    \n",
      "_________________________________________________________________\n",
      "dense_2 (Dense)              (None, 100)               100100    \n",
      "_________________________________________________________________\n",
      "dropout (Dropout)            (None, 100)               0         \n",
      "_________________________________________________________________\n",
      "dense_3 (Dense)              (None, 88)                8888      \n",
      "=================================================================\n",
      "Total params: 790,988\n",
      "Trainable params: 790,988\n",
      "Non-trainable params: 0\n",
      "_________________________________________________________________\n",
      "None\n",
      "Train on 105864 samples, validate on 17324 samples\n",
      "Epoch 1/20\n",
      " 49120/105864 [============>.................] - ETA: 15s - loss: 3.4811 - acc: 0.2268"
     ]
    },
    {
     "name": "stderr",
     "output_type": "stream",
     "text": [
      "IOPub message rate exceeded.\n",
      "The notebook server will temporarily stop sending output\n",
      "to the client in order to avoid crashing it.\n",
      "To change this limit, set the config variable\n",
      "`--NotebookApp.iopub_msg_rate_limit`.\n",
      "\n",
      "Current values:\n",
      "NotebookApp.iopub_msg_rate_limit=1000.0 (msgs/sec)\n",
      "NotebookApp.rate_limit_window=3.0 (secs)\n",
      "\n"
     ]
    },
    {
     "name": "stdout",
     "output_type": "stream",
     "text": [
      "105864/105864 [==============================] - 30s 282us/sample - loss: 1.8145 - acc: 0.5779 - val_loss: 3.5713 - val_acc: 0.2279\n",
      "Epoch 6/20\n",
      "105864/105864 [==============================] - 30s 282us/sample - loss: 1.6999 - acc: 0.6003 - val_loss: 3.4635 - val_acc: 0.2497\n",
      "Epoch 7/20\n",
      "105864/105864 [==============================] - 30s 283us/sample - loss: 1.5857 - acc: 0.6260 - val_loss: 3.6539 - val_acc: 0.2405\n",
      "Epoch 8/20\n",
      "105864/105864 [==============================] - 30s 281us/sample - loss: 1.5012 - acc: 0.6441 - val_loss: 3.4359 - val_acc: 0.2512\n",
      "Epoch 9/20\n",
      " 41440/105864 [==========>...................] - ETA: 17s - loss: 1.4228 - acc: 0.6595"
     ]
    },
    {
     "name": "stderr",
     "output_type": "stream",
     "text": [
      "IOPub message rate exceeded.\n",
      "The notebook server will temporarily stop sending output\n",
      "to the client in order to avoid crashing it.\n",
      "To change this limit, set the config variable\n",
      "`--NotebookApp.iopub_msg_rate_limit`.\n",
      "\n",
      "Current values:\n",
      "NotebookApp.iopub_msg_rate_limit=1000.0 (msgs/sec)\n",
      "NotebookApp.rate_limit_window=3.0 (secs)\n",
      "\n"
     ]
    },
    {
     "name": "stdout",
     "output_type": "stream",
     "text": [
      "105864/105864 [==============================] - 29s 278us/sample - loss: 1.3019 - acc: 0.6853 - val_loss: 3.4921 - val_acc: 0.2650\n",
      "Epoch 12/20\n",
      "100672/105864 [===========================>..] - ETA: 1s - loss: 1.2486 - acc: 0.6972"
     ]
    },
    {
     "name": "stderr",
     "output_type": "stream",
     "text": [
      "IOPub message rate exceeded.\n",
      "The notebook server will temporarily stop sending output\n",
      "to the client in order to avoid crashing it.\n",
      "To change this limit, set the config variable\n",
      "`--NotebookApp.iopub_msg_rate_limit`.\n",
      "\n",
      "Current values:\n",
      "NotebookApp.iopub_msg_rate_limit=1000.0 (msgs/sec)\n",
      "NotebookApp.rate_limit_window=3.0 (secs)\n",
      "\n"
     ]
    },
    {
     "name": "stdout",
     "output_type": "stream",
     "text": [
      "105864/105864 [==============================] - 30s 282us/sample - loss: 1.0837 - acc: 0.7322 - val_loss: 3.4686 - val_acc: 0.3039\n",
      "Epoch 17/20\n",
      "105864/105864 [==============================] - 30s 283us/sample - loss: 1.0527 - acc: 0.7381 - val_loss: 3.5423 - val_acc: 0.3029\n",
      "Epoch 18/20\n",
      "105864/105864 [==============================] - 30s 279us/sample - loss: 1.0185 - acc: 0.7445 - val_loss: 3.4565 - val_acc: 0.3072\n",
      "Epoch 19/20\n",
      "105864/105864 [==============================] - 29s 278us/sample - loss: 0.9983 - acc: 0.7508 - val_loss: 3.6291 - val_acc: 0.2944\n",
      "Epoch 20/20\n",
      " 85056/105864 [=======================>......] - ETA: 5s - loss: 0.9657 - acc: 0.7576"
     ]
    },
    {
     "name": "stderr",
     "output_type": "stream",
     "text": [
      "IOPub message rate exceeded.\n",
      "The notebook server will temporarily stop sending output\n",
      "to the client in order to avoid crashing it.\n",
      "To change this limit, set the config variable\n",
      "`--NotebookApp.iopub_msg_rate_limit`.\n",
      "\n",
      "Current values:\n",
      "NotebookApp.iopub_msg_rate_limit=1000.0 (msgs/sec)\n",
      "NotebookApp.rate_limit_window=3.0 (secs)\n",
      "\n"
     ]
    },
    {
     "name": "stdout",
     "output_type": "stream",
     "text": [
      "105864/105864 [==============================] - 30s 280us/sample - loss: 2.6399 - acc: 0.4005 - val_loss: 3.9853 - val_acc: 0.1293\n",
      "Epoch 3/20\n",
      "105864/105864 [==============================] - 30s 282us/sample - loss: 2.4092 - acc: 0.4511 - val_loss: 3.7685 - val_acc: 0.1728\n",
      "Epoch 4/20\n",
      " 49760/105864 [=============>................] - ETA: 15s - loss: 2.2523 - acc: 0.4852"
     ]
    },
    {
     "name": "stderr",
     "output_type": "stream",
     "text": [
      "IOPub message rate exceeded.\n",
      "The notebook server will temporarily stop sending output\n",
      "to the client in order to avoid crashing it.\n",
      "To change this limit, set the config variable\n",
      "`--NotebookApp.iopub_msg_rate_limit`.\n",
      "\n",
      "Current values:\n",
      "NotebookApp.iopub_msg_rate_limit=1000.0 (msgs/sec)\n",
      "NotebookApp.rate_limit_window=3.0 (secs)\n",
      "\n"
     ]
    },
    {
     "name": "stdout",
     "output_type": "stream",
     "text": [
      "105864/105864 [==============================] - 29s 274us/sample - loss: 1.7666 - acc: 0.5851 - val_loss: 3.7685 - val_acc: 0.1986\n",
      "Epoch 9/20\n",
      "105864/105864 [==============================] - 30s 282us/sample - loss: 1.6876 - acc: 0.6020 - val_loss: 3.7596 - val_acc: 0.2142\n",
      "Epoch 10/20\n",
      "105864/105864 [==============================] - 30s 282us/sample - loss: 1.6141 - acc: 0.6153 - val_loss: 3.7654 - val_acc: 0.2249\n",
      "Epoch 11/20\n",
      "105864/105864 [==============================] - 29s 279us/sample - loss: 1.5574 - acc: 0.6292 - val_loss: 3.5407 - val_acc: 0.2383\n",
      "Epoch 12/20\n",
      " 35104/105864 [========>.....................] - ETA: 18s - loss: 1.4561 - acc: 0.6460"
     ]
    },
    {
     "name": "stderr",
     "output_type": "stream",
     "text": [
      "IOPub message rate exceeded.\n",
      "The notebook server will temporarily stop sending output\n",
      "to the client in order to avoid crashing it.\n",
      "To change this limit, set the config variable\n",
      "`--NotebookApp.iopub_msg_rate_limit`.\n",
      "\n",
      "Current values:\n",
      "NotebookApp.iopub_msg_rate_limit=1000.0 (msgs/sec)\n",
      "NotebookApp.rate_limit_window=3.0 (secs)\n",
      "\n"
     ]
    },
    {
     "name": "stdout",
     "output_type": "stream",
     "text": [
      "105864/105864 [==============================] - 30s 283us/sample - loss: 1.4006 - acc: 0.6609 - val_loss: 3.6376 - val_acc: 0.2476\n",
      "Epoch 15/20\n",
      "105864/105864 [==============================] - 29s 279us/sample - loss: 1.3518 - acc: 0.6709 - val_loss: 3.7967 - val_acc: 0.2334\n",
      "Epoch 16/20\n",
      "  5216/105864 [>.............................] - ETA: 26s - loss: 1.2006 - acc: 0.6963"
     ]
    },
    {
     "name": "stderr",
     "output_type": "stream",
     "text": [
      "IOPub message rate exceeded.\n",
      "The notebook server will temporarily stop sending output\n",
      "to the client in order to avoid crashing it.\n",
      "To change this limit, set the config variable\n",
      "`--NotebookApp.iopub_msg_rate_limit`.\n",
      "\n",
      "Current values:\n",
      "NotebookApp.iopub_msg_rate_limit=1000.0 (msgs/sec)\n",
      "NotebookApp.rate_limit_window=3.0 (secs)\n",
      "\n"
     ]
    },
    {
     "name": "stdout",
     "output_type": "stream",
     "text": [
      "105864/105864 [==============================] - 30s 282us/sample - loss: 1.2059 - acc: 0.7016 - val_loss: 3.8548 - val_acc: 0.2324\n",
      "Epoch 20/20\n",
      "105864/105864 [==============================] - 30s 280us/sample - loss: 1.1782 - acc: 0.7066 - val_loss: 3.8325 - val_acc: 0.2402\n",
      "25342/25342 [==============================] - 1s 45us/sample\n",
      "n. layers= 0  Encoder= Snake  Noise= 125  Padding= random\n",
      "(105864, 484)\n",
      "(17324, 484)\n",
      "(25342, 484)\n",
      "_________________________________________________________________\n",
      "Layer (type)                 Output Shape              Param #   \n",
      "=================================================================\n",
      "dense (Dense)                (None, 500)               242500    \n",
      "_________________________________________________________________\n",
      "dense_1 (Dense)              (None, 1000)              501000    \n",
      "_________________________________________________________________\n",
      "dense_2 (Dense)              (None, 100)               100100    \n",
      "_________________________________________________________________\n",
      "dropout (Dropout)            (None, 100)               0         \n",
      "_________________________________________________________________\n",
      "dense_3 (Dense)              (None, 88)                8888      \n",
      "=================================================================\n",
      "Total params: 852,488\n",
      "Trainable params: 852,488\n",
      "Non-trainable params: 0\n",
      "_________________________________________________________________\n",
      "None\n",
      "Train on 105864 samples, validate on 17324 samples\n",
      "Epoch 1/20\n",
      "105864/105864 [==============================] - 29s 273us/sample - loss: 3.4755 - acc: 0.2210 - val_loss: 4.0007 - val_acc: 0.0958\n",
      "Epoch 2/20\n",
      "105864/105864 [==============================] - 30s 279us/sample - loss: 2.8624 - acc: 0.3503 - val_loss: 3.9393 - val_acc: 0.1112\n",
      "Epoch 3/20\n",
      " 92032/105864 [=========================>....] - ETA: 3s - loss: 2.6403 - acc: 0.3966"
     ]
    },
    {
     "name": "stderr",
     "output_type": "stream",
     "text": [
      "IOPub message rate exceeded.\n",
      "The notebook server will temporarily stop sending output\n",
      "to the client in order to avoid crashing it.\n",
      "To change this limit, set the config variable\n",
      "`--NotebookApp.iopub_msg_rate_limit`.\n",
      "\n",
      "Current values:\n",
      "NotebookApp.iopub_msg_rate_limit=1000.0 (msgs/sec)\n",
      "NotebookApp.rate_limit_window=3.0 (secs)\n",
      "\n"
     ]
    },
    {
     "name": "stdout",
     "output_type": "stream",
     "text": [
      "105864/105864 [==============================] - 29s 277us/sample - loss: 2.3305 - acc: 0.4629 - val_loss: 3.6991 - val_acc: 0.1788\n",
      "Epoch 6/20\n",
      "105864/105864 [==============================] - 29s 278us/sample - loss: 2.2086 - acc: 0.4895 - val_loss: 3.9523 - val_acc: 0.1330\n",
      "Epoch 7/20\n",
      " 77344/105864 [====================>.........] - ETA: 7s - loss: 2.1056 - acc: 0.5118"
     ]
    },
    {
     "name": "stderr",
     "output_type": "stream",
     "text": [
      "IOPub message rate exceeded.\n",
      "The notebook server will temporarily stop sending output\n",
      "to the client in order to avoid crashing it.\n",
      "To change this limit, set the config variable\n",
      "`--NotebookApp.iopub_msg_rate_limit`.\n",
      "\n",
      "Current values:\n",
      "NotebookApp.iopub_msg_rate_limit=1000.0 (msgs/sec)\n",
      "NotebookApp.rate_limit_window=3.0 (secs)\n",
      "\n"
     ]
    },
    {
     "name": "stdout",
     "output_type": "stream",
     "text": [
      "105864/105864 [==============================] - 30s 281us/sample - loss: 1.7992 - acc: 0.5747 - val_loss: 3.7647 - val_acc: 0.1978\n",
      "Epoch 12/20\n",
      "105864/105864 [==============================] - 29s 279us/sample - loss: 1.7380 - acc: 0.5873 - val_loss: 3.7368 - val_acc: 0.1987\n",
      "Epoch 13/20\n",
      "105864/105864 [==============================] - 29s 279us/sample - loss: 1.6802 - acc: 0.5990 - val_loss: 3.8745 - val_acc: 0.2133\n",
      "Epoch 14/20\n",
      "105864/105864 [==============================] - 29s 278us/sample - loss: 1.6364 - acc: 0.6083 - val_loss: 3.7817 - val_acc: 0.2111\n",
      "Epoch 15/20\n",
      " 63328/105864 [================>.............] - ETA: 11s - loss: 1.5646 - acc: 0.6241"
     ]
    },
    {
     "name": "stderr",
     "output_type": "stream",
     "text": [
      "IOPub message rate exceeded.\n",
      "The notebook server will temporarily stop sending output\n",
      "to the client in order to avoid crashing it.\n",
      "To change this limit, set the config variable\n",
      "`--NotebookApp.iopub_msg_rate_limit`.\n",
      "\n",
      "Current values:\n",
      "NotebookApp.iopub_msg_rate_limit=1000.0 (msgs/sec)\n",
      "NotebookApp.rate_limit_window=3.0 (secs)\n",
      "\n"
     ]
    },
    {
     "name": "stdout",
     "output_type": "stream",
     "text": [
      "105864/105864 [==============================] - 30s 282us/sample - loss: 1.4947 - acc: 0.6374 - val_loss: 3.9913 - val_acc: 0.1953\n",
      "Epoch 18/20\n",
      "105864/105864 [==============================] - 30s 279us/sample - loss: 1.4593 - acc: 0.6435 - val_loss: 3.9012 - val_acc: 0.2110\n",
      "Epoch 19/20\n",
      " 54176/105864 [==============>...............] - ETA: 13s - loss: 1.3922 - acc: 0.6578"
     ]
    },
    {
     "name": "stderr",
     "output_type": "stream",
     "text": [
      "IOPub message rate exceeded.\n",
      "The notebook server will temporarily stop sending output\n",
      "to the client in order to avoid crashing it.\n",
      "To change this limit, set the config variable\n",
      "`--NotebookApp.iopub_msg_rate_limit`.\n",
      "\n",
      "Current values:\n",
      "NotebookApp.iopub_msg_rate_limit=1000.0 (msgs/sec)\n",
      "NotebookApp.rate_limit_window=3.0 (secs)\n",
      "\n"
     ]
    },
    {
     "name": "stdout",
     "output_type": "stream",
     "text": [
      "105864/105864 [==============================] - 29s 279us/sample - loss: 2.7797 - acc: 0.3673 - val_loss: 4.0428 - val_acc: 0.1128\n",
      "Epoch 4/20\n",
      "105864/105864 [==============================] - 30s 279us/sample - loss: 2.6172 - acc: 0.4021 - val_loss: 3.8786 - val_acc: 0.1344\n",
      "Epoch 5/20\n",
      "105864/105864 [==============================] - 29s 271us/sample - loss: 2.4847 - acc: 0.4303 - val_loss: 3.9521 - val_acc: 0.1282\n",
      "Epoch 6/20\n",
      "105864/105864 [==============================] - 30s 279us/sample - loss: 2.3679 - acc: 0.4551 - val_loss: 3.8494 - val_acc: 0.1369\n",
      "Epoch 7/20\n",
      " 55232/105864 [==============>...............] - ETA: 13s - loss: 2.2780 - acc: 0.4733"
     ]
    },
    {
     "name": "stderr",
     "output_type": "stream",
     "text": [
      "IOPub message rate exceeded.\n",
      "The notebook server will temporarily stop sending output\n",
      "to the client in order to avoid crashing it.\n",
      "To change this limit, set the config variable\n",
      "`--NotebookApp.iopub_msg_rate_limit`.\n",
      "\n",
      "Current values:\n",
      "NotebookApp.iopub_msg_rate_limit=1000.0 (msgs/sec)\n",
      "NotebookApp.rate_limit_window=3.0 (secs)\n",
      "\n"
     ]
    },
    {
     "name": "stdout",
     "output_type": "stream",
     "text": [
      "105864/105864 [==============================] - 30s 282us/sample - loss: 2.0976 - acc: 0.5104 - val_loss: 3.9581 - val_acc: 0.1496\n",
      "Epoch 10/20\n",
      "105864/105864 [==============================] - 29s 276us/sample - loss: 2.0346 - acc: 0.5223 - val_loss: 3.9248 - val_acc: 0.1599\n",
      "Epoch 11/20\n",
      " 30240/105864 [=======>......................] - ETA: 19s - loss: 1.9367 - acc: 0.5441"
     ]
    },
    {
     "name": "stderr",
     "output_type": "stream",
     "text": [
      "IOPub message rate exceeded.\n",
      "The notebook server will temporarily stop sending output\n",
      "to the client in order to avoid crashing it.\n",
      "To change this limit, set the config variable\n",
      "`--NotebookApp.iopub_msg_rate_limit`.\n",
      "\n",
      "Current values:\n",
      "NotebookApp.iopub_msg_rate_limit=1000.0 (msgs/sec)\n",
      "NotebookApp.rate_limit_window=3.0 (secs)\n",
      "\n"
     ]
    },
    {
     "name": "stdout",
     "output_type": "stream",
     "text": [
      "105864/105864 [==============================] - 30s 280us/sample - loss: 1.7443 - acc: 0.5819 - val_loss: 3.8436 - val_acc: 0.1819\n",
      "Epoch 16/20\n",
      "105864/105864 [==============================] - 30s 280us/sample - loss: 1.6916 - acc: 0.5932 - val_loss: 3.8351 - val_acc: 0.1897\n",
      "Epoch 17/20\n",
      "105864/105864 [==============================] - 30s 281us/sample - loss: 1.6569 - acc: 0.6004 - val_loss: 4.0804 - val_acc: 0.1716\n",
      "Epoch 18/20\n",
      "105864/105864 [==============================] - 29s 270us/sample - loss: 1.6168 - acc: 0.6108 - val_loss: 4.1017 - val_acc: 0.1567\n",
      "Epoch 19/20\n",
      " 20640/105864 [====>.........................] - ETA: 22s - loss: 1.5401 - acc: 0.6263"
     ]
    },
    {
     "name": "stderr",
     "output_type": "stream",
     "text": [
      "IOPub message rate exceeded.\n",
      "The notebook server will temporarily stop sending output\n",
      "to the client in order to avoid crashing it.\n",
      "To change this limit, set the config variable\n",
      "`--NotebookApp.iopub_msg_rate_limit`.\n",
      "\n",
      "Current values:\n",
      "NotebookApp.iopub_msg_rate_limit=1000.0 (msgs/sec)\n",
      "NotebookApp.rate_limit_window=3.0 (secs)\n",
      "\n"
     ]
    },
    {
     "name": "stdout",
     "output_type": "stream",
     "text": [
      "105864/105864 [==============================] - 30s 282us/sample - loss: 3.7019 - acc: 0.1715 - val_loss: 4.0559 - val_acc: 0.1007\n",
      "Epoch 2/20\n",
      " 98464/105864 [==========================>...] - ETA: 1s - loss: 3.1276 - acc: 0.2917"
     ]
    },
    {
     "name": "stderr",
     "output_type": "stream",
     "text": [
      "IOPub message rate exceeded.\n",
      "The notebook server will temporarily stop sending output\n",
      "to the client in order to avoid crashing it.\n",
      "To change this limit, set the config variable\n",
      "`--NotebookApp.iopub_msg_rate_limit`.\n",
      "\n",
      "Current values:\n",
      "NotebookApp.iopub_msg_rate_limit=1000.0 (msgs/sec)\n",
      "NotebookApp.rate_limit_window=3.0 (secs)\n",
      "\n"
     ]
    },
    {
     "name": "stdout",
     "output_type": "stream",
     "text": [
      "105864/105864 [==============================] - 29s 275us/sample - loss: 2.5055 - acc: 0.4232 - val_loss: 4.2037 - val_acc: 0.0865\n",
      "Epoch 7/20\n",
      "105864/105864 [==============================] - 29s 270us/sample - loss: 2.4203 - acc: 0.4428 - val_loss: 4.0117 - val_acc: 0.1230\n",
      "Epoch 8/20\n",
      "105864/105864 [==============================] - 29s 270us/sample - loss: 2.3334 - acc: 0.4604 - val_loss: 4.0446 - val_acc: 0.1193\n",
      "Epoch 9/20\n",
      "105864/105864 [==============================] - 29s 275us/sample - loss: 2.2491 - acc: 0.4785 - val_loss: 4.0962 - val_acc: 0.1135\n",
      "Epoch 10/20\n",
      " 93472/105864 [=========================>....] - ETA: 3s - loss: 2.1847 - acc: 0.4907"
     ]
    },
    {
     "name": "stderr",
     "output_type": "stream",
     "text": [
      "IOPub message rate exceeded.\n",
      "The notebook server will temporarily stop sending output\n",
      "to the client in order to avoid crashing it.\n",
      "To change this limit, set the config variable\n",
      "`--NotebookApp.iopub_msg_rate_limit`.\n",
      "\n",
      "Current values:\n",
      "NotebookApp.iopub_msg_rate_limit=1000.0 (msgs/sec)\n",
      "NotebookApp.rate_limit_window=3.0 (secs)\n",
      "\n"
     ]
    },
    {
     "name": "stdout",
     "output_type": "stream",
     "text": [
      "105864/105864 [==============================] - 29s 275us/sample - loss: 2.0621 - acc: 0.5160 - val_loss: 3.8985 - val_acc: 0.1676\n",
      "Epoch 13/20\n",
      "105864/105864 [==============================] - 29s 272us/sample - loss: 1.9984 - acc: 0.5274 - val_loss: 4.0326 - val_acc: 0.1443\n",
      "Epoch 14/20\n",
      " 88352/105864 [========================>.....] - ETA: 4s - loss: 1.9392 - acc: 0.5397"
     ]
    },
    {
     "name": "stderr",
     "output_type": "stream",
     "text": [
      "IOPub message rate exceeded.\n",
      "The notebook server will temporarily stop sending output\n",
      "to the client in order to avoid crashing it.\n",
      "To change this limit, set the config variable\n",
      "`--NotebookApp.iopub_msg_rate_limit`.\n",
      "\n",
      "Current values:\n",
      "NotebookApp.iopub_msg_rate_limit=1000.0 (msgs/sec)\n",
      "NotebookApp.rate_limit_window=3.0 (secs)\n",
      "\n"
     ]
    },
    {
     "name": "stdout",
     "output_type": "stream",
     "text": [
      "105864/105864 [==============================] - 29s 272us/sample - loss: 1.7740 - acc: 0.5751 - val_loss: 4.2186 - val_acc: 0.1530\n",
      "Epoch 19/20\n",
      "105864/105864 [==============================] - 29s 272us/sample - loss: 1.7348 - acc: 0.5819 - val_loss: 4.2855 - val_acc: 0.1522\n",
      "Epoch 20/20\n",
      "105864/105864 [==============================] - 29s 271us/sample - loss: 1.6969 - acc: 0.5888 - val_loss: 4.0917 - val_acc: 0.1492\n",
      "25342/25342 [==============================] - 1s 46us/sample\n",
      "n. layers= 0  Encoder= Snake  Noise= 200  Padding= random\n",
      "(105864, 625)\n",
      "(17324, 625)\n",
      "(25342, 625)\n",
      "_________________________________________________________________\n",
      "Layer (type)                 Output Shape              Param #   \n",
      "=================================================================\n",
      "dense (Dense)                (None, 500)               313000    \n",
      "_________________________________________________________________\n",
      "dense_1 (Dense)              (None, 1000)              501000    \n",
      "_________________________________________________________________\n",
      "dense_2 (Dense)              (None, 100)               100100    \n",
      "_________________________________________________________________\n",
      "dropout (Dropout)            (None, 100)               0         \n",
      "_________________________________________________________________\n",
      "dense_3 (Dense)              (None, 88)                8888      \n",
      "=================================================================\n",
      "Total params: 922,988\n",
      "Trainable params: 922,988\n",
      "Non-trainable params: 0\n",
      "_________________________________________________________________\n",
      "None\n",
      "Train on 105864 samples, validate on 17324 samples\n",
      "Epoch 1/20\n",
      "105864/105864 [==============================] - 29s 275us/sample - loss: 3.7619 - acc: 0.1590 - val_loss: 4.1533 - val_acc: 0.0754\n",
      "Epoch 2/20\n",
      " 73696/105864 [===================>..........] - ETA: 8s - loss: 3.2341 - acc: 0.2667"
     ]
    },
    {
     "name": "stderr",
     "output_type": "stream",
     "text": [
      "IOPub message rate exceeded.\n",
      "The notebook server will temporarily stop sending output\n",
      "to the client in order to avoid crashing it.\n",
      "To change this limit, set the config variable\n",
      "`--NotebookApp.iopub_msg_rate_limit`.\n",
      "\n",
      "Current values:\n",
      "NotebookApp.iopub_msg_rate_limit=1000.0 (msgs/sec)\n",
      "NotebookApp.rate_limit_window=3.0 (secs)\n",
      "\n"
     ]
    },
    {
     "name": "stdout",
     "output_type": "stream",
     "text": [
      "105864/105864 [==============================] - 28s 269us/sample - loss: 2.8534 - acc: 0.3491 - val_loss: 3.9453 - val_acc: 0.1194\n",
      "Epoch 5/20\n",
      "105864/105864 [==============================] - 29s 271us/sample - loss: 2.7386 - acc: 0.3753 - val_loss: 4.1169 - val_acc: 0.0999\n",
      "Epoch 6/20\n",
      " 70016/105864 [==================>...........] - ETA: 9s - loss: 2.6282 - acc: 0.3951"
     ]
    },
    {
     "name": "stderr",
     "output_type": "stream",
     "text": [
      "IOPub message rate exceeded.\n",
      "The notebook server will temporarily stop sending output\n",
      "to the client in order to avoid crashing it.\n",
      "To change this limit, set the config variable\n",
      "`--NotebookApp.iopub_msg_rate_limit`.\n",
      "\n",
      "Current values:\n",
      "NotebookApp.iopub_msg_rate_limit=1000.0 (msgs/sec)\n",
      "NotebookApp.rate_limit_window=3.0 (secs)\n",
      "\n"
     ]
    },
    {
     "name": "stdout",
     "output_type": "stream",
     "text": [
      "105864/105864 [==============================] - 29s 274us/sample - loss: 2.4609 - acc: 0.4329 - val_loss: 3.9442 - val_acc: 0.1304\n",
      "Epoch 9/20\n",
      "105864/105864 [==============================] - 30s 279us/sample - loss: 2.3881 - acc: 0.4466 - val_loss: 4.0482 - val_acc: 0.1135\n",
      "Epoch 10/20\n",
      "105864/105864 [==============================] - 29s 273us/sample - loss: 2.3162 - acc: 0.4626 - val_loss: 3.9667 - val_acc: 0.1436\n",
      "Epoch 11/20\n",
      "105864/105864 [==============================] - 30s 283us/sample - loss: 2.2546 - acc: 0.4739 - val_loss: 4.0173 - val_acc: 0.1350\n",
      "Epoch 12/20\n",
      " 27808/105864 [======>.......................] - ETA: 21s - loss: 2.1807 - acc: 0.4897"
     ]
    },
    {
     "name": "stderr",
     "output_type": "stream",
     "text": [
      "IOPub message rate exceeded.\n",
      "The notebook server will temporarily stop sending output\n",
      "to the client in order to avoid crashing it.\n",
      "To change this limit, set the config variable\n",
      "`--NotebookApp.iopub_msg_rate_limit`.\n",
      "\n",
      "Current values:\n",
      "NotebookApp.iopub_msg_rate_limit=1000.0 (msgs/sec)\n",
      "NotebookApp.rate_limit_window=3.0 (secs)\n",
      "\n"
     ]
    },
    {
     "name": "stdout",
     "output_type": "stream",
     "text": [
      "105864/105864 [==============================] - 29s 270us/sample - loss: 1.9910 - acc: 0.5271 - val_loss: 4.0252 - val_acc: 0.1486\n",
      "Epoch 17/20\n",
      "105864/105864 [==============================] - 29s 272us/sample - loss: 1.9456 - acc: 0.5350 - val_loss: 4.1664 - val_acc: 0.1433\n",
      "Epoch 18/20\n",
      " 62176/105864 [================>.............] - ETA: 11s - loss: 1.8824 - acc: 0.5473"
     ]
    },
    {
     "name": "stderr",
     "output_type": "stream",
     "text": [
      "IOPub message rate exceeded.\n",
      "The notebook server will temporarily stop sending output\n",
      "to the client in order to avoid crashing it.\n",
      "To change this limit, set the config variable\n",
      "`--NotebookApp.iopub_msg_rate_limit`.\n",
      "\n",
      "Current values:\n",
      "NotebookApp.iopub_msg_rate_limit=1000.0 (msgs/sec)\n",
      "NotebookApp.rate_limit_window=3.0 (secs)\n",
      "\n"
     ]
    },
    {
     "name": "stdout",
     "output_type": "stream",
     "text": [
      "105864/105864 [==============================] - 28s 267us/sample - loss: 1.8166 - acc: 0.5595 - val_loss: 4.1932 - val_acc: 0.1479\n",
      "25342/25342 [==============================] - 1s 47us/sample\n",
      "n. layers= 0  Encoder= Morton  Noise= 0  Padding= random\n",
      "(105864, 256)\n",
      "(17324, 256)\n",
      "(25342, 256)\n",
      "_________________________________________________________________\n",
      "Layer (type)                 Output Shape              Param #   \n",
      "=================================================================\n",
      "dense (Dense)                (None, 500)               128500    \n",
      "_________________________________________________________________\n",
      "dense_1 (Dense)              (None, 1000)              501000    \n",
      "_________________________________________________________________\n",
      "dense_2 (Dense)              (None, 100)               100100    \n",
      "_________________________________________________________________\n",
      "dropout (Dropout)            (None, 100)               0         \n",
      "_________________________________________________________________\n",
      "dense_3 (Dense)              (None, 88)                8888      \n",
      "=================================================================\n",
      "Total params: 738,488\n",
      "Trainable params: 738,488\n",
      "Non-trainable params: 0\n",
      "_________________________________________________________________\n",
      "None\n",
      "Train on 105864 samples, validate on 17324 samples\n",
      "Epoch 1/20\n",
      "105864/105864 [==============================] - 29s 276us/sample - loss: 1.2881 - acc: 0.6986 - val_loss: 3.2229 - val_acc: 0.4347\n",
      "Epoch 2/20\n",
      "105864/105864 [==============================] - 29s 276us/sample - loss: 0.7380 - acc: 0.8241 - val_loss: 3.2977 - val_acc: 0.4134\n",
      "Epoch 3/20\n",
      "105864/105864 [==============================] - 29s 270us/sample - loss: 0.6193 - acc: 0.8515 - val_loss: 3.0987 - val_acc: 0.4360\n",
      "Epoch 4/20\n",
      " 21216/105864 [=====>........................] - ETA: 20s - loss: 0.5424 - acc: 0.8681"
     ]
    },
    {
     "name": "stderr",
     "output_type": "stream",
     "text": [
      "IOPub message rate exceeded.\n",
      "The notebook server will temporarily stop sending output\n",
      "to the client in order to avoid crashing it.\n",
      "To change this limit, set the config variable\n",
      "`--NotebookApp.iopub_msg_rate_limit`.\n",
      "\n",
      "Current values:\n",
      "NotebookApp.iopub_msg_rate_limit=1000.0 (msgs/sec)\n",
      "NotebookApp.rate_limit_window=3.0 (secs)\n",
      "\n"
     ]
    },
    {
     "name": "stdout",
     "output_type": "stream",
     "text": [
      "105864/105864 [==============================] - 29s 275us/sample - loss: 0.4098 - acc: 0.8996 - val_loss: 3.5860 - val_acc: 0.4920\n",
      "Epoch 9/20\n",
      "105864/105864 [==============================] - 29s 270us/sample - loss: 0.3853 - acc: 0.9040 - val_loss: 3.5225 - val_acc: 0.4723\n",
      "Epoch 10/20\n",
      " 50336/105864 [=============>................] - ETA: 14s - loss: 0.3509 - acc: 0.9134"
     ]
    },
    {
     "name": "stderr",
     "output_type": "stream",
     "text": [
      "IOPub message rate exceeded.\n",
      "The notebook server will temporarily stop sending output\n",
      "to the client in order to avoid crashing it.\n",
      "To change this limit, set the config variable\n",
      "`--NotebookApp.iopub_msg_rate_limit`.\n",
      "\n",
      "Current values:\n",
      "NotebookApp.iopub_msg_rate_limit=1000.0 (msgs/sec)\n",
      "NotebookApp.rate_limit_window=3.0 (secs)\n",
      "\n"
     ]
    },
    {
     "name": "stdout",
     "output_type": "stream",
     "text": [
      "105864/105864 [==============================] - 29s 276us/sample - loss: 0.3338 - acc: 0.9175 - val_loss: 3.4131 - val_acc: 0.5076\n",
      "Epoch 13/20\n",
      "105864/105864 [==============================] - 29s 278us/sample - loss: 0.3344 - acc: 0.9182 - val_loss: 3.5885 - val_acc: 0.4965\n",
      "Epoch 14/20\n",
      "105864/105864 [==============================] - 29s 278us/sample - loss: 0.3193 - acc: 0.9221 - val_loss: 3.5384 - val_acc: 0.4801\n",
      "Epoch 15/20\n",
      "105864/105864 [==============================] - 29s 273us/sample - loss: 0.3107 - acc: 0.9245 - val_loss: 3.9904 - val_acc: 0.4801\n",
      "Epoch 16/20\n",
      "  8928/105864 [=>............................] - ETA: 25s - loss: 0.2775 - acc: 0.9278"
     ]
    },
    {
     "name": "stderr",
     "output_type": "stream",
     "text": [
      "IOPub message rate exceeded.\n",
      "The notebook server will temporarily stop sending output\n",
      "to the client in order to avoid crashing it.\n",
      "To change this limit, set the config variable\n",
      "`--NotebookApp.iopub_msg_rate_limit`.\n",
      "\n",
      "Current values:\n",
      "NotebookApp.iopub_msg_rate_limit=1000.0 (msgs/sec)\n",
      "NotebookApp.rate_limit_window=3.0 (secs)\n",
      "\n"
     ]
    },
    {
     "name": "stdout",
     "output_type": "stream",
     "text": [
      "105864/105864 [==============================] - 30s 279us/sample - loss: 0.2947 - acc: 0.9321 - val_loss: 3.7694 - val_acc: 0.5181\n",
      "25342/25342 [==============================] - 1s 45us/sample\n",
      "n. layers= 0  Encoder= Morton  Noise= 25  Padding= random\n",
      "(105864, 256)\n",
      "(17324, 256)\n",
      "(25342, 256)\n",
      "_________________________________________________________________\n",
      "Layer (type)                 Output Shape              Param #   \n",
      "=================================================================\n",
      "dense (Dense)                (None, 500)               128500    \n",
      "_________________________________________________________________\n",
      "dense_1 (Dense)              (None, 1000)              501000    \n",
      "_________________________________________________________________\n",
      "dense_2 (Dense)              (None, 100)               100100    \n",
      "_________________________________________________________________\n",
      "dropout (Dropout)            (None, 100)               0         \n",
      "_________________________________________________________________\n",
      "dense_3 (Dense)              (None, 88)                8888      \n",
      "=================================================================\n",
      "Total params: 738,488\n",
      "Trainable params: 738,488\n",
      "Non-trainable params: 0\n",
      "_________________________________________________________________\n",
      "None\n",
      "Train on 105864 samples, validate on 17324 samples\n",
      "Epoch 1/20\n",
      "105864/105864 [==============================] - 29s 276us/sample - loss: 2.2534 - acc: 0.4918 - val_loss: 3.4556 - val_acc: 0.2842\n",
      "Epoch 2/20\n",
      " 13952/105864 [==>...........................] - ETA: 24s - loss: 1.6535 - acc: 0.6210"
     ]
    },
    {
     "name": "stderr",
     "output_type": "stream",
     "text": [
      "IOPub message rate exceeded.\n",
      "The notebook server will temporarily stop sending output\n",
      "to the client in order to avoid crashing it.\n",
      "To change this limit, set the config variable\n",
      "`--NotebookApp.iopub_msg_rate_limit`.\n",
      "\n",
      "Current values:\n",
      "NotebookApp.iopub_msg_rate_limit=1000.0 (msgs/sec)\n",
      "NotebookApp.rate_limit_window=3.0 (secs)\n",
      "\n"
     ]
    },
    {
     "name": "stdout",
     "output_type": "stream",
     "text": [
      "105864/105864 [==============================] - 30s 280us/sample - loss: 1.3050 - acc: 0.6966 - val_loss: 3.0312 - val_acc: 0.3488\n",
      "Epoch 4/20\n",
      "105864/105864 [==============================] - 29s 278us/sample - loss: 1.1311 - acc: 0.7324 - val_loss: 3.1066 - val_acc: 0.3462\n",
      "Epoch 5/20\n",
      "105864/105864 [==============================] - 28s 269us/sample - loss: 1.0100 - acc: 0.7601 - val_loss: 3.0948 - val_acc: 0.3616\n",
      "Epoch 6/20\n",
      "105864/105864 [==============================] - 29s 275us/sample - loss: 0.9232 - acc: 0.7785 - val_loss: 3.5343 - val_acc: 0.3521\n",
      "Epoch 7/20\n",
      " 78400/105864 [=====================>........] - ETA: 7s - loss: 0.8584 - acc: 0.7912"
     ]
    },
    {
     "name": "stderr",
     "output_type": "stream",
     "text": [
      "IOPub message rate exceeded.\n",
      "The notebook server will temporarily stop sending output\n",
      "to the client in order to avoid crashing it.\n",
      "To change this limit, set the config variable\n",
      "`--NotebookApp.iopub_msg_rate_limit`.\n",
      "\n",
      "Current values:\n",
      "NotebookApp.iopub_msg_rate_limit=1000.0 (msgs/sec)\n",
      "NotebookApp.rate_limit_window=3.0 (secs)\n",
      "\n"
     ]
    },
    {
     "name": "stdout",
     "output_type": "stream",
     "text": [
      "105864/105864 [==============================] - 30s 281us/sample - loss: 0.6746 - acc: 0.8323 - val_loss: 3.2497 - val_acc: 0.3950\n",
      "Epoch 12/20\n",
      "105864/105864 [==============================] - 29s 275us/sample - loss: 0.6569 - acc: 0.8362 - val_loss: 3.0852 - val_acc: 0.4089\n",
      "Epoch 13/20\n",
      " 81760/105864 [======================>.......] - ETA: 6s - loss: 0.6188 - acc: 0.8456"
     ]
    },
    {
     "name": "stderr",
     "output_type": "stream",
     "text": [
      "IOPub message rate exceeded.\n",
      "The notebook server will temporarily stop sending output\n",
      "to the client in order to avoid crashing it.\n",
      "To change this limit, set the config variable\n",
      "`--NotebookApp.iopub_msg_rate_limit`.\n",
      "\n",
      "Current values:\n",
      "NotebookApp.iopub_msg_rate_limit=1000.0 (msgs/sec)\n",
      "NotebookApp.rate_limit_window=3.0 (secs)\n",
      "\n"
     ]
    },
    {
     "name": "stdout",
     "output_type": "stream",
     "text": [
      "105864/105864 [==============================] - 29s 274us/sample - loss: 0.5877 - acc: 0.8531 - val_loss: 3.2415 - val_acc: 0.4126\n",
      "Epoch 16/20\n",
      "105864/105864 [==============================] - 29s 275us/sample - loss: 0.5791 - acc: 0.8547 - val_loss: 3.1686 - val_acc: 0.4284\n",
      "Epoch 17/20\n",
      "105864/105864 [==============================] - 29s 277us/sample - loss: 0.5628 - acc: 0.8593 - val_loss: 3.7326 - val_acc: 0.4006\n",
      "Epoch 18/20\n",
      "105864/105864 [==============================] - 29s 275us/sample - loss: 0.5526 - acc: 0.8621 - val_loss: 3.1398 - val_acc: 0.4465\n",
      "Epoch 19/20\n",
      " 42816/105864 [===========>..................] - ETA: 16s - loss: 0.5115 - acc: 0.8707"
     ]
    },
    {
     "name": "stderr",
     "output_type": "stream",
     "text": [
      "IOPub message rate exceeded.\n",
      "The notebook server will temporarily stop sending output\n",
      "to the client in order to avoid crashing it.\n",
      "To change this limit, set the config variable\n",
      "`--NotebookApp.iopub_msg_rate_limit`.\n",
      "\n",
      "Current values:\n",
      "NotebookApp.iopub_msg_rate_limit=1000.0 (msgs/sec)\n",
      "NotebookApp.rate_limit_window=3.0 (secs)\n",
      "\n"
     ]
    },
    {
     "name": "stdout",
     "output_type": "stream",
     "text": [
      "105864/105864 [==============================] - 30s 280us/sample - loss: 2.2431 - acc: 0.4798 - val_loss: 3.7335 - val_acc: 0.2018\n",
      "Epoch 4/20\n",
      "105864/105864 [==============================] - 29s 278us/sample - loss: 2.0493 - acc: 0.5225 - val_loss: 3.5637 - val_acc: 0.2120\n",
      "Epoch 5/20\n",
      " 39584/105864 [==========>...................] - ETA: 17s - loss: 1.9071 - acc: 0.5547"
     ]
    },
    {
     "name": "stderr",
     "output_type": "stream",
     "text": [
      "IOPub message rate exceeded.\n",
      "The notebook server will temporarily stop sending output\n",
      "to the client in order to avoid crashing it.\n",
      "To change this limit, set the config variable\n",
      "`--NotebookApp.iopub_msg_rate_limit`.\n",
      "\n",
      "Current values:\n",
      "NotebookApp.iopub_msg_rate_limit=1000.0 (msgs/sec)\n",
      "NotebookApp.rate_limit_window=3.0 (secs)\n",
      "\n"
     ]
    },
    {
     "name": "stdout",
     "output_type": "stream",
     "text": [
      "105864/105864 [==============================] - 30s 282us/sample - loss: 1.7744 - acc: 0.5806 - val_loss: 3.6424 - val_acc: 0.2229\n",
      "Epoch 7/20\n",
      "105864/105864 [==============================] - 29s 278us/sample - loss: 1.6759 - acc: 0.6052 - val_loss: 3.3564 - val_acc: 0.2811\n",
      "Epoch 8/20\n",
      "105864/105864 [==============================] - 30s 280us/sample - loss: 1.5772 - acc: 0.6266 - val_loss: 3.5614 - val_acc: 0.2456\n",
      "Epoch 9/20\n",
      "105864/105864 [==============================] - 30s 282us/sample - loss: 1.5052 - acc: 0.6419 - val_loss: 3.4766 - val_acc: 0.2450\n",
      "Epoch 10/20\n",
      " 97824/105864 [==========================>...] - ETA: 2s - loss: 1.4282 - acc: 0.6585"
     ]
    },
    {
     "name": "stderr",
     "output_type": "stream",
     "text": [
      "IOPub message rate exceeded.\n",
      "The notebook server will temporarily stop sending output\n",
      "to the client in order to avoid crashing it.\n",
      "To change this limit, set the config variable\n",
      "`--NotebookApp.iopub_msg_rate_limit`.\n",
      "\n",
      "Current values:\n",
      "NotebookApp.iopub_msg_rate_limit=1000.0 (msgs/sec)\n",
      "NotebookApp.rate_limit_window=3.0 (secs)\n",
      "\n"
     ]
    },
    {
     "name": "stdout",
     "output_type": "stream",
     "text": [
      "105864/105864 [==============================] - 29s 276us/sample - loss: 1.1649 - acc: 0.7152 - val_loss: 3.6681 - val_acc: 0.2782\n",
      "Epoch 16/20\n",
      "105864/105864 [==============================] - 29s 275us/sample - loss: 1.1137 - acc: 0.7270 - val_loss: 3.6471 - val_acc: 0.2771\n",
      "Epoch 17/20\n",
      "  4416/105864 [>.............................] - ETA: 26s - loss: 1.0326 - acc: 0.7391"
     ]
    },
    {
     "name": "stderr",
     "output_type": "stream",
     "text": [
      "IOPub message rate exceeded.\n",
      "The notebook server will temporarily stop sending output\n",
      "to the client in order to avoid crashing it.\n",
      "To change this limit, set the config variable\n",
      "`--NotebookApp.iopub_msg_rate_limit`.\n",
      "\n",
      "Current values:\n",
      "NotebookApp.iopub_msg_rate_limit=1000.0 (msgs/sec)\n",
      "NotebookApp.rate_limit_window=3.0 (secs)\n",
      "\n"
     ]
    },
    {
     "name": "stdout",
     "output_type": "stream",
     "text": [
      "105864/105864 [==============================] - 30s 283us/sample - loss: 1.0548 - acc: 0.7412 - val_loss: 3.7682 - val_acc: 0.2761\n",
      "Epoch 19/20\n",
      "105864/105864 [==============================] - 30s 282us/sample - loss: 1.0106 - acc: 0.7500 - val_loss: 4.1701 - val_acc: 0.2591\n",
      "Epoch 20/20\n",
      "105864/105864 [==============================] - 30s 281us/sample - loss: 0.9943 - acc: 0.7541 - val_loss: 3.8913 - val_acc: 0.3130\n",
      "25342/25342 [==============================] - 1s 48us/sample\n",
      "n. layers= 0  Encoder= Morton  Noise= 75  Padding= random\n",
      "(105864, 1024)\n",
      "(17324, 1024)\n",
      "(25342, 1024)\n",
      "_________________________________________________________________\n",
      "Layer (type)                 Output Shape              Param #   \n",
      "=================================================================\n",
      "dense (Dense)                (None, 500)               512500    \n",
      "_________________________________________________________________\n",
      "dense_1 (Dense)              (None, 1000)              501000    \n",
      "_________________________________________________________________\n",
      "dense_2 (Dense)              (None, 100)               100100    \n",
      "_________________________________________________________________\n",
      "dropout (Dropout)            (None, 100)               0         \n",
      "_________________________________________________________________\n",
      "dense_3 (Dense)              (None, 88)                8888      \n",
      "=================================================================\n",
      "Total params: 1,122,488\n",
      "Trainable params: 1,122,488\n",
      "Non-trainable params: 0\n",
      "_________________________________________________________________\n",
      "None\n",
      "Train on 105864 samples, validate on 17324 samples\n",
      "Epoch 1/20\n",
      "105864/105864 [==============================] - 30s 281us/sample - loss: 3.6034 - acc: 0.1878 - val_loss: 3.8639 - val_acc: 0.1212\n",
      "Epoch 2/20\n",
      " 49760/105864 [=============>................] - ETA: 14s - loss: 2.8606 - acc: 0.3411"
     ]
    },
    {
     "name": "stderr",
     "output_type": "stream",
     "text": [
      "IOPub message rate exceeded.\n",
      "The notebook server will temporarily stop sending output\n",
      "to the client in order to avoid crashing it.\n",
      "To change this limit, set the config variable\n",
      "`--NotebookApp.iopub_msg_rate_limit`.\n",
      "\n",
      "Current values:\n",
      "NotebookApp.iopub_msg_rate_limit=1000.0 (msgs/sec)\n",
      "NotebookApp.rate_limit_window=3.0 (secs)\n",
      "\n"
     ]
    },
    {
     "name": "stdout",
     "output_type": "stream",
     "text": [
      "105864/105864 [==============================] - 30s 282us/sample - loss: 2.0531 - acc: 0.5218 - val_loss: 3.9195 - val_acc: 0.1470\n",
      "Epoch 7/20\n",
      "105864/105864 [==============================] - 30s 280us/sample - loss: 1.9495 - acc: 0.5424 - val_loss: 3.7408 - val_acc: 0.2023\n",
      "Epoch 8/20\n",
      " 69056/105864 [==================>...........] - ETA: 9s - loss: 1.8457 - acc: 0.5646"
     ]
    },
    {
     "name": "stderr",
     "output_type": "stream",
     "text": [
      "IOPub message rate exceeded.\n",
      "The notebook server will temporarily stop sending output\n",
      "to the client in order to avoid crashing it.\n",
      "To change this limit, set the config variable\n",
      "`--NotebookApp.iopub_msg_rate_limit`.\n",
      "\n",
      "Current values:\n",
      "NotebookApp.iopub_msg_rate_limit=1000.0 (msgs/sec)\n",
      "NotebookApp.rate_limit_window=3.0 (secs)\n",
      "\n"
     ]
    },
    {
     "name": "stdout",
     "output_type": "stream",
     "text": [
      " 12288/105864 [==>...........................] - ETA: 23s - loss: 1.7142 - acc: 0.5886"
     ]
    }
   ],
   "source": [
    "from utils.ExpConfiguration import *\n",
    "from utils.modelUtils import *\n",
    "import numpy as np\n",
    "from sklearn.utils import shuffle\n",
    "import tensorflow as tf\n",
    "from tensorflow import keras\n",
    "from sklearn.metrics import f1_score\n",
    "from numpy.random import seed\n",
    "seed(1)\n",
    "from tensorflow import set_random_seed\n",
    "set_random_seed(2)\n",
    "\n",
    "\n",
    "padd = 'random' # CHANGE HERE to select other padding schemas (new, constant, random)\n",
    "\n",
    "batch_size = 32\n",
    "epochs = 20\n",
    "\n",
    "# where results are stored\n",
    "v_acc = {}\n",
    "\n",
    "for nl in nlayers:\n",
    "    venc = {}\n",
    "    for en in seqEncoders:\n",
    "        vbnoise = {}\n",
    "        for bn in bnoise:\n",
    "            print('n. layers=',nl,' Encoder=',en['filename'],' Noise=',str(bn), ' Padding=',padd)\n",
    "            train_seq=np.load('train_' + en['filename'] + '_' + padd + '_' + str(bn) + '_seq.npy')\n",
    "            val_seq=np.load('val_' + en['filename'] + '_' + padd + '_' + str(bn) + '_seq.npy')\n",
    "            test_seq=np.load('test_' + en['filename'] + '_' + padd + '_' + str(bn) + '_seq.npy')\n",
    "\n",
    "            if (nl>0):\n",
    "                train_seq = keras.utils.to_categorical(train_seq)\n",
    "                val_seq = keras.utils.to_categorical(val_seq)\n",
    "                test_seq = keras.utils.to_categorical(test_seq)\n",
    "            else:\n",
    "                train_seq = train_seq.reshape((-1,np.prod(train_seq.shape[1:])))\n",
    "                val_seq = val_seq.reshape((-1,np.prod(val_seq.shape[1:])))\n",
    "                test_seq = test_seq.reshape((-1,np.prod(test_seq.shape[1:])))\n",
    "                nmax = np.max(train_seq)\n",
    "                train_seq = train_seq/nmax\n",
    "                val_seq = val_seq/nmax\n",
    "                test_seq = test_seq/nmax\n",
    "\n",
    "            tf.keras.backend.clear_session()\n",
    "            print(train_seq.shape)\n",
    "            print(val_seq.shape)\n",
    "            print(test_seq.shape)\n",
    "            if (en['filename'] in ['1mer','2mer','3mer']):\n",
    "                m=buildCNNModel(inshape=train_seq.shape[1:],num_classes=num_classes,nlayers=nl,cnndim=1)\n",
    "            else:\n",
    "                m=buildCNNModel(inshape=train_seq.shape[1:],num_classes=num_classes,nlayers=nl,cnndim=2)\n",
    "            print(m.summary())\n",
    "            m.compile(optimizer=keras.optimizers.Adam(lr=0.001),\n",
    "                  loss='categorical_crossentropy',\n",
    "                  metrics=['accuracy'])\n",
    "            m.fit(train_seq, train_labels_bin,verbose=1,\n",
    "                  batch_size=batch_size,shuffle=True,\n",
    "                  epochs=epochs,#validation_split=0.33,\n",
    "                  validation_data=(val_seq, val_labels_bin))\n",
    "\n",
    "            pred = m.predict(test_seq, verbose=1)\n",
    "            predicted = np.argmax(pred, axis=1)\n",
    "            \n",
    "            vbnoise.update({str(bn) : predicted})\n",
    "        venc.update({en['filename'] : vbnoise})\n",
    "    v_acc.update({str(nl) : venc})\n",
    "\n",
    "\n"
   ]
  },
  {
   "cell_type": "code",
   "execution_count": null,
   "metadata": {},
   "outputs": [],
   "source": [
    "import pickle\n",
    "\n",
    "# save results on file\n",
    "f = open('results/Rfam2Novel_' + padd + '.pckl', 'wb')\n",
    "pickle.dump(v_acc, f)\n",
    "f.close()\n",
    "\n"
   ]
  },
  {
   "cell_type": "code",
   "execution_count": null,
   "metadata": {},
   "outputs": [],
   "source": []
  },
  {
   "cell_type": "code",
   "execution_count": null,
   "metadata": {},
   "outputs": [],
   "source": []
  }
 ],
 "metadata": {
  "kernelspec": {
   "display_name": "Python 3",
   "language": "python",
   "name": "python3"
  },
  "language_info": {
   "codemirror_mode": {
    "name": "ipython",
    "version": 3
   },
   "file_extension": ".py",
   "mimetype": "text/x-python",
   "name": "python",
   "nbconvert_exporter": "python",
   "pygments_lexer": "ipython3",
   "version": "3.6.9"
  }
 },
 "nbformat": 4,
 "nbformat_minor": 2
}
